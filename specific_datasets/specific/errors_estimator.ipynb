{
 "cells": [
  {
   "cell_type": "code",
   "execution_count": 257,
   "metadata": {
    "collapsed": true,
    "ExecuteTime": {
     "end_time": "2024-02-24T17:53:08.644303Z",
     "start_time": "2024-02-24T17:53:08.598683Z"
    }
   },
   "outputs": [],
   "source": [
    "import pandas as pd\n",
    "import numpy as np"
   ]
  },
  {
   "cell_type": "code",
   "execution_count": 258,
   "outputs": [],
   "source": [
    "df_pos = pd.read_csv('../positive/fixed_vol_with_sub_3.csv')"
   ],
   "metadata": {
    "collapsed": false,
    "ExecuteTime": {
     "end_time": "2024-02-24T17:53:08.673878Z",
     "start_time": "2024-02-24T17:53:08.618623Z"
    }
   }
  },
  {
   "cell_type": "code",
   "execution_count": 259,
   "outputs": [
    {
     "data": {
      "text/plain": "(300, 7)"
     },
     "execution_count": 259,
     "metadata": {},
     "output_type": "execute_result"
    }
   ],
   "source": [
    "df_pos.shape"
   ],
   "metadata": {
    "collapsed": false,
    "ExecuteTime": {
     "end_time": "2024-02-24T17:53:08.674539Z",
     "start_time": "2024-02-24T17:53:08.642180Z"
    }
   }
  },
  {
   "cell_type": "code",
   "execution_count": 260,
   "outputs": [],
   "source": [
    "vols = df_pos[['volatility', 'net_price']].to_dict()['volatility'].values()\n",
    "prices = df_pos[['volatility', 'net_price']].to_dict()['net_price'].values()\n",
    "mc_prices = df_pos[['volatility', 'monte_carlo_price']].to_dict()['monte_carlo_price'].values()\n",
    "\n",
    "net_price_to_vol_map = dict(zip(prices, vols))\n",
    "mc_price_to_vol_map = dict(zip(mc_prices, vols))"
   ],
   "metadata": {
    "collapsed": false,
    "ExecuteTime": {
     "end_time": "2024-02-24T17:53:08.674718Z",
     "start_time": "2024-02-24T17:53:08.656758Z"
    }
   }
  },
  {
   "cell_type": "code",
   "execution_count": 261,
   "outputs": [],
   "source": [
    "se_list = []\n",
    "\n",
    "for price, vol in net_price_to_vol_map.items():\n",
    "  if price in mc_price_to_vol_map:\n",
    "      se_list.append((net_price_to_vol_map[price] - mc_price_to_vol_map[price]) ** 2)"
   ],
   "metadata": {
    "collapsed": false,
    "ExecuteTime": {
     "end_time": "2024-02-24T17:53:08.687539Z",
     "start_time": "2024-02-24T17:53:08.677787Z"
    }
   }
  },
  {
   "cell_type": "code",
   "execution_count": 262,
   "outputs": [
    {
     "name": "stdout",
     "output_type": "stream",
     "text": [
      "0.02582090901004965\n"
     ]
    }
   ],
   "source": [
    "print(np.array(se_list).mean() ** 0.5)"
   ],
   "metadata": {
    "collapsed": false,
    "ExecuteTime": {
     "end_time": "2024-02-24T17:53:08.711109Z",
     "start_time": "2024-02-24T17:53:08.687891Z"
    }
   }
  },
  {
   "cell_type": "markdown",
   "source": [
    "RMSE between net vol and several vols of MC +- CI"
   ],
   "metadata": {
    "collapsed": false
   }
  },
  {
   "cell_type": "code",
   "execution_count": 263,
   "outputs": [],
   "source": [
    "se_list = []\n",
    "\n",
    "for price, vol in net_price_to_vol_map.items():\n",
    "  for addition in (5 - np.arange(10)) * 1e-3:\n",
    "    if price + addition in mc_price_to_vol_map:\n",
    "      se_list.append((net_price_to_vol_map[price] - mc_price_to_vol_map[price + addition]) ** 2)"
   ],
   "metadata": {
    "collapsed": false,
    "ExecuteTime": {
     "end_time": "2024-02-24T17:53:08.746265Z",
     "start_time": "2024-02-24T17:53:08.700538Z"
    }
   }
  },
  {
   "cell_type": "code",
   "execution_count": 264,
   "outputs": [
    {
     "name": "stdout",
     "output_type": "stream",
     "text": [
      "0.031444511465340025\n"
     ]
    }
   ],
   "source": [
    "print(np.array(se_list).mean() ** 0.5)"
   ],
   "metadata": {
    "collapsed": false,
    "ExecuteTime": {
     "end_time": "2024-02-24T17:53:08.763904Z",
     "start_time": "2024-02-24T17:53:08.710378Z"
    }
   }
  },
  {
   "cell_type": "markdown",
   "source": [
    "Confidence interval for vol (only MC)"
   ],
   "metadata": {
    "collapsed": false
   }
  },
  {
   "cell_type": "code",
   "execution_count": 265,
   "outputs": [],
   "source": [
    "df_with_ci = pd.read_csv('../fixed_vol_dataset.csv')"
   ],
   "metadata": {
    "collapsed": false,
    "ExecuteTime": {
     "end_time": "2024-02-24T17:53:08.775712Z",
     "start_time": "2024-02-24T17:53:08.719528Z"
    }
   }
  },
  {
   "cell_type": "code",
   "execution_count": 266,
   "outputs": [],
   "source": [
    "vols = df_with_ci[['volatility', 'price_strike_ratio']].to_dict()['volatility'].values()\n",
    "mc_prices = df_with_ci[['volatility', 'price_strike_ratio']].to_dict()['price_strike_ratio'].values()\n",
    "\n",
    "mc_price_to_vol_map = dict(zip(mc_prices, vols))"
   ],
   "metadata": {
    "collapsed": false,
    "ExecuteTime": {
     "end_time": "2024-02-24T17:53:08.806583Z",
     "start_time": "2024-02-24T17:53:08.760258Z"
    }
   }
  },
  {
   "cell_type": "code",
   "execution_count": 267,
   "outputs": [],
   "source": [
    "ci_list = []"
   ],
   "metadata": {
    "collapsed": false,
    "ExecuteTime": {
     "end_time": "2024-02-24T17:53:08.814130Z",
     "start_time": "2024-02-24T17:53:08.775943Z"
    }
   }
  },
  {
   "cell_type": "code",
   "execution_count": 268,
   "outputs": [],
   "source": [
    "for index, row in df_with_ci.iterrows():\n",
    "  if row.left_ci in mc_price_to_vol_map and row.right_ci in mc_price_to_vol_map:\n",
    "    ci_list.append((mc_price_to_vol_map[row.left_ci] - mc_price_to_vol_map[row.right_ci]) ** 2)"
   ],
   "metadata": {
    "collapsed": false,
    "ExecuteTime": {
     "end_time": "2024-02-24T17:53:09.805822Z",
     "start_time": "2024-02-24T17:53:08.777754Z"
    }
   }
  },
  {
   "cell_type": "code",
   "execution_count": 269,
   "outputs": [
    {
     "data": {
      "text/plain": "9842"
     },
     "execution_count": 269,
     "metadata": {},
     "output_type": "execute_result"
    }
   ],
   "source": [
    "len(ci_list)"
   ],
   "metadata": {
    "collapsed": false,
    "ExecuteTime": {
     "end_time": "2024-02-24T17:53:09.814487Z",
     "start_time": "2024-02-24T17:53:09.807747Z"
    }
   }
  },
  {
   "cell_type": "code",
   "execution_count": 270,
   "outputs": [
    {
     "data": {
      "text/plain": "0.02269346095436702"
     },
     "execution_count": 270,
     "metadata": {},
     "output_type": "execute_result"
    }
   ],
   "source": [
    "np.array(ci_list).mean() ** 0.5"
   ],
   "metadata": {
    "collapsed": false,
    "ExecuteTime": {
     "end_time": "2024-02-24T17:53:09.824117Z",
     "start_time": "2024-02-24T17:53:09.818325Z"
    }
   }
  },
  {
   "cell_type": "code",
   "execution_count": 271,
   "outputs": [
    {
     "data": {
      "text/plain": "<Figure size 640x480 with 1 Axes>",
      "image/png": "[encoded data removed]"
     },
     "metadata": {},
     "output_type": "display_data"
    }
   ],
   "source": [
    "import numpy as np\n",
    "import matplotlib.pyplot as plt\n",
    "from scipy.stats import beta\n",
    "\n",
    "# Parameters for the beta distribution\n",
    "alpha = 0.4  # Shape parameter α\n",
    "beta_param = 0.5   # Shape parameter β\n",
    "\n",
    "# Generate random numbers from the beta distribution\n",
    "samples = beta.rvs(alpha, beta_param, size=1000)\n",
    "\n",
    "# Plot the histogram of the samples\n",
    "plt.hist(samples, bins=30, density=True, alpha=0.5, color='b')\n",
    "\n",
    "# Plot the probability density function (PDF) of the beta distribution\n",
    "x = np.linspace(0, 1, 1000)\n",
    "plt.plot(x, beta.pdf(x, alpha, beta_param), 'r-', lw=2)\n",
    "\n",
    "plt.title('Beta Distribution with α={}, β={}'.format(alpha, beta_param))\n",
    "plt.xlabel('Value')\n",
    "plt.ylabel('Density')\n",
    "plt.grid(True)\n",
    "plt.show()\n"
   ],
   "metadata": {
    "collapsed": false,
    "ExecuteTime": {
     "end_time": "2024-02-24T17:53:10.691359Z",
     "start_time": "2024-02-24T17:53:09.833371Z"
    }
   }
  },
  {
   "cell_type": "code",
   "execution_count": 272,
   "outputs": [
    {
     "data": {
      "text/plain": "array([0.97123995, 0.461958  , 0.58674321, 0.66406614, 0.97571564,\n       0.42466741, 0.43034844, 0.75282073, 0.48007219, 0.03629227])"
     },
     "execution_count": 272,
     "metadata": {},
     "output_type": "execute_result"
    }
   ],
   "source": [
    "beta.rvs(0.5, 0.5, size=10)"
   ],
   "metadata": {
    "collapsed": false,
    "ExecuteTime": {
     "end_time": "2024-02-24T17:53:10.700764Z",
     "start_time": "2024-02-24T17:53:10.693389Z"
    }
   }
  }
 ],
 "metadata": {
  "kernelspec": {
   "display_name": "Python 3",
   "language": "python",
   "name": "python3"
  },
  "language_info": {
   "codemirror_mode": {
    "name": "ipython",
    "version": 2
   },
   "file_extension": ".py",
   "mimetype": "text/x-python",
   "name": "python",
   "nbconvert_exporter": "python",
   "pygments_lexer": "ipython2",
   "version": "2.7.6"
  }
 },
 "nbformat": 4,
 "nbformat_minor": 0
}
