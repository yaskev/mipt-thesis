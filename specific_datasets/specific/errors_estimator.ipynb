{
 "cells": [
  {
   "cell_type": "code",
   "execution_count": 108,
   "metadata": {
    "collapsed": true,
    "ExecuteTime": {
     "end_time": "2024-02-11T17:52:03.332776Z",
     "start_time": "2024-02-11T17:52:03.310298Z"
    }
   },
   "outputs": [],
   "source": [
    "import pandas as pd\n",
    "import numpy as np"
   ]
  },
  {
   "cell_type": "code",
   "execution_count": 109,
   "outputs": [],
   "source": [
    "df_pos = pd.read_csv('../positive/fixed_vol_5.csv')"
   ],
   "metadata": {
    "collapsed": false,
    "ExecuteTime": {
     "end_time": "2024-02-11T17:52:03.360417Z",
     "start_time": "2024-02-11T17:52:03.319009Z"
    }
   }
  },
  {
   "cell_type": "code",
   "execution_count": 110,
   "outputs": [
    {
     "data": {
      "text/plain": "(1000, 7)"
     },
     "execution_count": 110,
     "metadata": {},
     "output_type": "execute_result"
    }
   ],
   "source": [
    "df_pos.shape"
   ],
   "metadata": {
    "collapsed": false,
    "ExecuteTime": {
     "end_time": "2024-02-11T17:52:03.361854Z",
     "start_time": "2024-02-11T17:52:03.327182Z"
    }
   }
  },
  {
   "cell_type": "code",
   "execution_count": 111,
   "outputs": [],
   "source": [
    "vols = df_pos[['volatility', 'net_price']].to_dict()['volatility'].values()\n",
    "prices = df_pos[['volatility', 'net_price']].to_dict()['net_price'].values()\n",
    "mc_prices = df_pos[['volatility', 'monte_carlo_price']].to_dict()['monte_carlo_price'].values()\n",
    "\n",
    "net_price_to_vol_map = dict(zip(prices, vols))\n",
    "mc_price_to_vol_map = dict(zip(mc_prices, vols))"
   ],
   "metadata": {
    "collapsed": false,
    "ExecuteTime": {
     "end_time": "2024-02-11T17:52:03.362840Z",
     "start_time": "2024-02-11T17:52:03.342520Z"
    }
   }
  },
  {
   "cell_type": "code",
   "execution_count": 112,
   "outputs": [],
   "source": [
    "se_list = []\n",
    "\n",
    "for price, vol in net_price_to_vol_map.items():\n",
    "  if price in mc_price_to_vol_map:\n",
    "      se_list.append((net_price_to_vol_map[price] - mc_price_to_vol_map[price]) ** 2)"
   ],
   "metadata": {
    "collapsed": false,
    "ExecuteTime": {
     "end_time": "2024-02-11T17:52:03.363273Z",
     "start_time": "2024-02-11T17:52:03.355162Z"
    }
   }
  },
  {
   "cell_type": "code",
   "execution_count": 113,
   "outputs": [
    {
     "name": "stdout",
     "output_type": "stream",
     "text": [
      "0.16513048375956105\n"
     ]
    }
   ],
   "source": [
    "print(np.array(se_list).mean() ** 0.5)"
   ],
   "metadata": {
    "collapsed": false,
    "ExecuteTime": {
     "end_time": "2024-02-11T17:52:03.372288Z",
     "start_time": "2024-02-11T17:52:03.362041Z"
    }
   }
  },
  {
   "cell_type": "markdown",
   "source": [
    "RMSE between net vol and several vols of MC +- CI"
   ],
   "metadata": {
    "collapsed": false
   }
  },
  {
   "cell_type": "code",
   "execution_count": 114,
   "outputs": [],
   "source": [
    "se_list = []\n",
    "\n",
    "for price, vol in net_price_to_vol_map.items():\n",
    "  for addition in (15 - np.arange(31)) * 1e-3:\n",
    "    if price + addition in mc_price_to_vol_map:\n",
    "      se_list.append((net_price_to_vol_map[price] - mc_price_to_vol_map[price + addition]) ** 2)"
   ],
   "metadata": {
    "collapsed": false,
    "ExecuteTime": {
     "end_time": "2024-02-11T17:52:03.378090Z",
     "start_time": "2024-02-11T17:52:03.370470Z"
    }
   }
  },
  {
   "cell_type": "code",
   "execution_count": 115,
   "outputs": [
    {
     "name": "stdout",
     "output_type": "stream",
     "text": [
      "0.26801722820629387\n"
     ]
    }
   ],
   "source": [
    "print(np.array(se_list).mean() ** 0.5)"
   ],
   "metadata": {
    "collapsed": false,
    "ExecuteTime": {
     "end_time": "2024-02-11T17:52:03.435267Z",
     "start_time": "2024-02-11T17:52:03.378332Z"
    }
   }
  },
  {
   "cell_type": "markdown",
   "source": [
    "Confidence interval for vol (only MC)"
   ],
   "metadata": {
    "collapsed": false
   }
  },
  {
   "cell_type": "code",
   "execution_count": 116,
   "outputs": [],
   "source": [
    "df_with_ci = pd.read_csv('../fixed_vol_dataset.csv')"
   ],
   "metadata": {
    "collapsed": false,
    "ExecuteTime": {
     "end_time": "2024-02-11T17:52:03.436297Z",
     "start_time": "2024-02-11T17:52:03.386660Z"
    }
   }
  },
  {
   "cell_type": "code",
   "execution_count": 117,
   "outputs": [],
   "source": [
    "vols = df_with_ci[['volatility', 'price_strike_ratio']].to_dict()['volatility'].values()\n",
    "mc_prices = df_with_ci[['volatility', 'price_strike_ratio']].to_dict()['price_strike_ratio'].values()\n",
    "\n",
    "mc_price_to_vol_map = dict(zip(mc_prices, vols))"
   ],
   "metadata": {
    "collapsed": false,
    "ExecuteTime": {
     "end_time": "2024-02-11T17:52:03.449751Z",
     "start_time": "2024-02-11T17:52:03.435700Z"
    }
   }
  },
  {
   "cell_type": "code",
   "execution_count": 118,
   "outputs": [],
   "source": [
    "ci_list = []"
   ],
   "metadata": {
    "collapsed": false,
    "ExecuteTime": {
     "end_time": "2024-02-11T17:52:03.450105Z",
     "start_time": "2024-02-11T17:52:03.441760Z"
    }
   }
  },
  {
   "cell_type": "code",
   "execution_count": 119,
   "outputs": [],
   "source": [
    "for index, row in df_with_ci.iterrows():\n",
    "  if row.left_ci in mc_price_to_vol_map and row.right_ci in mc_price_to_vol_map:\n",
    "    ci_list.append((mc_price_to_vol_map[row.left_ci] - mc_price_to_vol_map[row.right_ci]) ** 2)"
   ],
   "metadata": {
    "collapsed": false,
    "ExecuteTime": {
     "end_time": "2024-02-11T17:52:04.518164Z",
     "start_time": "2024-02-11T17:52:03.448466Z"
    }
   }
  },
  {
   "cell_type": "code",
   "execution_count": 120,
   "outputs": [
    {
     "data": {
      "text/plain": "9842"
     },
     "execution_count": 120,
     "metadata": {},
     "output_type": "execute_result"
    }
   ],
   "source": [
    "len(ci_list)"
   ],
   "metadata": {
    "collapsed": false,
    "ExecuteTime": {
     "end_time": "2024-02-11T17:52:04.526426Z",
     "start_time": "2024-02-11T17:52:04.519655Z"
    }
   }
  },
  {
   "cell_type": "code",
   "execution_count": 121,
   "outputs": [
    {
     "data": {
      "text/plain": "0.02269346095436702"
     },
     "execution_count": 121,
     "metadata": {},
     "output_type": "execute_result"
    }
   ],
   "source": [
    "np.array(ci_list).mean() ** 0.5"
   ],
   "metadata": {
    "collapsed": false,
    "ExecuteTime": {
     "end_time": "2024-02-11T17:52:04.537370Z",
     "start_time": "2024-02-11T17:52:04.532675Z"
    }
   }
  }
 ],
 "metadata": {
  "kernelspec": {
   "display_name": "Python 3",
   "language": "python",
   "name": "python3"
  },
  "language_info": {
   "codemirror_mode": {
    "name": "ipython",
    "version": 2
   },
   "file_extension": ".py",
   "mimetype": "text/x-python",
   "name": "python",
   "nbconvert_exporter": "python",
   "pygments_lexer": "ipython2",
   "version": "2.7.6"
  }
 },
 "nbformat": 4,
 "nbformat_minor": 0
}
