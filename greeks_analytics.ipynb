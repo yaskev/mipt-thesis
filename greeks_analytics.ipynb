{
 "cells": [
  {
   "cell_type": "code",
   "execution_count": 1,
   "metadata": {
    "collapsed": true,
    "ExecuteTime": {
     "end_time": "2023-10-28T14:23:18.483710Z",
     "start_time": "2023-10-28T14:23:16.227936Z"
    }
   },
   "outputs": [],
   "source": [
    "import pandas as pd"
   ]
  },
  {
   "cell_type": "code",
   "execution_count": 44,
   "outputs": [],
   "source": [
    "g_conv = pd.read_csv('datasets/train/greeks_convex.csv')\n",
    "g_pos = pd.read_csv('datasets/train/greeks_positive.csv')\n",
    "g_mc = pd.read_csv('datasets/train/greeks_mc_with_ci.csv')"
   ],
   "metadata": {
    "collapsed": false,
    "ExecuteTime": {
     "end_time": "2023-10-29T10:43:51.260797Z",
     "start_time": "2023-10-29T10:43:51.226220Z"
    }
   }
  },
  {
   "cell_type": "code",
   "execution_count": 31,
   "outputs": [
    {
     "data": {
      "text/plain": "   spot_strike_ratio     ttm  risk_free_rate  volatility   avg_type  \\\n0             1.4387  0.6558          0.0959      0.5130  GEOMETRIC   \n1             0.6114  1.4750          0.1817      0.1433  GEOMETRIC   \n2             1.5583  1.0801          0.0135      0.4368  GEOMETRIC   \n3             0.5345  0.6805          0.0280      0.1496  GEOMETRIC   \n4             1.7769  1.1157          0.1830      0.4205  GEOMETRIC   \n\n   monte_carlo_price  net_price   delta    vega   theta  ...  delta_mc_r_ci  \\\n0             0.4552     0.4682  0.8204  0.0631 -0.0248  ...         2.1381   \n1             0.0000     0.0090  0.0602  0.0106 -0.0038  ...         0.0000   \n2             0.5583     0.5653  0.8986  0.0323 -0.0151  ...         2.6154   \n3             0.0000     0.0032  0.0193  0.0023 -0.0008  ...         0.0000   \n4             0.7759     0.7883  0.9871  0.0039 -0.0062  ...         1.9917   \n\n   theta_mc  theta_mc_l_ci  theta_mc_r_ci   rho_mc  rho_mc_l_ci  rho_mc_r_ci  \\\n0    2.2014        -6.9333         2.5305 -19.4257     -50.1423      11.2908   \n1   -0.0000         0.0000         0.0000   0.0000       0.0000       0.0000   \n2    1.4711        -5.1120         2.1697 -99.2841    -369.2226     170.6543   \n3   -0.0000         0.0000         0.0000   0.0000       0.0000       0.0000   \n4   -0.2408        -2.2064         2.6881   8.7357     -11.7520      29.2234   \n\n   vega_mc  vega_mc_l_ci  vega_mc_r_ci  \n0  -2.5120       -8.7538        3.7299  \n1   0.0000        0.0000        0.0000  \n2  -1.9353      -11.3787        7.5081  \n3   0.0000        0.0000        0.0000  \n4  -0.4503       -7.2722        6.3716  \n\n[5 rows x 24 columns]",
      "text/html": "<div>\n<style scoped>\n    .dataframe tbody tr th:only-of-type {\n        vertical-align: middle;\n    }\n\n    .dataframe tbody tr th {\n        vertical-align: top;\n    }\n\n    .dataframe thead th {\n        text-align: right;\n    }\n</style>\n<table border=\"1\" class=\"dataframe\">\n  <thead>\n    <tr style=\"text-align: right;\">\n      <th></th>\n      <th>spot_strike_ratio</th>\n      <th>ttm</th>\n      <th>risk_free_rate</th>\n      <th>volatility</th>\n      <th>avg_type</th>\n      <th>monte_carlo_price</th>\n      <th>net_price</th>\n      <th>delta</th>\n      <th>vega</th>\n      <th>theta</th>\n      <th>...</th>\n      <th>delta_mc_r_ci</th>\n      <th>theta_mc</th>\n      <th>theta_mc_l_ci</th>\n      <th>theta_mc_r_ci</th>\n      <th>rho_mc</th>\n      <th>rho_mc_l_ci</th>\n      <th>rho_mc_r_ci</th>\n      <th>vega_mc</th>\n      <th>vega_mc_l_ci</th>\n      <th>vega_mc_r_ci</th>\n    </tr>\n  </thead>\n  <tbody>\n    <tr>\n      <th>0</th>\n      <td>1.4387</td>\n      <td>0.6558</td>\n      <td>0.0959</td>\n      <td>0.5130</td>\n      <td>GEOMETRIC</td>\n      <td>0.4552</td>\n      <td>0.4682</td>\n      <td>0.8204</td>\n      <td>0.0631</td>\n      <td>-0.0248</td>\n      <td>...</td>\n      <td>2.1381</td>\n      <td>2.2014</td>\n      <td>-6.9333</td>\n      <td>2.5305</td>\n      <td>-19.4257</td>\n      <td>-50.1423</td>\n      <td>11.2908</td>\n      <td>-2.5120</td>\n      <td>-8.7538</td>\n      <td>3.7299</td>\n    </tr>\n    <tr>\n      <th>1</th>\n      <td>0.6114</td>\n      <td>1.4750</td>\n      <td>0.1817</td>\n      <td>0.1433</td>\n      <td>GEOMETRIC</td>\n      <td>0.0000</td>\n      <td>0.0090</td>\n      <td>0.0602</td>\n      <td>0.0106</td>\n      <td>-0.0038</td>\n      <td>...</td>\n      <td>0.0000</td>\n      <td>-0.0000</td>\n      <td>0.0000</td>\n      <td>0.0000</td>\n      <td>0.0000</td>\n      <td>0.0000</td>\n      <td>0.0000</td>\n      <td>0.0000</td>\n      <td>0.0000</td>\n      <td>0.0000</td>\n    </tr>\n    <tr>\n      <th>2</th>\n      <td>1.5583</td>\n      <td>1.0801</td>\n      <td>0.0135</td>\n      <td>0.4368</td>\n      <td>GEOMETRIC</td>\n      <td>0.5583</td>\n      <td>0.5653</td>\n      <td>0.8986</td>\n      <td>0.0323</td>\n      <td>-0.0151</td>\n      <td>...</td>\n      <td>2.6154</td>\n      <td>1.4711</td>\n      <td>-5.1120</td>\n      <td>2.1697</td>\n      <td>-99.2841</td>\n      <td>-369.2226</td>\n      <td>170.6543</td>\n      <td>-1.9353</td>\n      <td>-11.3787</td>\n      <td>7.5081</td>\n    </tr>\n    <tr>\n      <th>3</th>\n      <td>0.5345</td>\n      <td>0.6805</td>\n      <td>0.0280</td>\n      <td>0.1496</td>\n      <td>GEOMETRIC</td>\n      <td>0.0000</td>\n      <td>0.0032</td>\n      <td>0.0193</td>\n      <td>0.0023</td>\n      <td>-0.0008</td>\n      <td>...</td>\n      <td>0.0000</td>\n      <td>-0.0000</td>\n      <td>0.0000</td>\n      <td>0.0000</td>\n      <td>0.0000</td>\n      <td>0.0000</td>\n      <td>0.0000</td>\n      <td>0.0000</td>\n      <td>0.0000</td>\n      <td>0.0000</td>\n    </tr>\n    <tr>\n      <th>4</th>\n      <td>1.7769</td>\n      <td>1.1157</td>\n      <td>0.1830</td>\n      <td>0.4205</td>\n      <td>GEOMETRIC</td>\n      <td>0.7759</td>\n      <td>0.7883</td>\n      <td>0.9871</td>\n      <td>0.0039</td>\n      <td>-0.0062</td>\n      <td>...</td>\n      <td>1.9917</td>\n      <td>-0.2408</td>\n      <td>-2.2064</td>\n      <td>2.6881</td>\n      <td>8.7357</td>\n      <td>-11.7520</td>\n      <td>29.2234</td>\n      <td>-0.4503</td>\n      <td>-7.2722</td>\n      <td>6.3716</td>\n    </tr>\n  </tbody>\n</table>\n<p>5 rows × 24 columns</p>\n</div>"
     },
     "execution_count": 31,
     "metadata": {},
     "output_type": "execute_result"
    }
   ],
   "source": [
    "g_mc.head()"
   ],
   "metadata": {
    "collapsed": false,
    "ExecuteTime": {
     "end_time": "2023-10-29T09:18:55.144104Z",
     "start_time": "2023-10-29T09:18:55.128124Z"
    }
   }
  },
  {
   "cell_type": "code",
   "execution_count": 4,
   "outputs": [],
   "source": [
    "g_conv.head()"
   ],
   "metadata": {
    "collapsed": false
   }
  },
  {
   "cell_type": "code",
   "execution_count": 45,
   "outputs": [],
   "source": [
    "d_con = ((g_mc['delta_mc_l_ci'] <= g_conv['delta']) & (g_conv['delta'] <= g_mc['delta_mc_r_ci'])).mean()\n",
    "d_pos = ((g_mc['delta_mc_l_ci'] <= g_pos['delta']) & (g_pos['delta'] <= g_mc['delta_mc_r_ci'])).mean()\n",
    "\n",
    "v_con = ((g_mc['vega_mc_l_ci'] <= g_conv['vega']) & (g_conv['vega'] <= g_mc['vega_mc_r_ci'])).mean()\n",
    "v_pos = ((g_mc['vega_mc_l_ci'] <= g_pos['vega']) & (g_pos['vega'] <= g_mc['vega_mc_r_ci'])).mean()\n",
    "\n",
    "t_con = ((g_mc['theta_mc_l_ci'] <= g_conv['theta']) & (g_conv['theta'] <= g_mc['theta_mc_r_ci'])).mean()\n",
    "t_pos = ((g_mc['theta_mc_l_ci'] <= g_pos['theta']) & (g_pos['theta'] <= g_mc['theta_mc_r_ci'])).mean()\n",
    "\n",
    "r_con = ((g_mc['rho_mc_l_ci'] <= g_conv['rho']) & (g_conv['rho'] <= g_mc['rho_mc_r_ci'])).mean()\n",
    "r_pos = ((g_mc['rho_mc_l_ci'] <= g_pos['rho']) & (g_pos['rho'] <= g_mc['rho_mc_r_ci'])).mean()\n"
   ],
   "metadata": {
    "collapsed": false,
    "ExecuteTime": {
     "end_time": "2023-10-29T10:43:54.172661Z",
     "start_time": "2023-10-29T10:43:54.140542Z"
    }
   }
  },
  {
   "cell_type": "code",
   "execution_count": 46,
   "outputs": [
    {
     "name": "stdout",
     "output_type": "stream",
     "text": [
      "\n",
      "Delta: conv: 0.53, pos: 0.63\n",
      "Vega: conv: 0.94, pos: 0.86\n",
      "Theta: conv: 0.8, pos: 0.71\n",
      "Rho: conv: 0.86, pos: 0.89\n",
      "\n"
     ]
    }
   ],
   "source": [
    "print(f'''\n",
    "Delta: conv: {d_con}, pos: {d_pos}\n",
    "Vega: conv: {v_con}, pos: {v_pos}\n",
    "Theta: conv: {t_con}, pos: {t_pos}\n",
    "Rho: conv: {r_con}, pos: {r_pos}\n",
    "''')"
   ],
   "metadata": {
    "collapsed": false,
    "ExecuteTime": {
     "end_time": "2023-10-29T10:43:56.064517Z",
     "start_time": "2023-10-29T10:43:56.056002Z"
    }
   }
  },
  {
   "cell_type": "markdown",
   "source": [
    "TEST"
   ],
   "metadata": {
    "collapsed": false
   }
  },
  {
   "cell_type": "code",
   "execution_count": 47,
   "outputs": [],
   "source": [
    "t_pos = pd.read_csv('datasets/test/greeks_positive_50.csv')\n",
    "t_con = pd.read_csv('datasets/test/greeks_convex_50.csv')"
   ],
   "metadata": {
    "collapsed": false,
    "ExecuteTime": {
     "end_time": "2023-10-29T10:44:22.237240Z",
     "start_time": "2023-10-29T10:44:22.218519Z"
    }
   }
  },
  {
   "cell_type": "code",
   "execution_count": 17,
   "outputs": [
    {
     "data": {
      "text/plain": "   spot_strike_ratio     ttm  risk_free_rate  volatility    avg_type  \\\n0             1.6605  0.8802          0.0975      0.5164   GEOMETRIC   \n1             1.7037  0.7341          0.1707      0.1833  ARITHMETIC   \n2             1.3465  1.4782          0.1161      0.3612   GEOMETRIC   \n3             0.5732  0.9771          0.1495      0.3228  ARITHMETIC   \n4             0.9711  0.7126          0.1946      0.3264  ARITHMETIC   \n\n   monte_carlo_price  net_price   delta    vega   theta  ...  delta_mc_r_ci  \\\n0             0.6324     0.6668  0.9656  0.0119 -0.0087  ...         2.6359   \n1             0.7198     0.7296  1.0196  0.0127 -0.0092  ...         1.1612   \n2             0.3704     0.4103  0.7713  0.0851 -0.0318  ...         2.7071   \n3             0.0000     0.0071  0.0463  0.0077 -0.0028  ...         0.0000   \n4             0.0780     0.0927  0.5448  0.1064 -0.0377  ...         3.6824   \n\n   theta_mc  theta_mc_l_ci  theta_mc_r_ci   rho_mc  rho_mc_l_ci  rho_mc_r_ci  \\\n0    0.1170        -6.2783         6.0442 -22.7281     -63.1005      17.6442   \n1   -0.0076        -0.6547         0.6699  -1.2944      -3.9724       1.3836   \n2   -0.3070        -2.6072         3.2211  -4.8794     -38.1202      28.3614   \n3    0.0169        -0.0741         0.0423   0.4546      -0.4841       1.8359   \n4   -1.3831        -1.5302         4.2963  -0.9948     -10.8777       8.8881   \n\n   vega_mc  vega_mc_l_ci  vega_mc_r_ci  \n0  -2.4436      -11.4797        6.5924  \n1  -1.2608       -3.8162        1.2947  \n2  -2.0293      -13.0599        9.0013  \n3   0.1093       -0.2242        0.5026  \n4   5.0206       -1.9302       11.9714  \n\n[5 rows x 24 columns]",
      "text/html": "<div>\n<style scoped>\n    .dataframe tbody tr th:only-of-type {\n        vertical-align: middle;\n    }\n\n    .dataframe tbody tr th {\n        vertical-align: top;\n    }\n\n    .dataframe thead th {\n        text-align: right;\n    }\n</style>\n<table border=\"1\" class=\"dataframe\">\n  <thead>\n    <tr style=\"text-align: right;\">\n      <th></th>\n      <th>spot_strike_ratio</th>\n      <th>ttm</th>\n      <th>risk_free_rate</th>\n      <th>volatility</th>\n      <th>avg_type</th>\n      <th>monte_carlo_price</th>\n      <th>net_price</th>\n      <th>delta</th>\n      <th>vega</th>\n      <th>theta</th>\n      <th>...</th>\n      <th>delta_mc_r_ci</th>\n      <th>theta_mc</th>\n      <th>theta_mc_l_ci</th>\n      <th>theta_mc_r_ci</th>\n      <th>rho_mc</th>\n      <th>rho_mc_l_ci</th>\n      <th>rho_mc_r_ci</th>\n      <th>vega_mc</th>\n      <th>vega_mc_l_ci</th>\n      <th>vega_mc_r_ci</th>\n    </tr>\n  </thead>\n  <tbody>\n    <tr>\n      <th>0</th>\n      <td>1.6605</td>\n      <td>0.8802</td>\n      <td>0.0975</td>\n      <td>0.5164</td>\n      <td>GEOMETRIC</td>\n      <td>0.6324</td>\n      <td>0.6668</td>\n      <td>0.9656</td>\n      <td>0.0119</td>\n      <td>-0.0087</td>\n      <td>...</td>\n      <td>2.6359</td>\n      <td>0.1170</td>\n      <td>-6.2783</td>\n      <td>6.0442</td>\n      <td>-22.7281</td>\n      <td>-63.1005</td>\n      <td>17.6442</td>\n      <td>-2.4436</td>\n      <td>-11.4797</td>\n      <td>6.5924</td>\n    </tr>\n    <tr>\n      <th>1</th>\n      <td>1.7037</td>\n      <td>0.7341</td>\n      <td>0.1707</td>\n      <td>0.1833</td>\n      <td>ARITHMETIC</td>\n      <td>0.7198</td>\n      <td>0.7296</td>\n      <td>1.0196</td>\n      <td>0.0127</td>\n      <td>-0.0092</td>\n      <td>...</td>\n      <td>1.1612</td>\n      <td>-0.0076</td>\n      <td>-0.6547</td>\n      <td>0.6699</td>\n      <td>-1.2944</td>\n      <td>-3.9724</td>\n      <td>1.3836</td>\n      <td>-1.2608</td>\n      <td>-3.8162</td>\n      <td>1.2947</td>\n    </tr>\n    <tr>\n      <th>2</th>\n      <td>1.3465</td>\n      <td>1.4782</td>\n      <td>0.1161</td>\n      <td>0.3612</td>\n      <td>GEOMETRIC</td>\n      <td>0.3704</td>\n      <td>0.4103</td>\n      <td>0.7713</td>\n      <td>0.0851</td>\n      <td>-0.0318</td>\n      <td>...</td>\n      <td>2.7071</td>\n      <td>-0.3070</td>\n      <td>-2.6072</td>\n      <td>3.2211</td>\n      <td>-4.8794</td>\n      <td>-38.1202</td>\n      <td>28.3614</td>\n      <td>-2.0293</td>\n      <td>-13.0599</td>\n      <td>9.0013</td>\n    </tr>\n    <tr>\n      <th>3</th>\n      <td>0.5732</td>\n      <td>0.9771</td>\n      <td>0.1495</td>\n      <td>0.3228</td>\n      <td>ARITHMETIC</td>\n      <td>0.0000</td>\n      <td>0.0071</td>\n      <td>0.0463</td>\n      <td>0.0077</td>\n      <td>-0.0028</td>\n      <td>...</td>\n      <td>0.0000</td>\n      <td>0.0169</td>\n      <td>-0.0741</td>\n      <td>0.0423</td>\n      <td>0.4546</td>\n      <td>-0.4841</td>\n      <td>1.8359</td>\n      <td>0.1093</td>\n      <td>-0.2242</td>\n      <td>0.5026</td>\n    </tr>\n    <tr>\n      <th>4</th>\n      <td>0.9711</td>\n      <td>0.7126</td>\n      <td>0.1946</td>\n      <td>0.3264</td>\n      <td>ARITHMETIC</td>\n      <td>0.0780</td>\n      <td>0.0927</td>\n      <td>0.5448</td>\n      <td>0.1064</td>\n      <td>-0.0377</td>\n      <td>...</td>\n      <td>3.6824</td>\n      <td>-1.3831</td>\n      <td>-1.5302</td>\n      <td>4.2963</td>\n      <td>-0.9948</td>\n      <td>-10.8777</td>\n      <td>8.8881</td>\n      <td>5.0206</td>\n      <td>-1.9302</td>\n      <td>11.9714</td>\n    </tr>\n  </tbody>\n</table>\n<p>5 rows × 24 columns</p>\n</div>"
     },
     "execution_count": 17,
     "metadata": {},
     "output_type": "execute_result"
    }
   ],
   "source": [
    "t_pos.head()"
   ],
   "metadata": {
    "collapsed": false,
    "ExecuteTime": {
     "end_time": "2023-10-29T09:04:00.864317Z",
     "start_time": "2023-10-29T09:04:00.857612Z"
    }
   }
  },
  {
   "cell_type": "code",
   "execution_count": 48,
   "outputs": [],
   "source": [
    "d_con = ((t_con['delta_mc_l_ci'] <= t_con['delta']) & (t_con['delta'] <= t_con['delta_mc_r_ci'])).mean()\n",
    "d_pos = ((t_pos['delta_mc_l_ci'] <= t_pos['delta']) & (t_pos['delta'] <= t_pos['delta_mc_r_ci'])).mean()\n",
    "\n",
    "v_con = ((t_con['vega_mc_l_ci'] <= t_con['vega']) & (t_con['vega'] <= t_con['vega_mc_r_ci'])).mean()\n",
    "v_pos = ((t_pos['vega_mc_l_ci'] <= t_pos['vega']) & (t_pos['vega'] <= t_pos['vega_mc_r_ci'])).mean()\n",
    "\n",
    "th_con = ((t_con['theta_mc_l_ci'] <= t_con['theta']) & (t_con['theta'] <= t_con['theta_mc_r_ci'])).mean()\n",
    "th_pos = ((t_pos['theta_mc_l_ci'] <= t_pos['theta']) & (t_pos['theta'] <= t_pos['theta_mc_r_ci'])).mean()\n",
    "\n",
    "r_con = ((t_con['rho_mc_l_ci'] <= t_con['rho']) & (t_con['rho'] <= t_con['rho_mc_r_ci'])).mean()\n",
    "r_pos = ((t_pos['rho_mc_l_ci'] <= t_pos['rho']) & (t_pos['rho'] <= t_pos['rho_mc_r_ci'])).mean()\n"
   ],
   "metadata": {
    "collapsed": false,
    "ExecuteTime": {
     "end_time": "2023-10-29T10:44:24.688075Z",
     "start_time": "2023-10-29T10:44:24.677307Z"
    }
   }
  },
  {
   "cell_type": "code",
   "execution_count": 49,
   "outputs": [
    {
     "name": "stdout",
     "output_type": "stream",
     "text": [
      "\n",
      "Delta: conv: 0.48, pos: 0.46\n",
      "Vega: conv: 0.92, pos: 0.86\n",
      "Theta: conv: 0.82, pos: 0.62\n",
      "Rho: conv: 0.86, pos: 0.96\n",
      "\n"
     ]
    }
   ],
   "source": [
    "print(f'''\n",
    "Delta: conv: {d_con}, pos: {d_pos}\n",
    "Vega: conv: {v_con}, pos: {v_pos}\n",
    "Theta: conv: {th_con}, pos: {th_pos}\n",
    "Rho: conv: {r_con}, pos: {r_pos}\n",
    "''')"
   ],
   "metadata": {
    "collapsed": false,
    "ExecuteTime": {
     "end_time": "2023-10-29T10:44:26.308512Z",
     "start_time": "2023-10-29T10:44:26.297108Z"
    }
   }
  }
 ],
 "metadata": {
  "kernelspec": {
   "display_name": "Python 3",
   "language": "python",
   "name": "python3"
  },
  "language_info": {
   "codemirror_mode": {
    "name": "ipython",
    "version": 2
   },
   "file_extension": ".py",
   "mimetype": "text/x-python",
   "name": "python",
   "nbconvert_exporter": "python",
   "pygments_lexer": "ipython2",
   "version": "2.7.6"
  }
 },
 "nbformat": 4,
 "nbformat_minor": 0
}
