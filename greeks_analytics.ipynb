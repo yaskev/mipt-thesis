{
 "cells": [
  {
   "cell_type": "code",
   "execution_count": 2,
   "metadata": {
    "collapsed": true,
    "ExecuteTime": {
     "end_time": "2023-11-06T10:07:27.976765Z",
     "start_time": "2023-11-06T10:07:27.943320Z"
    }
   },
   "outputs": [],
   "source": [
    "import pandas as pd"
   ]
  },
  {
   "cell_type": "markdown",
   "source": [
    "TRAIN"
   ],
   "metadata": {
    "collapsed": false
   }
  },
  {
   "cell_type": "code",
   "execution_count": 3,
   "outputs": [],
   "source": [
    "g_conv = pd.read_csv('datasets/train/greeks_convex.csv')\n",
    "g_pos = pd.read_csv('datasets/train/greeks_positive.csv')\n",
    "g_mc = pd.read_csv('datasets/train/greeks_mc_with_ci.csv')"
   ],
   "metadata": {
    "collapsed": false,
    "ExecuteTime": {
     "end_time": "2023-11-06T10:07:28.068695Z",
     "start_time": "2023-11-06T10:07:27.955408Z"
    }
   }
  },
  {
   "cell_type": "code",
   "execution_count": 4,
   "outputs": [
    {
     "data": {
      "text/plain": "   spot_strike_ratio     ttm  risk_free_rate  volatility    avg_type  \\\n0             0.9317  1.1047          0.0886      0.2364  ARITHMETIC   \n1             0.9711  1.3943          0.0532      0.1891  ARITHMETIC   \n2             0.8641  0.5139          0.1477      0.4491  ARITHMETIC   \n3             1.2540  0.7364          0.1729      0.3078  ARITHMETIC   \n4             0.8090  0.8100          0.1142      0.3076   GEOMETRIC   \n\n   monte_carlo_price  net_price  delta_mc  delta_mc_l_ci  delta_mc_r_ci  \\\n0             0.0480     1.6256    0.4563         0.3597         0.5529   \n1             0.0561     1.6364    0.5403         0.4524         0.6282   \n2             0.0369     1.6217    0.3118         0.1999         0.4238   \n3             0.3045     1.6956    0.9194         0.8712         0.9675   \n4             0.0143     1.4310    0.1585         0.0975         0.2196   \n\n   theta_mc  theta_mc_l_ci  theta_mc_r_ci  rho_mc  rho_mc_l_ci  rho_mc_r_ci  \\\n0   -0.0387        -0.0421         0.1194  0.1916      -0.8119       1.1952   \n1   -0.0286        -0.0326         0.0897  0.2958      -1.3027       1.8944   \n2   -0.0712        -0.1143         0.2567  0.0565      -0.5864       0.6994   \n3   -0.0565        -0.0266         0.1396  0.2136      -0.1381       0.5653   \n4   -0.0233        -0.0360         0.0827  0.0418      -0.3771       0.4607   \n\n   vega_mc  vega_mc_l_ci  vega_mc_r_ci  \n0   0.2183       -0.1600        0.5965  \n1   0.2558       -0.1966        0.7082  \n2   0.1261       -0.0869        0.3391  \n3   0.0312       -0.1690        0.2315  \n4   0.0920       -0.0649        0.2490  ",
      "text/html": "<div>\n<style scoped>\n    .dataframe tbody tr th:only-of-type {\n        vertical-align: middle;\n    }\n\n    .dataframe tbody tr th {\n        vertical-align: top;\n    }\n\n    .dataframe thead th {\n        text-align: right;\n    }\n</style>\n<table border=\"1\" class=\"dataframe\">\n  <thead>\n    <tr style=\"text-align: right;\">\n      <th></th>\n      <th>spot_strike_ratio</th>\n      <th>ttm</th>\n      <th>risk_free_rate</th>\n      <th>volatility</th>\n      <th>avg_type</th>\n      <th>monte_carlo_price</th>\n      <th>net_price</th>\n      <th>delta_mc</th>\n      <th>delta_mc_l_ci</th>\n      <th>delta_mc_r_ci</th>\n      <th>theta_mc</th>\n      <th>theta_mc_l_ci</th>\n      <th>theta_mc_r_ci</th>\n      <th>rho_mc</th>\n      <th>rho_mc_l_ci</th>\n      <th>rho_mc_r_ci</th>\n      <th>vega_mc</th>\n      <th>vega_mc_l_ci</th>\n      <th>vega_mc_r_ci</th>\n    </tr>\n  </thead>\n  <tbody>\n    <tr>\n      <th>0</th>\n      <td>0.9317</td>\n      <td>1.1047</td>\n      <td>0.0886</td>\n      <td>0.2364</td>\n      <td>ARITHMETIC</td>\n      <td>0.0480</td>\n      <td>1.6256</td>\n      <td>0.4563</td>\n      <td>0.3597</td>\n      <td>0.5529</td>\n      <td>-0.0387</td>\n      <td>-0.0421</td>\n      <td>0.1194</td>\n      <td>0.1916</td>\n      <td>-0.8119</td>\n      <td>1.1952</td>\n      <td>0.2183</td>\n      <td>-0.1600</td>\n      <td>0.5965</td>\n    </tr>\n    <tr>\n      <th>1</th>\n      <td>0.9711</td>\n      <td>1.3943</td>\n      <td>0.0532</td>\n      <td>0.1891</td>\n      <td>ARITHMETIC</td>\n      <td>0.0561</td>\n      <td>1.6364</td>\n      <td>0.5403</td>\n      <td>0.4524</td>\n      <td>0.6282</td>\n      <td>-0.0286</td>\n      <td>-0.0326</td>\n      <td>0.0897</td>\n      <td>0.2958</td>\n      <td>-1.3027</td>\n      <td>1.8944</td>\n      <td>0.2558</td>\n      <td>-0.1966</td>\n      <td>0.7082</td>\n    </tr>\n    <tr>\n      <th>2</th>\n      <td>0.8641</td>\n      <td>0.5139</td>\n      <td>0.1477</td>\n      <td>0.4491</td>\n      <td>ARITHMETIC</td>\n      <td>0.0369</td>\n      <td>1.6217</td>\n      <td>0.3118</td>\n      <td>0.1999</td>\n      <td>0.4238</td>\n      <td>-0.0712</td>\n      <td>-0.1143</td>\n      <td>0.2567</td>\n      <td>0.0565</td>\n      <td>-0.5864</td>\n      <td>0.6994</td>\n      <td>0.1261</td>\n      <td>-0.0869</td>\n      <td>0.3391</td>\n    </tr>\n    <tr>\n      <th>3</th>\n      <td>1.2540</td>\n      <td>0.7364</td>\n      <td>0.1729</td>\n      <td>0.3078</td>\n      <td>ARITHMETIC</td>\n      <td>0.3045</td>\n      <td>1.6956</td>\n      <td>0.9194</td>\n      <td>0.8712</td>\n      <td>0.9675</td>\n      <td>-0.0565</td>\n      <td>-0.0266</td>\n      <td>0.1396</td>\n      <td>0.2136</td>\n      <td>-0.1381</td>\n      <td>0.5653</td>\n      <td>0.0312</td>\n      <td>-0.1690</td>\n      <td>0.2315</td>\n    </tr>\n    <tr>\n      <th>4</th>\n      <td>0.8090</td>\n      <td>0.8100</td>\n      <td>0.1142</td>\n      <td>0.3076</td>\n      <td>GEOMETRIC</td>\n      <td>0.0143</td>\n      <td>1.4310</td>\n      <td>0.1585</td>\n      <td>0.0975</td>\n      <td>0.2196</td>\n      <td>-0.0233</td>\n      <td>-0.0360</td>\n      <td>0.0827</td>\n      <td>0.0418</td>\n      <td>-0.3771</td>\n      <td>0.4607</td>\n      <td>0.0920</td>\n      <td>-0.0649</td>\n      <td>0.2490</td>\n    </tr>\n  </tbody>\n</table>\n</div>"
     },
     "execution_count": 4,
     "metadata": {},
     "output_type": "execute_result"
    }
   ],
   "source": [
    "g_mc.head()"
   ],
   "metadata": {
    "collapsed": false,
    "ExecuteTime": {
     "end_time": "2023-11-06T10:07:28.070982Z",
     "start_time": "2023-11-06T10:07:27.981668Z"
    }
   }
  },
  {
   "cell_type": "code",
   "execution_count": 5,
   "outputs": [
    {
     "data": {
      "text/plain": "   spot_strike_ratio     ttm  risk_free_rate  volatility    avg_type  \\\n0             0.9317  1.1047          0.0886      0.2364  ARITHMETIC   \n1             0.9711  1.3943          0.0532      0.1891  ARITHMETIC   \n2             0.8641  0.5139          0.1477      0.4491  ARITHMETIC   \n3             1.2540  0.7364          0.1729      0.3078  ARITHMETIC   \n4             0.8090  0.8100          0.1142      0.3076   GEOMETRIC   \n\n   monte_carlo_price  net_price   delta    vega   theta     rho   gamma  \n0             0.0480     0.0956  0.4001  0.0064 -0.0009  0.0142  1.3949  \n1             0.0561     0.1117  0.4526  0.0076 -0.0003  0.0168  1.4325  \n2             0.0369     0.0715  0.3107  0.0045 -0.0076  0.0103  1.2427  \n3             0.3045     0.2994  0.8276  0.0207 -0.0136  0.0463  0.9183  \n4             0.0143     0.0551  0.2420  0.0034 -0.0017  0.0077  1.0564  ",
      "text/html": "<div>\n<style scoped>\n    .dataframe tbody tr th:only-of-type {\n        vertical-align: middle;\n    }\n\n    .dataframe tbody tr th {\n        vertical-align: top;\n    }\n\n    .dataframe thead th {\n        text-align: right;\n    }\n</style>\n<table border=\"1\" class=\"dataframe\">\n  <thead>\n    <tr style=\"text-align: right;\">\n      <th></th>\n      <th>spot_strike_ratio</th>\n      <th>ttm</th>\n      <th>risk_free_rate</th>\n      <th>volatility</th>\n      <th>avg_type</th>\n      <th>monte_carlo_price</th>\n      <th>net_price</th>\n      <th>delta</th>\n      <th>vega</th>\n      <th>theta</th>\n      <th>rho</th>\n      <th>gamma</th>\n    </tr>\n  </thead>\n  <tbody>\n    <tr>\n      <th>0</th>\n      <td>0.9317</td>\n      <td>1.1047</td>\n      <td>0.0886</td>\n      <td>0.2364</td>\n      <td>ARITHMETIC</td>\n      <td>0.0480</td>\n      <td>0.0956</td>\n      <td>0.4001</td>\n      <td>0.0064</td>\n      <td>-0.0009</td>\n      <td>0.0142</td>\n      <td>1.3949</td>\n    </tr>\n    <tr>\n      <th>1</th>\n      <td>0.9711</td>\n      <td>1.3943</td>\n      <td>0.0532</td>\n      <td>0.1891</td>\n      <td>ARITHMETIC</td>\n      <td>0.0561</td>\n      <td>0.1117</td>\n      <td>0.4526</td>\n      <td>0.0076</td>\n      <td>-0.0003</td>\n      <td>0.0168</td>\n      <td>1.4325</td>\n    </tr>\n    <tr>\n      <th>2</th>\n      <td>0.8641</td>\n      <td>0.5139</td>\n      <td>0.1477</td>\n      <td>0.4491</td>\n      <td>ARITHMETIC</td>\n      <td>0.0369</td>\n      <td>0.0715</td>\n      <td>0.3107</td>\n      <td>0.0045</td>\n      <td>-0.0076</td>\n      <td>0.0103</td>\n      <td>1.2427</td>\n    </tr>\n    <tr>\n      <th>3</th>\n      <td>1.2540</td>\n      <td>0.7364</td>\n      <td>0.1729</td>\n      <td>0.3078</td>\n      <td>ARITHMETIC</td>\n      <td>0.3045</td>\n      <td>0.2994</td>\n      <td>0.8276</td>\n      <td>0.0207</td>\n      <td>-0.0136</td>\n      <td>0.0463</td>\n      <td>0.9183</td>\n    </tr>\n    <tr>\n      <th>4</th>\n      <td>0.8090</td>\n      <td>0.8100</td>\n      <td>0.1142</td>\n      <td>0.3076</td>\n      <td>GEOMETRIC</td>\n      <td>0.0143</td>\n      <td>0.0551</td>\n      <td>0.2420</td>\n      <td>0.0034</td>\n      <td>-0.0017</td>\n      <td>0.0077</td>\n      <td>1.0564</td>\n    </tr>\n  </tbody>\n</table>\n</div>"
     },
     "execution_count": 5,
     "metadata": {},
     "output_type": "execute_result"
    }
   ],
   "source": [
    "g_conv.head()"
   ],
   "metadata": {
    "collapsed": false,
    "ExecuteTime": {
     "end_time": "2023-11-06T10:07:28.071415Z",
     "start_time": "2023-11-06T10:07:28.026681Z"
    }
   }
  },
  {
   "cell_type": "code",
   "execution_count": 6,
   "outputs": [],
   "source": [
    "d_con = ((g_mc['delta_mc_l_ci'] <= g_conv['delta']) & (g_conv['delta'] <= g_mc['delta_mc_r_ci'])).mean()\n",
    "d_pos = ((g_mc['delta_mc_l_ci'] <= g_pos['delta']) & (g_pos['delta'] <= g_mc['delta_mc_r_ci'])).mean()\n",
    "\n",
    "v_con = ((g_mc['vega_mc_l_ci'] <= g_conv['vega']) & (g_conv['vega'] <= g_mc['vega_mc_r_ci'])).mean()\n",
    "v_pos = ((g_mc['vega_mc_l_ci'] <= g_pos['vega']) & (g_pos['vega'] <= g_mc['vega_mc_r_ci'])).mean()\n",
    "\n",
    "t_con = ((g_mc['theta_mc_l_ci'] <= g_conv['theta']) & (g_conv['theta'] <= g_mc['theta_mc_r_ci'])).mean()\n",
    "t_pos = ((g_mc['theta_mc_l_ci'] <= g_pos['theta']) & (g_pos['theta'] <= g_mc['theta_mc_r_ci'])).mean()\n",
    "\n",
    "r_con = ((g_mc['rho_mc_l_ci'] <= g_conv['rho']) & (g_conv['rho'] <= g_mc['rho_mc_r_ci'])).mean()\n",
    "r_pos = ((g_mc['rho_mc_l_ci'] <= g_pos['rho']) & (g_pos['rho'] <= g_mc['rho_mc_r_ci'])).mean()\n"
   ],
   "metadata": {
    "collapsed": false,
    "ExecuteTime": {
     "end_time": "2023-11-06T10:07:28.071860Z",
     "start_time": "2023-11-06T10:07:28.043776Z"
    }
   }
  },
  {
   "cell_type": "code",
   "execution_count": 7,
   "outputs": [
    {
     "name": "stdout",
     "output_type": "stream",
     "text": [
      "\n",
      "Delta: conv: 0.53, pos: 0.63\n",
      "Vega: conv: 0.94, pos: 0.86\n",
      "Theta: conv: 0.8, pos: 0.71\n",
      "Rho: conv: 0.86, pos: 0.89\n",
      "\n"
     ]
    }
   ],
   "source": [
    "print(f'''\n",
    "Delta: conv: {d_con}, pos: {d_pos}\n",
    "Vega: conv: {v_con}, pos: {v_pos}\n",
    "Theta: conv: {t_con}, pos: {t_pos}\n",
    "Rho: conv: {r_con}, pos: {r_pos}\n",
    "''')"
   ],
   "metadata": {
    "collapsed": false,
    "ExecuteTime": {
     "end_time": "2023-11-06T10:07:28.085800Z",
     "start_time": "2023-11-06T10:07:28.052337Z"
    }
   }
  },
  {
   "cell_type": "code",
   "execution_count": 8,
   "outputs": [],
   "source": [
    "d_con_mse = ((g_mc['delta_mc'] - g_conv['delta']) ** 2).mean() ** 0.5\n",
    "d_pos_mse = ((g_mc['delta_mc'] - g_pos['delta']) ** 2).mean() ** 0.5\n",
    "\n",
    "v_con_mse = ((g_mc['vega_mc'] - g_conv['vega']) ** 2).mean() ** 0.5\n",
    "v_pos_mse = ((g_mc['vega_mc'] - g_pos['vega']) ** 2).mean() ** 0.5\n",
    "\n",
    "t_con_mse = ((g_mc['theta_mc'] - g_pos['theta']) ** 2).mean() ** 0.5\n",
    "t_pos_mse = ((g_mc['theta_mc'] - g_pos['theta']) ** 2).mean() ** 0.5\n",
    "\n",
    "r_con_mse = ((g_mc['rho_mc'] - g_pos['rho']) ** 2).mean() ** 0.5\n",
    "r_pos_mse = ((g_mc['rho_mc'] - g_pos['rho']) ** 2).mean() ** 0.5"
   ],
   "metadata": {
    "collapsed": false,
    "ExecuteTime": {
     "end_time": "2023-11-06T10:07:28.086118Z",
     "start_time": "2023-11-06T10:07:28.065384Z"
    }
   }
  },
  {
   "cell_type": "code",
   "execution_count": 9,
   "outputs": [
    {
     "name": "stdout",
     "output_type": "stream",
     "text": [
      "\n",
      "Delta: conv MSE: 0.101685611076494, pos MSE: 0.07806238658918904\n",
      "Vega: conv MSE: 0.10791486737238759, pos MSE: 0.07767093149949987\n",
      "Theta: conv MSE: 0.018352964338220677, pos MSE: 0.018352964338220677\n",
      "Rho: conv MSE: 0.06306092292378855, pos MSE: 0.06306092292378855\n",
      "\n"
     ]
    }
   ],
   "source": [
    "print(f'''\n",
    "Delta: conv MSE: {d_con_mse}, pos MSE: {d_pos_mse}\n",
    "Vega: conv MSE: {v_con_mse}, pos MSE: {v_pos_mse}\n",
    "Theta: conv MSE: {t_con_mse}, pos MSE: {t_pos_mse}\n",
    "Rho: conv MSE: {r_con_mse}, pos MSE: {r_pos_mse}\n",
    "''')"
   ],
   "metadata": {
    "collapsed": false,
    "ExecuteTime": {
     "end_time": "2023-11-06T10:07:28.087833Z",
     "start_time": "2023-11-06T10:07:28.071586Z"
    }
   }
  },
  {
   "cell_type": "markdown",
   "source": [
    "TEST 64"
   ],
   "metadata": {
    "collapsed": false
   }
  },
  {
   "cell_type": "code",
   "execution_count": 10,
   "outputs": [],
   "source": [
    "t_pos = pd.read_csv('datasets/test64/greeks_positive_50.csv')\n",
    "t_con = pd.read_csv('datasets/test64/greeks_convex_50.csv')"
   ],
   "metadata": {
    "collapsed": false,
    "ExecuteTime": {
     "end_time": "2023-11-06T10:07:28.091822Z",
     "start_time": "2023-11-06T10:07:28.078341Z"
    }
   }
  },
  {
   "cell_type": "code",
   "execution_count": 11,
   "outputs": [
    {
     "data": {
      "text/plain": "   spot_strike_ratio     ttm  risk_free_rate  volatility  left_ci  right_ci  \\\n0             0.8146  0.8595          0.0435      0.2221   0.0007    0.0042   \n1             1.5307  0.9948          0.0550      0.2459   0.5382    0.5477   \n2             1.5920  0.7160          0.1168      0.2292   0.6000    0.6047   \n3             1.1679  0.6066          0.1398      0.3709   0.1960    0.2120   \n4             0.8591  1.2239          0.0521      0.3361   0.0215    0.0407   \n\n     avg_type  monte_carlo_price  net_price   delta  ...  delta_mc_r_ci  \\\n0  ARITHMETIC             0.0025     0.0031  0.0156  ...         0.1015   \n1  ARITHMETIC             0.5430     0.5434  0.0027  ...         1.0063   \n2   GEOMETRIC             0.6024     0.6025  0.0029  ...         0.9725   \n3   GEOMETRIC             0.2040     0.2036  0.0146  ...         0.9259   \n4   GEOMETRIC             0.0311     0.0305  0.0197  ...         0.4228   \n\n   theta_mc  theta_mc_l_ci  theta_mc_r_ci  rho_mc  rho_mc_l_ci  rho_mc_r_ci  \\\n0   -0.0087        -0.0177         0.0351  0.0224      -0.4958       0.5406   \n1   -0.0115        -0.0402         0.0631  0.2074      -0.7219       1.1367   \n2   -0.0118        -0.0250         0.0485  0.1135      -0.1106       0.3377   \n3   -0.0578        -0.0853         0.2008  0.1768      -0.4409       0.7944   \n4   -0.0278        -0.0560         0.1116  0.1168      -1.8446       2.0782   \n\n   vega_mc  vega_mc_l_ci  vega_mc_r_ci  \n0   0.0588       -0.0441        0.1618  \n1   0.0001       -0.2099        0.2102  \n2  -0.0423       -0.1577        0.0731  \n3   0.0564       -0.1790        0.2919  \n4   0.1666       -0.1396        0.4728  \n\n[5 rows x 26 columns]",
      "text/html": "<div>\n<style scoped>\n    .dataframe tbody tr th:only-of-type {\n        vertical-align: middle;\n    }\n\n    .dataframe tbody tr th {\n        vertical-align: top;\n    }\n\n    .dataframe thead th {\n        text-align: right;\n    }\n</style>\n<table border=\"1\" class=\"dataframe\">\n  <thead>\n    <tr style=\"text-align: right;\">\n      <th></th>\n      <th>spot_strike_ratio</th>\n      <th>ttm</th>\n      <th>risk_free_rate</th>\n      <th>volatility</th>\n      <th>left_ci</th>\n      <th>right_ci</th>\n      <th>avg_type</th>\n      <th>monte_carlo_price</th>\n      <th>net_price</th>\n      <th>delta</th>\n      <th>...</th>\n      <th>delta_mc_r_ci</th>\n      <th>theta_mc</th>\n      <th>theta_mc_l_ci</th>\n      <th>theta_mc_r_ci</th>\n      <th>rho_mc</th>\n      <th>rho_mc_l_ci</th>\n      <th>rho_mc_r_ci</th>\n      <th>vega_mc</th>\n      <th>vega_mc_l_ci</th>\n      <th>vega_mc_r_ci</th>\n    </tr>\n  </thead>\n  <tbody>\n    <tr>\n      <th>0</th>\n      <td>0.8146</td>\n      <td>0.8595</td>\n      <td>0.0435</td>\n      <td>0.2221</td>\n      <td>0.0007</td>\n      <td>0.0042</td>\n      <td>ARITHMETIC</td>\n      <td>0.0025</td>\n      <td>0.0031</td>\n      <td>0.0156</td>\n      <td>...</td>\n      <td>0.1015</td>\n      <td>-0.0087</td>\n      <td>-0.0177</td>\n      <td>0.0351</td>\n      <td>0.0224</td>\n      <td>-0.4958</td>\n      <td>0.5406</td>\n      <td>0.0588</td>\n      <td>-0.0441</td>\n      <td>0.1618</td>\n    </tr>\n    <tr>\n      <th>1</th>\n      <td>1.5307</td>\n      <td>0.9948</td>\n      <td>0.0550</td>\n      <td>0.2459</td>\n      <td>0.5382</td>\n      <td>0.5477</td>\n      <td>ARITHMETIC</td>\n      <td>0.5430</td>\n      <td>0.5434</td>\n      <td>0.0027</td>\n      <td>...</td>\n      <td>1.0063</td>\n      <td>-0.0115</td>\n      <td>-0.0402</td>\n      <td>0.0631</td>\n      <td>0.2074</td>\n      <td>-0.7219</td>\n      <td>1.1367</td>\n      <td>0.0001</td>\n      <td>-0.2099</td>\n      <td>0.2102</td>\n    </tr>\n    <tr>\n      <th>2</th>\n      <td>1.5920</td>\n      <td>0.7160</td>\n      <td>0.1168</td>\n      <td>0.2292</td>\n      <td>0.6000</td>\n      <td>0.6047</td>\n      <td>GEOMETRIC</td>\n      <td>0.6024</td>\n      <td>0.6025</td>\n      <td>0.0029</td>\n      <td>...</td>\n      <td>0.9725</td>\n      <td>-0.0118</td>\n      <td>-0.0250</td>\n      <td>0.0485</td>\n      <td>0.1135</td>\n      <td>-0.1106</td>\n      <td>0.3377</td>\n      <td>-0.0423</td>\n      <td>-0.1577</td>\n      <td>0.0731</td>\n    </tr>\n    <tr>\n      <th>3</th>\n      <td>1.1679</td>\n      <td>0.6066</td>\n      <td>0.1398</td>\n      <td>0.3709</td>\n      <td>0.1960</td>\n      <td>0.2120</td>\n      <td>GEOMETRIC</td>\n      <td>0.2040</td>\n      <td>0.2036</td>\n      <td>0.0146</td>\n      <td>...</td>\n      <td>0.9259</td>\n      <td>-0.0578</td>\n      <td>-0.0853</td>\n      <td>0.2008</td>\n      <td>0.1768</td>\n      <td>-0.4409</td>\n      <td>0.7944</td>\n      <td>0.0564</td>\n      <td>-0.1790</td>\n      <td>0.2919</td>\n    </tr>\n    <tr>\n      <th>4</th>\n      <td>0.8591</td>\n      <td>1.2239</td>\n      <td>0.0521</td>\n      <td>0.3361</td>\n      <td>0.0215</td>\n      <td>0.0407</td>\n      <td>GEOMETRIC</td>\n      <td>0.0311</td>\n      <td>0.0305</td>\n      <td>0.0197</td>\n      <td>...</td>\n      <td>0.4228</td>\n      <td>-0.0278</td>\n      <td>-0.0560</td>\n      <td>0.1116</td>\n      <td>0.1168</td>\n      <td>-1.8446</td>\n      <td>2.0782</td>\n      <td>0.1666</td>\n      <td>-0.1396</td>\n      <td>0.4728</td>\n    </tr>\n  </tbody>\n</table>\n<p>5 rows × 26 columns</p>\n</div>"
     },
     "execution_count": 11,
     "metadata": {},
     "output_type": "execute_result"
    }
   ],
   "source": [
    "t_pos.head()"
   ],
   "metadata": {
    "collapsed": false,
    "ExecuteTime": {
     "end_time": "2023-11-06T10:07:28.225405Z",
     "start_time": "2023-11-06T10:07:28.115273Z"
    }
   }
  },
  {
   "cell_type": "code",
   "execution_count": 12,
   "outputs": [],
   "source": [
    "d_con = ((t_con['delta_mc_l_ci'] <= t_con['delta']) & (t_con['delta'] <= t_con['delta_mc_r_ci'])).mean()\n",
    "d_pos = ((t_pos['delta_mc_l_ci'] <= t_pos['delta']) & (t_pos['delta'] <= t_pos['delta_mc_r_ci'])).mean()\n",
    "\n",
    "v_con = ((t_con['vega_mc_l_ci'] <= t_con['vega']) & (t_con['vega'] <= t_con['vega_mc_r_ci'])).mean()\n",
    "v_pos = ((t_pos['vega_mc_l_ci'] <= t_pos['vega']) & (t_pos['vega'] <= t_pos['vega_mc_r_ci'])).mean()\n",
    "\n",
    "th_con = ((t_con['theta_mc_l_ci'] <= t_con['theta']) & (t_con['theta'] <= t_con['theta_mc_r_ci'])).mean()\n",
    "th_pos = ((t_pos['theta_mc_l_ci'] <= t_pos['theta']) & (t_pos['theta'] <= t_pos['theta_mc_r_ci'])).mean()\n",
    "\n",
    "r_con = ((t_con['rho_mc_l_ci'] <= t_con['rho']) & (t_con['rho'] <= t_con['rho_mc_r_ci'])).mean()\n",
    "r_pos = ((t_pos['rho_mc_l_ci'] <= t_pos['rho']) & (t_pos['rho'] <= t_pos['rho_mc_r_ci'])).mean()\n"
   ],
   "metadata": {
    "collapsed": false,
    "ExecuteTime": {
     "end_time": "2023-11-06T10:07:28.225974Z",
     "start_time": "2023-11-06T10:07:28.133291Z"
    }
   }
  },
  {
   "cell_type": "code",
   "execution_count": 13,
   "outputs": [
    {
     "name": "stdout",
     "output_type": "stream",
     "text": [
      "\n",
      "Delta: conv: 0.06, pos: 0.1\n",
      "Vega: conv: 0.98, pos: 0.98\n",
      "Theta: conv: 0.9, pos: 0.94\n",
      "Rho: conv: 0.94, pos: 0.92\n",
      "\n"
     ]
    }
   ],
   "source": [
    "print(f'''\n",
    "Delta: conv: {d_con}, pos: {d_pos}\n",
    "Vega: conv: {v_con}, pos: {v_pos}\n",
    "Theta: conv: {th_con}, pos: {th_pos}\n",
    "Rho: conv: {r_con}, pos: {r_pos}\n",
    "''')"
   ],
   "metadata": {
    "collapsed": false,
    "ExecuteTime": {
     "end_time": "2023-11-06T10:07:28.251650Z",
     "start_time": "2023-11-06T10:07:28.139347Z"
    }
   }
  },
  {
   "cell_type": "code",
   "execution_count": 14,
   "outputs": [],
   "source": [
    "d_con_mse = ((t_con['delta_mc'] - t_con['delta']) ** 2).mean() ** 0.5\n",
    "d_pos_mse = ((t_pos['delta_mc'] - t_pos['delta']) ** 2).mean() ** 0.5\n",
    "\n",
    "v_con_mse = ((t_con['vega_mc'] - t_con['vega']) ** 2).mean() ** 0.5\n",
    "v_pos_mse = ((t_pos['vega_mc'] - t_pos['vega']) ** 2).mean() ** 0.5\n",
    "\n",
    "t_con_mse = ((t_con['theta_mc'] - t_con['theta']) ** 2).mean() ** 0.5\n",
    "t_pos_mse = ((t_pos['theta_mc'] - t_pos['theta']) ** 2).mean() ** 0.5\n",
    "\n",
    "r_con_mse = ((t_con['rho_mc'] - t_con['rho']) ** 2).mean() ** 0.5\n",
    "r_pos_mse = ((t_pos['rho_mc'] - t_pos['rho']) ** 2).mean() ** 0.5"
   ],
   "metadata": {
    "collapsed": false,
    "ExecuteTime": {
     "end_time": "2023-11-06T10:07:28.260261Z",
     "start_time": "2023-11-06T10:07:28.153204Z"
    }
   }
  },
  {
   "cell_type": "code",
   "execution_count": 15,
   "outputs": [
    {
     "name": "stdout",
     "output_type": "stream",
     "text": [
      "\n",
      "Delta: conv MSE: 0.5299001453104161, pos MSE: 0.7445234247490136\n",
      "Vega: conv MSE: 0.0965252422944382, pos MSE: 0.07977299668434175\n",
      "Theta: conv MSE: 0.0207021496468362, pos MSE: 0.022884807187302236\n",
      "Rho: conv MSE: 0.12819341090711334, pos MSE: 0.14611849917104952\n",
      "\n"
     ]
    }
   ],
   "source": [
    "print(f'''\n",
    "Delta: conv MSE: {d_con_mse}, pos MSE: {d_pos_mse}\n",
    "Vega: conv MSE: {v_con_mse}, pos MSE: {v_pos_mse}\n",
    "Theta: conv MSE: {t_con_mse}, pos MSE: {t_pos_mse}\n",
    "Rho: conv MSE: {r_con_mse}, pos MSE: {r_pos_mse}\n",
    "''')"
   ],
   "metadata": {
    "collapsed": false,
    "ExecuteTime": {
     "end_time": "2023-11-06T10:07:28.260844Z",
     "start_time": "2023-11-06T10:07:28.159458Z"
    }
   }
  },
  {
   "cell_type": "markdown",
   "source": [
    "TRAIN 64\n"
   ],
   "metadata": {
    "collapsed": false
   }
  },
  {
   "cell_type": "code",
   "execution_count": 21,
   "outputs": [],
   "source": [
    "t_pos = pd.read_csv('datasets/train64/greeks_positive_50.csv')\n",
    "t_con = pd.read_csv('datasets/train64/greeks_convex_50.csv')"
   ],
   "metadata": {
    "collapsed": false,
    "ExecuteTime": {
     "end_time": "2023-11-06T10:09:13.533731Z",
     "start_time": "2023-11-06T10:09:13.524221Z"
    }
   }
  },
  {
   "cell_type": "code",
   "execution_count": 22,
   "outputs": [
    {
     "data": {
      "text/plain": "   spot_strike_ratio     ttm  risk_free_rate  volatility  left_ci  right_ci  \\\n0             1.7006  0.7712          0.0503      0.3867   0.6857    0.7095   \n1             1.1763  0.7434          0.1320      0.1232   0.2121    0.2136   \n2             0.9228  1.4121          0.1239      0.4093   0.0763    0.1207   \n3             0.9480  1.4413          0.0351      0.3277   0.0632    0.1031   \n4             1.2529  0.6457          0.1994      0.3754   0.2875    0.3077   \n\n     avg_type  monte_carlo_price  net_price   delta  ...  delta_mc_r_ci  \\\n0   GEOMETRIC             0.6976     0.6975  0.0034  ...         1.0224   \n1   GEOMETRIC             0.2128     0.2122  0.0147  ...         0.9560   \n2   GEOMETRIC             0.0985     0.0993  0.0161  ...         0.6850   \n3  ARITHMETIC             0.0831     0.0840  0.0188  ...         0.6539   \n4   GEOMETRIC             0.2976     0.2976  0.0092  ...         0.9504   \n\n   theta_mc  theta_mc_l_ci  theta_mc_r_ci  rho_mc  rho_mc_l_ci  rho_mc_r_ci  \\\n0    0.0127        -0.1299         0.1046  0.1034      -1.6845       1.8913   \n1   -0.0444         0.0364         0.0523  0.2577       0.2133       0.3020   \n2   -0.0429        -0.0849         0.1707  0.1904      -1.2617       1.6425   \n3   -0.0348        -0.0767         0.1462  0.2378      -4.3252       4.8008   \n4   -0.0544        -0.0597         0.1684  0.1723      -0.1948       0.5393   \n\n   vega_mc  vega_mc_l_ci  vega_mc_r_ci  \n0  -0.0776       -0.3128        0.1575  \n1  -0.0169       -0.0649        0.0312  \n2   0.1816       -0.2607        0.6239  \n3   0.2555       -0.2364        0.7474  \n4   0.0045       -0.1931        0.2022  \n\n[5 rows x 26 columns]",
      "text/html": "<div>\n<style scoped>\n    .dataframe tbody tr th:only-of-type {\n        vertical-align: middle;\n    }\n\n    .dataframe tbody tr th {\n        vertical-align: top;\n    }\n\n    .dataframe thead th {\n        text-align: right;\n    }\n</style>\n<table border=\"1\" class=\"dataframe\">\n  <thead>\n    <tr style=\"text-align: right;\">\n      <th></th>\n      <th>spot_strike_ratio</th>\n      <th>ttm</th>\n      <th>risk_free_rate</th>\n      <th>volatility</th>\n      <th>left_ci</th>\n      <th>right_ci</th>\n      <th>avg_type</th>\n      <th>monte_carlo_price</th>\n      <th>net_price</th>\n      <th>delta</th>\n      <th>...</th>\n      <th>delta_mc_r_ci</th>\n      <th>theta_mc</th>\n      <th>theta_mc_l_ci</th>\n      <th>theta_mc_r_ci</th>\n      <th>rho_mc</th>\n      <th>rho_mc_l_ci</th>\n      <th>rho_mc_r_ci</th>\n      <th>vega_mc</th>\n      <th>vega_mc_l_ci</th>\n      <th>vega_mc_r_ci</th>\n    </tr>\n  </thead>\n  <tbody>\n    <tr>\n      <th>0</th>\n      <td>1.7006</td>\n      <td>0.7712</td>\n      <td>0.0503</td>\n      <td>0.3867</td>\n      <td>0.6857</td>\n      <td>0.7095</td>\n      <td>GEOMETRIC</td>\n      <td>0.6976</td>\n      <td>0.6975</td>\n      <td>0.0034</td>\n      <td>...</td>\n      <td>1.0224</td>\n      <td>0.0127</td>\n      <td>-0.1299</td>\n      <td>0.1046</td>\n      <td>0.1034</td>\n      <td>-1.6845</td>\n      <td>1.8913</td>\n      <td>-0.0776</td>\n      <td>-0.3128</td>\n      <td>0.1575</td>\n    </tr>\n    <tr>\n      <th>1</th>\n      <td>1.1763</td>\n      <td>0.7434</td>\n      <td>0.1320</td>\n      <td>0.1232</td>\n      <td>0.2121</td>\n      <td>0.2136</td>\n      <td>GEOMETRIC</td>\n      <td>0.2128</td>\n      <td>0.2122</td>\n      <td>0.0147</td>\n      <td>...</td>\n      <td>0.9560</td>\n      <td>-0.0444</td>\n      <td>0.0364</td>\n      <td>0.0523</td>\n      <td>0.2577</td>\n      <td>0.2133</td>\n      <td>0.3020</td>\n      <td>-0.0169</td>\n      <td>-0.0649</td>\n      <td>0.0312</td>\n    </tr>\n    <tr>\n      <th>2</th>\n      <td>0.9228</td>\n      <td>1.4121</td>\n      <td>0.1239</td>\n      <td>0.4093</td>\n      <td>0.0763</td>\n      <td>0.1207</td>\n      <td>GEOMETRIC</td>\n      <td>0.0985</td>\n      <td>0.0993</td>\n      <td>0.0161</td>\n      <td>...</td>\n      <td>0.6850</td>\n      <td>-0.0429</td>\n      <td>-0.0849</td>\n      <td>0.1707</td>\n      <td>0.1904</td>\n      <td>-1.2617</td>\n      <td>1.6425</td>\n      <td>0.1816</td>\n      <td>-0.2607</td>\n      <td>0.6239</td>\n    </tr>\n    <tr>\n      <th>3</th>\n      <td>0.9480</td>\n      <td>1.4413</td>\n      <td>0.0351</td>\n      <td>0.3277</td>\n      <td>0.0632</td>\n      <td>0.1031</td>\n      <td>ARITHMETIC</td>\n      <td>0.0831</td>\n      <td>0.0840</td>\n      <td>0.0188</td>\n      <td>...</td>\n      <td>0.6539</td>\n      <td>-0.0348</td>\n      <td>-0.0767</td>\n      <td>0.1462</td>\n      <td>0.2378</td>\n      <td>-4.3252</td>\n      <td>4.8008</td>\n      <td>0.2555</td>\n      <td>-0.2364</td>\n      <td>0.7474</td>\n    </tr>\n    <tr>\n      <th>4</th>\n      <td>1.2529</td>\n      <td>0.6457</td>\n      <td>0.1994</td>\n      <td>0.3754</td>\n      <td>0.2875</td>\n      <td>0.3077</td>\n      <td>GEOMETRIC</td>\n      <td>0.2976</td>\n      <td>0.2976</td>\n      <td>0.0092</td>\n      <td>...</td>\n      <td>0.9504</td>\n      <td>-0.0544</td>\n      <td>-0.0597</td>\n      <td>0.1684</td>\n      <td>0.1723</td>\n      <td>-0.1948</td>\n      <td>0.5393</td>\n      <td>0.0045</td>\n      <td>-0.1931</td>\n      <td>0.2022</td>\n    </tr>\n  </tbody>\n</table>\n<p>5 rows × 26 columns</p>\n</div>"
     },
     "execution_count": 22,
     "metadata": {},
     "output_type": "execute_result"
    }
   ],
   "source": [
    "t_pos.head()"
   ],
   "metadata": {
    "collapsed": false,
    "ExecuteTime": {
     "end_time": "2023-11-06T10:09:20.205256Z",
     "start_time": "2023-11-06T10:09:20.199918Z"
    }
   }
  },
  {
   "cell_type": "code",
   "execution_count": 17,
   "outputs": [],
   "source": [
    "d_con = ((t_con['delta_mc_l_ci'] <= t_con['delta']) & (t_con['delta'] <= t_con['delta_mc_r_ci'])).mean()\n",
    "d_pos = ((t_pos['delta_mc_l_ci'] <= t_pos['delta']) & (t_pos['delta'] <= t_pos['delta_mc_r_ci'])).mean()\n",
    "\n",
    "v_con = ((t_con['vega_mc_l_ci'] <= t_con['vega']) & (t_con['vega'] <= t_con['vega_mc_r_ci'])).mean()\n",
    "v_pos = ((t_pos['vega_mc_l_ci'] <= t_pos['vega']) & (t_pos['vega'] <= t_pos['vega_mc_r_ci'])).mean()\n",
    "\n",
    "th_con = ((t_con['theta_mc_l_ci'] <= t_con['theta']) & (t_con['theta'] <= t_con['theta_mc_r_ci'])).mean()\n",
    "th_pos = ((t_pos['theta_mc_l_ci'] <= t_pos['theta']) & (t_pos['theta'] <= t_pos['theta_mc_r_ci'])).mean()\n",
    "\n",
    "r_con = ((t_con['rho_mc_l_ci'] <= t_con['rho']) & (t_con['rho'] <= t_con['rho_mc_r_ci'])).mean()\n",
    "r_pos = ((t_pos['rho_mc_l_ci'] <= t_pos['rho']) & (t_pos['rho'] <= t_pos['rho_mc_r_ci'])).mean()\n"
   ],
   "metadata": {
    "collapsed": false,
    "ExecuteTime": {
     "end_time": "2023-11-06T10:07:28.279721Z",
     "start_time": "2023-11-06T10:07:28.180154Z"
    }
   }
  },
  {
   "cell_type": "code",
   "execution_count": 18,
   "outputs": [
    {
     "name": "stdout",
     "output_type": "stream",
     "text": [
      "\n",
      "Delta: conv: 0.06, pos: 0.08\n",
      "Vega: conv: 0.94, pos: 0.92\n",
      "Theta: conv: 0.82, pos: 0.8\n",
      "Rho: conv: 0.84, pos: 0.82\n",
      "\n"
     ]
    }
   ],
   "source": [
    "print(f'''\n",
    "Delta: conv: {d_con}, pos: {d_pos}\n",
    "Vega: conv: {v_con}, pos: {v_pos}\n",
    "Theta: conv: {th_con}, pos: {th_pos}\n",
    "Rho: conv: {r_con}, pos: {r_pos}\n",
    "''')"
   ],
   "metadata": {
    "collapsed": false,
    "ExecuteTime": {
     "end_time": "2023-11-06T10:07:28.280698Z",
     "start_time": "2023-11-06T10:07:28.198925Z"
    }
   }
  },
  {
   "cell_type": "code",
   "execution_count": 19,
   "outputs": [],
   "source": [
    "d_con_mse = ((t_con['delta_mc'] - t_con['delta']) ** 2).mean() ** 0.5\n",
    "d_pos_mse = ((t_pos['delta_mc'] - t_pos['delta']) ** 2).mean() ** 0.5\n",
    "\n",
    "v_con_mse = ((t_con['vega_mc'] - t_con['vega']) ** 2).mean() ** 0.5\n",
    "v_pos_mse = ((t_pos['vega_mc'] - t_pos['vega']) ** 2).mean() ** 0.5\n",
    "\n",
    "t_con_mse = ((t_con['theta_mc'] - t_con['theta']) ** 2).mean() ** 0.5\n",
    "t_pos_mse = ((t_pos['theta_mc'] - t_pos['theta']) ** 2).mean() ** 0.5\n",
    "\n",
    "r_con_mse = ((t_con['rho_mc'] - t_con['rho']) ** 2).mean() ** 0.5\n",
    "r_pos_mse = ((t_pos['rho_mc'] - t_pos['rho']) ** 2).mean() ** 0.5"
   ],
   "metadata": {
    "collapsed": false,
    "ExecuteTime": {
     "end_time": "2023-11-06T10:07:28.280950Z",
     "start_time": "2023-11-06T10:07:28.213005Z"
    }
   }
  },
  {
   "cell_type": "code",
   "execution_count": 20,
   "outputs": [
    {
     "name": "stdout",
     "output_type": "stream",
     "text": [
      "\n",
      "Delta: conv MSE: 0.5327408719067835, pos MSE: 0.7804988821260412\n",
      "Vega: conv MSE: 0.09817341900942433, pos MSE: 0.07980804470728499\n",
      "Theta: conv MSE: 0.027125987539627014, pos MSE: 0.027687636229913163\n",
      "Rho: conv MSE: 0.1370499325063679, pos MSE: 0.15336387971096715\n",
      "\n"
     ]
    }
   ],
   "source": [
    "print(f'''\n",
    "Delta: conv MSE: {d_con_mse}, pos MSE: {d_pos_mse}\n",
    "Vega: conv MSE: {v_con_mse}, pos MSE: {v_pos_mse}\n",
    "Theta: conv MSE: {t_con_mse}, pos MSE: {t_pos_mse}\n",
    "Rho: conv MSE: {r_con_mse}, pos MSE: {r_pos_mse}\n",
    "''')"
   ],
   "metadata": {
    "collapsed": false,
    "ExecuteTime": {
     "end_time": "2023-11-06T10:07:28.281290Z",
     "start_time": "2023-11-06T10:07:28.215271Z"
    }
   }
  }
 ],
 "metadata": {
  "kernelspec": {
   "display_name": "Python 3",
   "language": "python",
   "name": "python3"
  },
  "language_info": {
   "codemirror_mode": {
    "name": "ipython",
    "version": 2
   },
   "file_extension": ".py",
   "mimetype": "text/x-python",
   "name": "python",
   "nbconvert_exporter": "python",
   "pygments_lexer": "ipython2",
   "version": "2.7.6"
  }
 },
 "nbformat": 4,
 "nbformat_minor": 0
}
