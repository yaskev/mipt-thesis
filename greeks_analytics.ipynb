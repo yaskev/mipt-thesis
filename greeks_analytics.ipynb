{
 "cells": [
  {
   "cell_type": "code",
   "execution_count": 2,
   "metadata": {
    "collapsed": true,
    "ExecuteTime": {
     "end_time": "2024-04-07T18:34:59.453718Z",
     "start_time": "2024-04-07T18:34:58.616512Z"
    }
   },
   "outputs": [],
   "source": [
    "import pandas as pd"
   ]
  },
  {
   "cell_type": "markdown",
   "source": [
    "TRAIN"
   ],
   "metadata": {
    "collapsed": false
   }
  },
  {
   "cell_type": "code",
   "execution_count": 21,
   "outputs": [],
   "source": [
    "g_conv = pd.read_csv('datasets/train/greeks_convex.csv')\n",
    "g_pos = pd.read_csv('datasets/train/greeks_positive.csv')\n",
    "g_mc = pd.read_csv('datasets/train/greeks_mc_with_ci.csv')"
   ],
   "metadata": {
    "collapsed": false,
    "ExecuteTime": {
     "end_time": "2024-02-10T18:36:30.111715Z",
     "start_time": "2024-02-10T18:36:30.059541Z"
    }
   }
  },
  {
   "cell_type": "code",
   "execution_count": 22,
   "outputs": [
    {
     "data": {
      "text/plain": "   spot_strike_ratio     ttm  risk_free_rate  volatility    avg_type  \\\n0             0.9317  1.1047          0.0886      0.2364  ARITHMETIC   \n1             0.9711  1.3943          0.0532      0.1891  ARITHMETIC   \n2             0.8641  0.5139          0.1477      0.4491  ARITHMETIC   \n3             1.2540  0.7364          0.1729      0.3078  ARITHMETIC   \n4             0.8090  0.8100          0.1142      0.3076   GEOMETRIC   \n\n   monte_carlo_price  net_price  delta_mc  delta_mc_l_ci  delta_mc_r_ci  \\\n0             0.0480     1.6256    0.4563         0.3597         0.5529   \n1             0.0561     1.6364    0.5403         0.4524         0.6282   \n2             0.0369     1.6217    0.3118         0.1999         0.4238   \n3             0.3045     1.6956    0.9194         0.8712         0.9675   \n4             0.0143     1.4310    0.1585         0.0975         0.2196   \n\n   theta_mc  theta_mc_l_ci  theta_mc_r_ci  rho_mc  rho_mc_l_ci  rho_mc_r_ci  \\\n0   -0.0387        -0.0421         0.1194  0.1916      -0.8119       1.1952   \n1   -0.0286        -0.0326         0.0897  0.2958      -1.3027       1.8944   \n2   -0.0712        -0.1143         0.2567  0.0565      -0.5864       0.6994   \n3   -0.0565        -0.0266         0.1396  0.2136      -0.1381       0.5653   \n4   -0.0233        -0.0360         0.0827  0.0418      -0.3771       0.4607   \n\n   vega_mc  vega_mc_l_ci  vega_mc_r_ci  \n0   0.2183       -0.1600        0.5965  \n1   0.2558       -0.1966        0.7082  \n2   0.1261       -0.0869        0.3391  \n3   0.0312       -0.1690        0.2315  \n4   0.0920       -0.0649        0.2490  ",
      "text/html": "<div>\n<style scoped>\n    .dataframe tbody tr th:only-of-type {\n        vertical-align: middle;\n    }\n\n    .dataframe tbody tr th {\n        vertical-align: top;\n    }\n\n    .dataframe thead th {\n        text-align: right;\n    }\n</style>\n<table border=\"1\" class=\"dataframe\">\n  <thead>\n    <tr style=\"text-align: right;\">\n      <th></th>\n      <th>spot_strike_ratio</th>\n      <th>ttm</th>\n      <th>risk_free_rate</th>\n      <th>volatility</th>\n      <th>avg_type</th>\n      <th>monte_carlo_price</th>\n      <th>net_price</th>\n      <th>delta_mc</th>\n      <th>delta_mc_l_ci</th>\n      <th>delta_mc_r_ci</th>\n      <th>theta_mc</th>\n      <th>theta_mc_l_ci</th>\n      <th>theta_mc_r_ci</th>\n      <th>rho_mc</th>\n      <th>rho_mc_l_ci</th>\n      <th>rho_mc_r_ci</th>\n      <th>vega_mc</th>\n      <th>vega_mc_l_ci</th>\n      <th>vega_mc_r_ci</th>\n    </tr>\n  </thead>\n  <tbody>\n    <tr>\n      <th>0</th>\n      <td>0.9317</td>\n      <td>1.1047</td>\n      <td>0.0886</td>\n      <td>0.2364</td>\n      <td>ARITHMETIC</td>\n      <td>0.0480</td>\n      <td>1.6256</td>\n      <td>0.4563</td>\n      <td>0.3597</td>\n      <td>0.5529</td>\n      <td>-0.0387</td>\n      <td>-0.0421</td>\n      <td>0.1194</td>\n      <td>0.1916</td>\n      <td>-0.8119</td>\n      <td>1.1952</td>\n      <td>0.2183</td>\n      <td>-0.1600</td>\n      <td>0.5965</td>\n    </tr>\n    <tr>\n      <th>1</th>\n      <td>0.9711</td>\n      <td>1.3943</td>\n      <td>0.0532</td>\n      <td>0.1891</td>\n      <td>ARITHMETIC</td>\n      <td>0.0561</td>\n      <td>1.6364</td>\n      <td>0.5403</td>\n      <td>0.4524</td>\n      <td>0.6282</td>\n      <td>-0.0286</td>\n      <td>-0.0326</td>\n      <td>0.0897</td>\n      <td>0.2958</td>\n      <td>-1.3027</td>\n      <td>1.8944</td>\n      <td>0.2558</td>\n      <td>-0.1966</td>\n      <td>0.7082</td>\n    </tr>\n    <tr>\n      <th>2</th>\n      <td>0.8641</td>\n      <td>0.5139</td>\n      <td>0.1477</td>\n      <td>0.4491</td>\n      <td>ARITHMETIC</td>\n      <td>0.0369</td>\n      <td>1.6217</td>\n      <td>0.3118</td>\n      <td>0.1999</td>\n      <td>0.4238</td>\n      <td>-0.0712</td>\n      <td>-0.1143</td>\n      <td>0.2567</td>\n      <td>0.0565</td>\n      <td>-0.5864</td>\n      <td>0.6994</td>\n      <td>0.1261</td>\n      <td>-0.0869</td>\n      <td>0.3391</td>\n    </tr>\n    <tr>\n      <th>3</th>\n      <td>1.2540</td>\n      <td>0.7364</td>\n      <td>0.1729</td>\n      <td>0.3078</td>\n      <td>ARITHMETIC</td>\n      <td>0.3045</td>\n      <td>1.6956</td>\n      <td>0.9194</td>\n      <td>0.8712</td>\n      <td>0.9675</td>\n      <td>-0.0565</td>\n      <td>-0.0266</td>\n      <td>0.1396</td>\n      <td>0.2136</td>\n      <td>-0.1381</td>\n      <td>0.5653</td>\n      <td>0.0312</td>\n      <td>-0.1690</td>\n      <td>0.2315</td>\n    </tr>\n    <tr>\n      <th>4</th>\n      <td>0.8090</td>\n      <td>0.8100</td>\n      <td>0.1142</td>\n      <td>0.3076</td>\n      <td>GEOMETRIC</td>\n      <td>0.0143</td>\n      <td>1.4310</td>\n      <td>0.1585</td>\n      <td>0.0975</td>\n      <td>0.2196</td>\n      <td>-0.0233</td>\n      <td>-0.0360</td>\n      <td>0.0827</td>\n      <td>0.0418</td>\n      <td>-0.3771</td>\n      <td>0.4607</td>\n      <td>0.0920</td>\n      <td>-0.0649</td>\n      <td>0.2490</td>\n    </tr>\n  </tbody>\n</table>\n</div>"
     },
     "execution_count": 22,
     "metadata": {},
     "output_type": "execute_result"
    }
   ],
   "source": [
    "g_mc.head()"
   ],
   "metadata": {
    "collapsed": false,
    "ExecuteTime": {
     "end_time": "2024-02-10T18:36:30.124376Z",
     "start_time": "2024-02-10T18:36:30.097365Z"
    }
   }
  },
  {
   "cell_type": "code",
   "execution_count": 23,
   "outputs": [
    {
     "data": {
      "text/plain": "   spot_strike_ratio     ttm  risk_free_rate  volatility    avg_type  \\\n0             0.9317  1.1047          0.0886      0.2364  ARITHMETIC   \n1             0.9711  1.3943          0.0532      0.1891  ARITHMETIC   \n2             0.8641  0.5139          0.1477      0.4491  ARITHMETIC   \n3             1.2540  0.7364          0.1729      0.3078  ARITHMETIC   \n4             0.8090  0.8100          0.1142      0.3076   GEOMETRIC   \n\n   monte_carlo_price  net_price   delta    vega   theta     rho   gamma  \n0             0.0480     0.0956  0.4001  0.0064 -0.0009  0.0142  1.3949  \n1             0.0561     0.1117  0.4526  0.0076 -0.0003  0.0168  1.4325  \n2             0.0369     0.0715  0.3107  0.0045 -0.0076  0.0103  1.2427  \n3             0.3045     0.2994  0.8276  0.0207 -0.0136  0.0463  0.9183  \n4             0.0143     0.0551  0.2420  0.0034 -0.0017  0.0077  1.0564  ",
      "text/html": "<div>\n<style scoped>\n    .dataframe tbody tr th:only-of-type {\n        vertical-align: middle;\n    }\n\n    .dataframe tbody tr th {\n        vertical-align: top;\n    }\n\n    .dataframe thead th {\n        text-align: right;\n    }\n</style>\n<table border=\"1\" class=\"dataframe\">\n  <thead>\n    <tr style=\"text-align: right;\">\n      <th></th>\n      <th>spot_strike_ratio</th>\n      <th>ttm</th>\n      <th>risk_free_rate</th>\n      <th>volatility</th>\n      <th>avg_type</th>\n      <th>monte_carlo_price</th>\n      <th>net_price</th>\n      <th>delta</th>\n      <th>vega</th>\n      <th>theta</th>\n      <th>rho</th>\n      <th>gamma</th>\n    </tr>\n  </thead>\n  <tbody>\n    <tr>\n      <th>0</th>\n      <td>0.9317</td>\n      <td>1.1047</td>\n      <td>0.0886</td>\n      <td>0.2364</td>\n      <td>ARITHMETIC</td>\n      <td>0.0480</td>\n      <td>0.0956</td>\n      <td>0.4001</td>\n      <td>0.0064</td>\n      <td>-0.0009</td>\n      <td>0.0142</td>\n      <td>1.3949</td>\n    </tr>\n    <tr>\n      <th>1</th>\n      <td>0.9711</td>\n      <td>1.3943</td>\n      <td>0.0532</td>\n      <td>0.1891</td>\n      <td>ARITHMETIC</td>\n      <td>0.0561</td>\n      <td>0.1117</td>\n      <td>0.4526</td>\n      <td>0.0076</td>\n      <td>-0.0003</td>\n      <td>0.0168</td>\n      <td>1.4325</td>\n    </tr>\n    <tr>\n      <th>2</th>\n      <td>0.8641</td>\n      <td>0.5139</td>\n      <td>0.1477</td>\n      <td>0.4491</td>\n      <td>ARITHMETIC</td>\n      <td>0.0369</td>\n      <td>0.0715</td>\n      <td>0.3107</td>\n      <td>0.0045</td>\n      <td>-0.0076</td>\n      <td>0.0103</td>\n      <td>1.2427</td>\n    </tr>\n    <tr>\n      <th>3</th>\n      <td>1.2540</td>\n      <td>0.7364</td>\n      <td>0.1729</td>\n      <td>0.3078</td>\n      <td>ARITHMETIC</td>\n      <td>0.3045</td>\n      <td>0.2994</td>\n      <td>0.8276</td>\n      <td>0.0207</td>\n      <td>-0.0136</td>\n      <td>0.0463</td>\n      <td>0.9183</td>\n    </tr>\n    <tr>\n      <th>4</th>\n      <td>0.8090</td>\n      <td>0.8100</td>\n      <td>0.1142</td>\n      <td>0.3076</td>\n      <td>GEOMETRIC</td>\n      <td>0.0143</td>\n      <td>0.0551</td>\n      <td>0.2420</td>\n      <td>0.0034</td>\n      <td>-0.0017</td>\n      <td>0.0077</td>\n      <td>1.0564</td>\n    </tr>\n  </tbody>\n</table>\n</div>"
     },
     "execution_count": 23,
     "metadata": {},
     "output_type": "execute_result"
    }
   ],
   "source": [
    "g_conv.head()"
   ],
   "metadata": {
    "collapsed": false,
    "ExecuteTime": {
     "end_time": "2024-02-10T18:36:30.172881Z",
     "start_time": "2024-02-10T18:36:30.141311Z"
    }
   }
  },
  {
   "cell_type": "code",
   "execution_count": 24,
   "outputs": [],
   "source": [
    "d_con = ((g_mc['delta_mc_l_ci'] <= g_conv['delta']) & (g_conv['delta'] <= g_mc['delta_mc_r_ci'])).mean()\n",
    "d_pos = ((g_mc['delta_mc_l_ci'] <= g_pos['delta']) & (g_pos['delta'] <= g_mc['delta_mc_r_ci'])).mean()\n",
    "\n",
    "v_con = ((g_mc['vega_mc_l_ci'] <= g_conv['vega']) & (g_conv['vega'] <= g_mc['vega_mc_r_ci'])).mean()\n",
    "v_pos = ((g_mc['vega_mc_l_ci'] <= g_pos['vega']) & (g_pos['vega'] <= g_mc['vega_mc_r_ci'])).mean()\n",
    "\n",
    "t_con = ((g_mc['theta_mc_l_ci'] <= g_conv['theta']) & (g_conv['theta'] <= g_mc['theta_mc_r_ci'])).mean()\n",
    "t_pos = ((g_mc['theta_mc_l_ci'] <= g_pos['theta']) & (g_pos['theta'] <= g_mc['theta_mc_r_ci'])).mean()\n",
    "\n",
    "r_con = ((g_mc['rho_mc_l_ci'] <= g_conv['rho']) & (g_conv['rho'] <= g_mc['rho_mc_r_ci'])).mean()\n",
    "r_pos = ((g_mc['rho_mc_l_ci'] <= g_pos['rho']) & (g_pos['rho'] <= g_mc['rho_mc_r_ci'])).mean()\n"
   ],
   "metadata": {
    "collapsed": false,
    "ExecuteTime": {
     "end_time": "2024-02-10T18:36:30.211791Z",
     "start_time": "2024-02-10T18:36:30.165628Z"
    }
   }
  },
  {
   "cell_type": "code",
   "execution_count": 25,
   "outputs": [
    {
     "name": "stdout",
     "output_type": "stream",
     "text": [
      "\n",
      "Delta: conv: 0.53, pos: 0.63\n",
      "Vega: conv: 0.94, pos: 0.86\n",
      "Theta: conv: 0.8, pos: 0.71\n",
      "Rho: conv: 0.86, pos: 0.89\n",
      "\n"
     ]
    }
   ],
   "source": [
    "print(f'''\n",
    "Delta: conv: {d_con}, pos: {d_pos}\n",
    "Vega: conv: {v_con}, pos: {v_pos}\n",
    "Theta: conv: {t_con}, pos: {t_pos}\n",
    "Rho: conv: {r_con}, pos: {r_pos}\n",
    "''')"
   ],
   "metadata": {
    "collapsed": false,
    "ExecuteTime": {
     "end_time": "2024-02-10T18:36:30.255567Z",
     "start_time": "2024-02-10T18:36:30.172234Z"
    }
   }
  },
  {
   "cell_type": "code",
   "execution_count": 26,
   "outputs": [],
   "source": [
    "d_con_mse = ((g_mc['delta_mc'] - g_conv['delta']) ** 2).mean() ** 0.5\n",
    "d_pos_mse = ((g_mc['delta_mc'] - g_pos['delta']) ** 2).mean() ** 0.5\n",
    "\n",
    "v_con_mse = ((g_mc['vega_mc'] - g_conv['vega']) ** 2).mean() ** 0.5\n",
    "v_pos_mse = ((g_mc['vega_mc'] - g_pos['vega']) ** 2).mean() ** 0.5\n",
    "\n",
    "t_con_mse = ((g_mc['theta_mc'] - g_pos['theta']) ** 2).mean() ** 0.5\n",
    "t_pos_mse = ((g_mc['theta_mc'] - g_pos['theta']) ** 2).mean() ** 0.5\n",
    "\n",
    "r_con_mse = ((g_mc['rho_mc'] - g_pos['rho']) ** 2).mean() ** 0.5\n",
    "r_pos_mse = ((g_mc['rho_mc'] - g_pos['rho']) ** 2).mean() ** 0.5"
   ],
   "metadata": {
    "collapsed": false,
    "ExecuteTime": {
     "end_time": "2024-02-10T18:36:30.272965Z",
     "start_time": "2024-02-10T18:36:30.186751Z"
    }
   }
  },
  {
   "cell_type": "code",
   "execution_count": 27,
   "outputs": [
    {
     "name": "stdout",
     "output_type": "stream",
     "text": [
      "\n",
      "Delta: conv MSE: 0.010339963499999999, pos MSE: 0.006093736200000002\n",
      "Vega: conv MSE: 0.011645618600000004, pos MSE: 0.006032773600000001\n",
      "Theta: conv MSE: 0.00033683129999999994, pos MSE: 0.00033683129999999994\n",
      "Rho: conv MSE: 0.003976680000000001, pos MSE: 0.003976680000000001\n",
      "\n"
     ]
    }
   ],
   "source": [
    "print(f'''\n",
    "Delta: conv MSE: {d_con_mse ** 2}, pos MSE: {d_pos_mse ** 2}\n",
    "Vega: conv MSE: {v_con_mse ** 2}, pos MSE: {v_pos_mse ** 2}\n",
    "Theta: conv MSE: {t_con_mse ** 2}, pos MSE: {t_pos_mse ** 2}\n",
    "Rho: conv MSE: {r_con_mse ** 2}, pos MSE: {r_pos_mse ** 2}\n",
    "''')"
   ],
   "metadata": {
    "collapsed": false,
    "ExecuteTime": {
     "end_time": "2024-02-10T18:36:30.362560Z",
     "start_time": "2024-02-10T18:36:30.193755Z"
    }
   }
  },
  {
   "cell_type": "code",
   "execution_count": 28,
   "outputs": [],
   "source": [
    "d_con = ((g_mc['delta_mc_l_ci'] - g_mc['delta_mc_r_ci']) ** 2).mean()\n",
    "d_pos = ((g_mc['delta_mc_l_ci'] - g_mc['delta_mc_r_ci']) ** 2).mean()\n",
    "\n",
    "v_con = ((g_mc['vega_mc_l_ci'] - g_mc['vega_mc_r_ci']) ** 2).mean()\n",
    "v_pos = ((g_mc['vega_mc_l_ci'] - g_mc['vega_mc_r_ci']) ** 2).mean()\n",
    "\n",
    "t_con = ((g_mc['theta_mc_l_ci'] - g_mc['theta_mc_r_ci']) ** 2).mean()\n",
    "t_pos = ((g_mc['theta_mc_l_ci'] - g_mc['theta_mc_r_ci']) ** 2).mean()\n",
    "\n",
    "r_con = ((g_mc['rho_mc_l_ci'] - g_mc['rho_mc_r_ci']) ** 2).mean()\n",
    "r_pos = ((g_mc['rho_mc_l_ci'] - g_mc['rho_mc_r_ci']) ** 2).mean()"
   ],
   "metadata": {
    "collapsed": false,
    "ExecuteTime": {
     "end_time": "2024-02-10T18:36:30.362966Z",
     "start_time": "2024-02-10T18:36:30.212063Z"
    }
   }
  },
  {
   "cell_type": "code",
   "execution_count": 29,
   "outputs": [
    {
     "name": "stdout",
     "output_type": "stream",
     "text": [
      "\n",
      "Delta CI len: conv: 0.04950114250000001, pos: 0.04950114250000001\n",
      "Vega CI len: conv: 0.3650443414000001, pos: 0.3650443414000001\n",
      "Theta CI len: conv: 0.0699433065, pos: 0.0699433065\n",
      "Rho CI len: conv: 139.90774261869993, pos: 139.90774261869993\n",
      "\n"
     ]
    }
   ],
   "source": [
    "print(f'''\n",
    "Delta CI len: conv: {d_con}, pos: {d_pos}\n",
    "Vega CI len: conv: {v_con}, pos: {v_pos}\n",
    "Theta CI len: conv: {t_con}, pos: {t_pos}\n",
    "Rho CI len: conv: {r_con}, pos: {r_pos}\n",
    "''')"
   ],
   "metadata": {
    "collapsed": false,
    "ExecuteTime": {
     "end_time": "2024-02-10T18:36:30.363328Z",
     "start_time": "2024-02-10T18:36:30.215172Z"
    }
   }
  },
  {
   "cell_type": "markdown",
   "source": [
    "TEST"
   ],
   "metadata": {
    "collapsed": false
   }
  },
  {
   "cell_type": "code",
   "execution_count": 30,
   "outputs": [],
   "source": [
    "t_pos = pd.read_csv('datasets/test/greeks_positive_50.csv')\n",
    "t_con = pd.read_csv('datasets/test/greeks_convex_50.csv')"
   ],
   "metadata": {
    "collapsed": false,
    "ExecuteTime": {
     "end_time": "2024-02-10T18:36:30.363709Z",
     "start_time": "2024-02-10T18:36:30.221828Z"
    }
   }
  },
  {
   "cell_type": "code",
   "execution_count": 31,
   "outputs": [
    {
     "data": {
      "text/plain": "   spot_strike_ratio     ttm  risk_free_rate  volatility    avg_type  \\\n0             0.8146  0.8595          0.0435      0.2221  ARITHMETIC   \n1             1.5307  0.9948          0.0550      0.2459  ARITHMETIC   \n2             1.5920  0.7160          0.1168      0.2292   GEOMETRIC   \n3             1.1679  0.6066          0.1398      0.3709   GEOMETRIC   \n4             0.8591  1.2239          0.0521      0.3361   GEOMETRIC   \n\n   monte_carlo_price  net_price   delta    vega   theta  ...  delta_mc_r_ci  \\\n0             0.0025     0.0235  0.1517  0.0258 -0.0092  ...         0.1015   \n1             0.5430     0.5523  0.9504  0.0465 -0.0200  ...         1.0063   \n2             0.6024     0.5948  0.9629  0.0328 -0.0156  ...         0.9725   \n3             0.2040     0.2187  0.9067  0.1664 -0.0592  ...         0.9259   \n4             0.0311     0.0398  0.2597  0.0498 -0.0177  ...         0.4228   \n\n   theta_mc  theta_mc_l_ci  theta_mc_r_ci  rho_mc  rho_mc_l_ci  rho_mc_r_ci  \\\n0   -0.0087        -0.0177         0.0351  0.0224      -0.4958       0.5406   \n1   -0.0115        -0.0402         0.0631  0.2074      -0.7219       1.1367   \n2   -0.0118        -0.0250         0.0485  0.1135      -0.1106       0.3377   \n3   -0.0578        -0.0853         0.2008  0.1768      -0.4409       0.7944   \n4   -0.0278        -0.0560         0.1116  0.1168      -1.8446       2.0782   \n\n   vega_mc  vega_mc_l_ci  vega_mc_r_ci  \n0   0.0588       -0.0441        0.1618  \n1   0.0001       -0.2099        0.2102  \n2  -0.0423       -0.1577        0.0731  \n3   0.0564       -0.1790        0.2919  \n4   0.1666       -0.1396        0.4728  \n\n[5 rows x 24 columns]",
      "text/html": "<div>\n<style scoped>\n    .dataframe tbody tr th:only-of-type {\n        vertical-align: middle;\n    }\n\n    .dataframe tbody tr th {\n        vertical-align: top;\n    }\n\n    .dataframe thead th {\n        text-align: right;\n    }\n</style>\n<table border=\"1\" class=\"dataframe\">\n  <thead>\n    <tr style=\"text-align: right;\">\n      <th></th>\n      <th>spot_strike_ratio</th>\n      <th>ttm</th>\n      <th>risk_free_rate</th>\n      <th>volatility</th>\n      <th>avg_type</th>\n      <th>monte_carlo_price</th>\n      <th>net_price</th>\n      <th>delta</th>\n      <th>vega</th>\n      <th>theta</th>\n      <th>...</th>\n      <th>delta_mc_r_ci</th>\n      <th>theta_mc</th>\n      <th>theta_mc_l_ci</th>\n      <th>theta_mc_r_ci</th>\n      <th>rho_mc</th>\n      <th>rho_mc_l_ci</th>\n      <th>rho_mc_r_ci</th>\n      <th>vega_mc</th>\n      <th>vega_mc_l_ci</th>\n      <th>vega_mc_r_ci</th>\n    </tr>\n  </thead>\n  <tbody>\n    <tr>\n      <th>0</th>\n      <td>0.8146</td>\n      <td>0.8595</td>\n      <td>0.0435</td>\n      <td>0.2221</td>\n      <td>ARITHMETIC</td>\n      <td>0.0025</td>\n      <td>0.0235</td>\n      <td>0.1517</td>\n      <td>0.0258</td>\n      <td>-0.0092</td>\n      <td>...</td>\n      <td>0.1015</td>\n      <td>-0.0087</td>\n      <td>-0.0177</td>\n      <td>0.0351</td>\n      <td>0.0224</td>\n      <td>-0.4958</td>\n      <td>0.5406</td>\n      <td>0.0588</td>\n      <td>-0.0441</td>\n      <td>0.1618</td>\n    </tr>\n    <tr>\n      <th>1</th>\n      <td>1.5307</td>\n      <td>0.9948</td>\n      <td>0.0550</td>\n      <td>0.2459</td>\n      <td>ARITHMETIC</td>\n      <td>0.5430</td>\n      <td>0.5523</td>\n      <td>0.9504</td>\n      <td>0.0465</td>\n      <td>-0.0200</td>\n      <td>...</td>\n      <td>1.0063</td>\n      <td>-0.0115</td>\n      <td>-0.0402</td>\n      <td>0.0631</td>\n      <td>0.2074</td>\n      <td>-0.7219</td>\n      <td>1.1367</td>\n      <td>0.0001</td>\n      <td>-0.2099</td>\n      <td>0.2102</td>\n    </tr>\n    <tr>\n      <th>2</th>\n      <td>1.5920</td>\n      <td>0.7160</td>\n      <td>0.1168</td>\n      <td>0.2292</td>\n      <td>GEOMETRIC</td>\n      <td>0.6024</td>\n      <td>0.5948</td>\n      <td>0.9629</td>\n      <td>0.0328</td>\n      <td>-0.0156</td>\n      <td>...</td>\n      <td>0.9725</td>\n      <td>-0.0118</td>\n      <td>-0.0250</td>\n      <td>0.0485</td>\n      <td>0.1135</td>\n      <td>-0.1106</td>\n      <td>0.3377</td>\n      <td>-0.0423</td>\n      <td>-0.1577</td>\n      <td>0.0731</td>\n    </tr>\n    <tr>\n      <th>3</th>\n      <td>1.1679</td>\n      <td>0.6066</td>\n      <td>0.1398</td>\n      <td>0.3709</td>\n      <td>GEOMETRIC</td>\n      <td>0.2040</td>\n      <td>0.2187</td>\n      <td>0.9067</td>\n      <td>0.1664</td>\n      <td>-0.0592</td>\n      <td>...</td>\n      <td>0.9259</td>\n      <td>-0.0578</td>\n      <td>-0.0853</td>\n      <td>0.2008</td>\n      <td>0.1768</td>\n      <td>-0.4409</td>\n      <td>0.7944</td>\n      <td>0.0564</td>\n      <td>-0.1790</td>\n      <td>0.2919</td>\n    </tr>\n    <tr>\n      <th>4</th>\n      <td>0.8591</td>\n      <td>1.2239</td>\n      <td>0.0521</td>\n      <td>0.3361</td>\n      <td>GEOMETRIC</td>\n      <td>0.0311</td>\n      <td>0.0398</td>\n      <td>0.2597</td>\n      <td>0.0498</td>\n      <td>-0.0177</td>\n      <td>...</td>\n      <td>0.4228</td>\n      <td>-0.0278</td>\n      <td>-0.0560</td>\n      <td>0.1116</td>\n      <td>0.1168</td>\n      <td>-1.8446</td>\n      <td>2.0782</td>\n      <td>0.1666</td>\n      <td>-0.1396</td>\n      <td>0.4728</td>\n    </tr>\n  </tbody>\n</table>\n<p>5 rows × 24 columns</p>\n</div>"
     },
     "execution_count": 31,
     "metadata": {},
     "output_type": "execute_result"
    }
   ],
   "source": [
    "t_pos.head()"
   ],
   "metadata": {
    "collapsed": false,
    "ExecuteTime": {
     "end_time": "2024-02-10T18:36:30.364773Z",
     "start_time": "2024-02-10T18:36:30.236071Z"
    }
   }
  },
  {
   "cell_type": "code",
   "execution_count": 32,
   "outputs": [],
   "source": [
    "d_con = ((t_con['delta_mc_l_ci'] <= t_con['delta']) & (t_con['delta'] <= t_con['delta_mc_r_ci'])).mean()\n",
    "d_pos = ((t_pos['delta_mc_l_ci'] <= t_pos['delta']) & (t_pos['delta'] <= t_pos['delta_mc_r_ci'])).mean()\n",
    "\n",
    "v_con = ((t_con['vega_mc_l_ci'] <= t_con['vega']) & (t_con['vega'] <= t_con['vega_mc_r_ci'])).mean()\n",
    "v_pos = ((t_pos['vega_mc_l_ci'] <= t_pos['vega']) & (t_pos['vega'] <= t_pos['vega_mc_r_ci'])).mean()\n",
    "\n",
    "th_con = ((t_con['theta_mc_l_ci'] <= t_con['theta']) & (t_con['theta'] <= t_con['theta_mc_r_ci'])).mean()\n",
    "th_pos = ((t_pos['theta_mc_l_ci'] <= t_pos['theta']) & (t_pos['theta'] <= t_pos['theta_mc_r_ci'])).mean()\n",
    "\n",
    "r_con = ((t_con['rho_mc_l_ci'] <= t_con['rho']) & (t_con['rho'] <= t_con['rho_mc_r_ci'])).mean()\n",
    "r_pos = ((t_pos['rho_mc_l_ci'] <= t_pos['rho']) & (t_pos['rho'] <= t_pos['rho_mc_r_ci'])).mean()\n"
   ],
   "metadata": {
    "collapsed": false,
    "ExecuteTime": {
     "end_time": "2024-02-10T18:36:30.389472Z",
     "start_time": "2024-02-10T18:36:30.288485Z"
    }
   }
  },
  {
   "cell_type": "code",
   "execution_count": 33,
   "outputs": [
    {
     "name": "stdout",
     "output_type": "stream",
     "text": [
      "\n",
      "Delta: conv: 0.56, pos: 0.56\n",
      "Vega: conv: 0.98, pos: 0.86\n",
      "Theta: conv: 0.88, pos: 0.74\n",
      "Rho: conv: 0.94, pos: 0.9\n",
      "\n"
     ]
    }
   ],
   "source": [
    "print(f'''\n",
    "Delta: conv: {d_con}, pos: {d_pos}\n",
    "Vega: conv: {v_con}, pos: {v_pos}\n",
    "Theta: conv: {th_con}, pos: {th_pos}\n",
    "Rho: conv: {r_con}, pos: {r_pos}\n",
    "''')"
   ],
   "metadata": {
    "collapsed": false,
    "ExecuteTime": {
     "end_time": "2024-02-10T18:36:30.443232Z",
     "start_time": "2024-02-10T18:36:30.295534Z"
    }
   }
  },
  {
   "cell_type": "code",
   "execution_count": 34,
   "outputs": [],
   "source": [
    "d_con_mse = ((t_con['delta_mc'] - t_con['delta']) ** 2).mean() ** 0.5\n",
    "d_pos_mse = ((t_pos['delta_mc'] - t_pos['delta']) ** 2).mean() ** 0.5\n",
    "\n",
    "v_con_mse = ((t_con['vega_mc'] - t_con['vega']) ** 2).mean() ** 0.5\n",
    "v_pos_mse = ((t_pos['vega_mc'] - t_pos['vega']) ** 2).mean() ** 0.5\n",
    "\n",
    "t_con_mse = ((t_con['theta_mc'] - t_con['theta']) ** 2).mean() ** 0.5\n",
    "t_pos_mse = ((t_pos['theta_mc'] - t_pos['theta']) ** 2).mean() ** 0.5\n",
    "\n",
    "r_con_mse = ((t_con['rho_mc'] - t_con['rho']) ** 2).mean() ** 0.5\n",
    "r_pos_mse = ((t_pos['rho_mc'] - t_pos['rho']) ** 2).mean() ** 0.5\n"
   ],
   "metadata": {
    "collapsed": false,
    "ExecuteTime": {
     "end_time": "2024-02-10T18:36:30.443570Z",
     "start_time": "2024-02-10T18:36:30.311822Z"
    }
   }
  },
  {
   "cell_type": "code",
   "execution_count": 35,
   "outputs": [
    {
     "name": "stdout",
     "output_type": "stream",
     "text": [
      "\n",
      "Delta: conv MSE: 0.0102629644, pos MSE: 0.012193561399999997\n",
      "Vega: conv MSE: 0.008252368799999998, pos MSE: 0.0064849704\n",
      "Theta: conv MSE: 0.000534865, pos MSE: 0.000228486\n",
      "Rho: conv MSE: 0.013466921, pos MSE: 0.0031890712\n",
      "\n"
     ]
    }
   ],
   "source": [
    "print(f'''\n",
    "Delta: conv MSE: {d_con_mse ** 2}, pos MSE: {d_pos_mse ** 2}\n",
    "Vega: conv MSE: {v_con_mse ** 2}, pos MSE: {v_pos_mse ** 2}\n",
    "Theta: conv MSE: {t_con_mse ** 2}, pos MSE: {t_pos_mse ** 2}\n",
    "Rho: conv MSE: {r_con_mse ** 2}, pos MSE: {r_pos_mse ** 2}\n",
    "''')"
   ],
   "metadata": {
    "collapsed": false,
    "ExecuteTime": {
     "end_time": "2024-02-10T18:36:30.443861Z",
     "start_time": "2024-02-10T18:36:30.319874Z"
    }
   }
  },
  {
   "cell_type": "code",
   "execution_count": 36,
   "outputs": [],
   "source": [
    "d_con = ((t_con['delta_mc_l_ci'] - t_con['delta_mc_r_ci']) ** 2).mean()\n",
    "d_pos = ((t_pos['delta_mc_l_ci'] - t_pos['delta_mc_r_ci']) ** 2).mean()\n",
    "\n",
    "v_con = ((t_con['vega_mc_l_ci'] - t_con['vega_mc_r_ci']) ** 2).mean()\n",
    "v_pos = ((t_pos['vega_mc_l_ci'] - t_pos['vega_mc_r_ci']) ** 2).mean()\n",
    "\n",
    "th_con = ((t_con['theta_mc_l_ci'] - t_con['theta_mc_r_ci']) ** 2).mean()\n",
    "th_pos = ((t_pos['theta_mc_l_ci'] - t_pos['theta_mc_r_ci']) ** 2).mean()\n",
    "\n",
    "r_con = ((t_con['rho_mc_l_ci'] - t_con['rho_mc_r_ci']) ** 2).mean()\n",
    "r_pos = ((t_pos['rho_mc_l_ci'] - t_pos['rho_mc_r_ci']) ** 2).mean()"
   ],
   "metadata": {
    "collapsed": false,
    "ExecuteTime": {
     "end_time": "2024-02-10T18:36:30.513036Z",
     "start_time": "2024-02-10T18:36:30.327114Z"
    }
   }
  },
  {
   "cell_type": "code",
   "execution_count": 37,
   "outputs": [
    {
     "name": "stdout",
     "output_type": "stream",
     "text": [
      "\n",
      "Delta CI len: conv: 0.0409299546, pos: 0.0409299546\n",
      "Vega CI len: conv: 0.3768597556, pos: 0.3768597556\n",
      "Theta CI len: conv: 0.060764232400000014, pos: 0.060764232400000014\n",
      "Rho CI len: conv: 2029.8887404766, pos: 2029.8887404766\n",
      "\n"
     ]
    }
   ],
   "source": [
    "print(f'''\n",
    "Delta CI len: conv: {d_con}, pos: {d_pos}\n",
    "Vega CI len: conv: {v_con}, pos: {v_pos}\n",
    "Theta CI len: conv: {th_con}, pos: {th_pos}\n",
    "Rho CI len: conv: {r_con}, pos: {r_pos}\n",
    "''')"
   ],
   "metadata": {
    "collapsed": false,
    "ExecuteTime": {
     "end_time": "2024-02-10T18:36:30.513719Z",
     "start_time": "2024-02-10T18:36:30.341390Z"
    }
   }
  },
  {
   "cell_type": "markdown",
   "source": [
    "Greeks by nets with intrinsic value preprocessing"
   ],
   "metadata": {
    "collapsed": false
   }
  },
  {
   "cell_type": "code",
   "execution_count": 15,
   "outputs": [],
   "source": [
    "left = pd.read_csv('double_net_pricer/left_greeks.csv')\n",
    "right = pd.read_csv('double_net_pricer/right_greeks.csv')\n",
    "\n",
    "t_pos = pd.concat([left, right])"
   ],
   "metadata": {
    "collapsed": false,
    "ExecuteTime": {
     "end_time": "2024-04-07T18:42:10.522810Z",
     "start_time": "2024-04-07T18:42:10.512370Z"
    }
   }
  },
  {
   "cell_type": "code",
   "execution_count": 16,
   "outputs": [
    {
     "data": {
      "text/plain": "     delta    vega   theta     rho     gamma  original_delta  \\\n0   0.1043  0.0767 -0.0204  0.0213 -121.6196          0.0723   \n1   0.0266  0.0140 -0.0087  0.0033 -109.3762          0.0015   \n2   0.0135  0.0096 -0.0031  0.0025  269.5313          0.0249   \n3   0.0092  0.0064 -0.0023  0.0016  343.7337          0.0190   \n4   0.0582  0.0352 -0.0163  0.0087 -174.1511          0.0417   \n5   0.4721  0.0146 -0.0023  0.0414  142.1346          0.5015   \n6   0.1260  0.1204 -0.0012  0.0412  -45.1001          0.2028   \n7   0.0013  0.0007 -0.0004  0.0002  200.6708          0.0003   \n8   0.0665  0.0058 -0.0025  0.0150   50.5291          0.3301   \n9   0.0171  0.0086 -0.0048  0.0021  224.0703          0.0056   \n10  0.0010  0.0005 -0.0003  0.0002  175.0151          0.0000   \n0   0.9731  0.0005 -0.0522  0.9397    5.7011          0.9728   \n1   0.9547  0.0079 -0.1058  0.6682   43.8027          0.9509   \n2   0.9614  0.0003 -0.1023  0.6591    0.4780          0.9614   \n3   0.9917  0.0005 -0.0186  0.8738    0.0434          0.9917   \n4   0.9517  0.0004 -0.1123  0.7257   20.6334          0.9517   \n5   0.9053  0.0004 -0.1351  0.9952    0.0018          0.9053   \n6   0.9487  0.0003 -0.1769  0.4829  -23.2952          0.9488   \n7   0.9531  0.0105 -0.0645  1.0201  322.6196          0.9484   \n8   0.8879  0.0309 -0.1197  0.9690  -68.6090          0.8642   \n9   0.9160  0.0015 -0.1017  1.2096   92.3800          0.9000   \n10  0.9139  0.0004 -0.1487  0.8499    0.1673          0.9138   \n11  0.7791  0.1448 -0.1270  1.2035 -250.0117          0.8820   \n12  0.8313  0.0055 -0.0188  0.9937   54.8835          0.7076   \n13  0.9626  0.0003 -0.0821  0.7986    0.1698          0.9626   \n\n    original_delta_left_ci  original_delta_right_ci  original_vega  \\\n0                   0.0432                   0.1015         0.0588   \n1                  -0.0033                   0.0064         0.0020   \n2                   0.0084                   0.0414         0.0187   \n3                  -0.0076                   0.0456         0.0157   \n4                   0.0233                   0.0602         0.0360   \n5                   0.3245                   0.6786         0.2299   \n6                   0.1138                   0.2919         0.1591   \n7                  -0.0013                   0.0019         0.0004   \n8                   0.1691                   0.4912         0.1673   \n9                   0.0035                   0.0078         0.0049   \n10                  0.0000                   0.0000         0.0000   \n0                   0.9393                   1.0063         0.0001   \n1                   0.8436                   1.0583         0.0154   \n2                   0.9423                   0.9804        -0.0006   \n3                   0.9707                   1.0126        -0.0007   \n4                   0.9483                   0.9552        -0.0002   \n5                   0.8880                   0.9226        -0.0008   \n6                   0.9088                   0.9889        -0.0009   \n7                   0.8624                   1.0344         0.0326   \n8                   0.6361                   1.0923         0.1060   \n9                   0.6884                   1.1116         0.0426   \n10                  0.8763                   0.9514        -0.0010   \n11                  0.6771                   1.0869         0.0678   \n12                  0.4338                   0.9814         0.2200   \n13                  0.9492                   0.9760        -0.0005   \n\n    original_vega_left_ci  original_vega_right_ci  original_theta  \\\n0                 -0.0441                  0.1618         -0.0087   \n1                 -0.0089                  0.0130         -0.0002   \n2                 -0.0221                  0.0595         -0.0054   \n3                 -0.0246                  0.0560         -0.0040   \n4                 -0.0325                  0.1044         -0.0064   \n5                 -0.2259                  0.6857         -0.0469   \n6                 -0.1059                  0.4241         -0.0167   \n7                 -0.0026                  0.0035         -0.0001   \n8                 -0.1340                  0.4686         -0.0486   \n9                 -0.0102                  0.0201         -0.0005   \n10                 0.0000                  0.0000         -0.0000   \n0                 -0.2099                  0.2102         -0.0115   \n1                 -0.3384                  0.3692         -0.0209   \n2                 -0.1346                  0.1335         -0.0213   \n3                 -0.1752                  0.1737         -0.0026   \n4                 -0.0522                  0.0517         -0.0354   \n5                 -0.2023                  0.2006          0.0017   \n6                 -0.2131                  0.2114          0.0017   \n7                 -0.3281                  0.3932         -0.0197   \n8                 -0.4951                  0.7071         -0.0446   \n9                 -0.6955                  0.7807         -0.0129   \n10                -0.2404                  0.2385         -0.0170   \n11                -0.6125                  0.7481         -0.0241   \n12                -0.3628                  0.8029         -0.0580   \n13                -0.1280                  0.1270         -0.0151   \n\n    original_theta_left_ci  original_theta_right_ci  original_rho  \\\n0                  -0.0177                   0.0351        0.0224   \n1                  -0.0018                   0.0022        0.0006   \n2                  -0.0161                   0.0269        0.0047   \n3                  -0.0136                   0.0216        0.0047   \n4                  -0.0090                   0.0217        0.0127   \n5                  -0.0873                   0.1812        0.2061   \n6                  -0.0374                   0.0707        0.0958   \n7                  -0.0006                   0.0007        0.0001   \n8                  -0.1057                   0.2028        0.0946   \n9                  -0.0021                   0.0032        0.0011   \n10                  0.0000                   0.0000        0.0000   \n0                  -0.0402                   0.0631        0.2074   \n1                  -0.2210                   0.2628        0.0998   \n2                  -0.0197                   0.0623        0.1382   \n3                  -0.0372                   0.0425        0.1288   \n4                   0.0297                   0.0411        0.2291   \n5                  -0.0285                   0.0250       -0.0124   \n6                  -0.1464                   0.1430       -0.0038   \n7                  -0.0954                   0.1348        0.2408   \n8                  -0.2413                   0.3305        0.1825   \n9                  -0.2432                   0.2689        0.0661   \n10                 -0.0440                   0.0780        0.0979   \n11                 -0.1929                   0.2410        0.1604   \n12                 -0.2304                   0.3463        0.2164   \n13                 -0.0095                   0.0397        0.1478   \n\n    original_rho_left_ci  original_rho_right_ci  \n0                -0.4958                 0.5406  \n1                -0.1180                 0.1192  \n2                -0.2094                 0.2188  \n3                -0.1509                 0.1603  \n4                -0.0711                 0.0965  \n5                -1.9026                 2.3148  \n6               -11.4210                11.6126  \n7                -0.0123                 0.0125  \n8                -2.4519                 2.6411  \n9                -0.0274                 0.0295  \n10                0.0000                 0.0000  \n0                -0.7219                 1.1367  \n1                -1.4270                 1.6267  \n2                -0.1250                 0.4015  \n3                -1.7606                 2.0181  \n4                 0.1924                 0.2658  \n5                -0.2089                 0.1841  \n6                -0.3980                 0.3905  \n7                -1.6511                 2.1327  \n8                -2.4743                 2.8393  \n9                -2.9676                 3.0998  \n10               -0.2495                 0.4453  \n11               -2.4281                 2.7489  \n12              -17.5737                18.0065  \n13               -0.0906                 0.3861  ",
      "text/html": "<div>\n<style scoped>\n    .dataframe tbody tr th:only-of-type {\n        vertical-align: middle;\n    }\n\n    .dataframe tbody tr th {\n        vertical-align: top;\n    }\n\n    .dataframe thead th {\n        text-align: right;\n    }\n</style>\n<table border=\"1\" class=\"dataframe\">\n  <thead>\n    <tr style=\"text-align: right;\">\n      <th></th>\n      <th>delta</th>\n      <th>vega</th>\n      <th>theta</th>\n      <th>rho</th>\n      <th>gamma</th>\n      <th>original_delta</th>\n      <th>original_delta_left_ci</th>\n      <th>original_delta_right_ci</th>\n      <th>original_vega</th>\n      <th>original_vega_left_ci</th>\n      <th>original_vega_right_ci</th>\n      <th>original_theta</th>\n      <th>original_theta_left_ci</th>\n      <th>original_theta_right_ci</th>\n      <th>original_rho</th>\n      <th>original_rho_left_ci</th>\n      <th>original_rho_right_ci</th>\n    </tr>\n  </thead>\n  <tbody>\n    <tr>\n      <th>0</th>\n      <td>0.1043</td>\n      <td>0.0767</td>\n      <td>-0.0204</td>\n      <td>0.0213</td>\n      <td>-121.6196</td>\n      <td>0.0723</td>\n      <td>0.0432</td>\n      <td>0.1015</td>\n      <td>0.0588</td>\n      <td>-0.0441</td>\n      <td>0.1618</td>\n      <td>-0.0087</td>\n      <td>-0.0177</td>\n      <td>0.0351</td>\n      <td>0.0224</td>\n      <td>-0.4958</td>\n      <td>0.5406</td>\n    </tr>\n    <tr>\n      <th>1</th>\n      <td>0.0266</td>\n      <td>0.0140</td>\n      <td>-0.0087</td>\n      <td>0.0033</td>\n      <td>-109.3762</td>\n      <td>0.0015</td>\n      <td>-0.0033</td>\n      <td>0.0064</td>\n      <td>0.0020</td>\n      <td>-0.0089</td>\n      <td>0.0130</td>\n      <td>-0.0002</td>\n      <td>-0.0018</td>\n      <td>0.0022</td>\n      <td>0.0006</td>\n      <td>-0.1180</td>\n      <td>0.1192</td>\n    </tr>\n    <tr>\n      <th>2</th>\n      <td>0.0135</td>\n      <td>0.0096</td>\n      <td>-0.0031</td>\n      <td>0.0025</td>\n      <td>269.5313</td>\n      <td>0.0249</td>\n      <td>0.0084</td>\n      <td>0.0414</td>\n      <td>0.0187</td>\n      <td>-0.0221</td>\n      <td>0.0595</td>\n      <td>-0.0054</td>\n      <td>-0.0161</td>\n      <td>0.0269</td>\n      <td>0.0047</td>\n      <td>-0.2094</td>\n      <td>0.2188</td>\n    </tr>\n    <tr>\n      <th>3</th>\n      <td>0.0092</td>\n      <td>0.0064</td>\n      <td>-0.0023</td>\n      <td>0.0016</td>\n      <td>343.7337</td>\n      <td>0.0190</td>\n      <td>-0.0076</td>\n      <td>0.0456</td>\n      <td>0.0157</td>\n      <td>-0.0246</td>\n      <td>0.0560</td>\n      <td>-0.0040</td>\n      <td>-0.0136</td>\n      <td>0.0216</td>\n      <td>0.0047</td>\n      <td>-0.1509</td>\n      <td>0.1603</td>\n    </tr>\n    <tr>\n      <th>4</th>\n      <td>0.0582</td>\n      <td>0.0352</td>\n      <td>-0.0163</td>\n      <td>0.0087</td>\n      <td>-174.1511</td>\n      <td>0.0417</td>\n      <td>0.0233</td>\n      <td>0.0602</td>\n      <td>0.0360</td>\n      <td>-0.0325</td>\n      <td>0.1044</td>\n      <td>-0.0064</td>\n      <td>-0.0090</td>\n      <td>0.0217</td>\n      <td>0.0127</td>\n      <td>-0.0711</td>\n      <td>0.0965</td>\n    </tr>\n    <tr>\n      <th>5</th>\n      <td>0.4721</td>\n      <td>0.0146</td>\n      <td>-0.0023</td>\n      <td>0.0414</td>\n      <td>142.1346</td>\n      <td>0.5015</td>\n      <td>0.3245</td>\n      <td>0.6786</td>\n      <td>0.2299</td>\n      <td>-0.2259</td>\n      <td>0.6857</td>\n      <td>-0.0469</td>\n      <td>-0.0873</td>\n      <td>0.1812</td>\n      <td>0.2061</td>\n      <td>-1.9026</td>\n      <td>2.3148</td>\n    </tr>\n    <tr>\n      <th>6</th>\n      <td>0.1260</td>\n      <td>0.1204</td>\n      <td>-0.0012</td>\n      <td>0.0412</td>\n      <td>-45.1001</td>\n      <td>0.2028</td>\n      <td>0.1138</td>\n      <td>0.2919</td>\n      <td>0.1591</td>\n      <td>-0.1059</td>\n      <td>0.4241</td>\n      <td>-0.0167</td>\n      <td>-0.0374</td>\n      <td>0.0707</td>\n      <td>0.0958</td>\n      <td>-11.4210</td>\n      <td>11.6126</td>\n    </tr>\n    <tr>\n      <th>7</th>\n      <td>0.0013</td>\n      <td>0.0007</td>\n      <td>-0.0004</td>\n      <td>0.0002</td>\n      <td>200.6708</td>\n      <td>0.0003</td>\n      <td>-0.0013</td>\n      <td>0.0019</td>\n      <td>0.0004</td>\n      <td>-0.0026</td>\n      <td>0.0035</td>\n      <td>-0.0001</td>\n      <td>-0.0006</td>\n      <td>0.0007</td>\n      <td>0.0001</td>\n      <td>-0.0123</td>\n      <td>0.0125</td>\n    </tr>\n    <tr>\n      <th>8</th>\n      <td>0.0665</td>\n      <td>0.0058</td>\n      <td>-0.0025</td>\n      <td>0.0150</td>\n      <td>50.5291</td>\n      <td>0.3301</td>\n      <td>0.1691</td>\n      <td>0.4912</td>\n      <td>0.1673</td>\n      <td>-0.1340</td>\n      <td>0.4686</td>\n      <td>-0.0486</td>\n      <td>-0.1057</td>\n      <td>0.2028</td>\n      <td>0.0946</td>\n      <td>-2.4519</td>\n      <td>2.6411</td>\n    </tr>\n    <tr>\n      <th>9</th>\n      <td>0.0171</td>\n      <td>0.0086</td>\n      <td>-0.0048</td>\n      <td>0.0021</td>\n      <td>224.0703</td>\n      <td>0.0056</td>\n      <td>0.0035</td>\n      <td>0.0078</td>\n      <td>0.0049</td>\n      <td>-0.0102</td>\n      <td>0.0201</td>\n      <td>-0.0005</td>\n      <td>-0.0021</td>\n      <td>0.0032</td>\n      <td>0.0011</td>\n      <td>-0.0274</td>\n      <td>0.0295</td>\n    </tr>\n    <tr>\n      <th>10</th>\n      <td>0.0010</td>\n      <td>0.0005</td>\n      <td>-0.0003</td>\n      <td>0.0002</td>\n      <td>175.0151</td>\n      <td>0.0000</td>\n      <td>0.0000</td>\n      <td>0.0000</td>\n      <td>0.0000</td>\n      <td>0.0000</td>\n      <td>0.0000</td>\n      <td>-0.0000</td>\n      <td>0.0000</td>\n      <td>0.0000</td>\n      <td>0.0000</td>\n      <td>0.0000</td>\n      <td>0.0000</td>\n    </tr>\n    <tr>\n      <th>0</th>\n      <td>0.9731</td>\n      <td>0.0005</td>\n      <td>-0.0522</td>\n      <td>0.9397</td>\n      <td>5.7011</td>\n      <td>0.9728</td>\n      <td>0.9393</td>\n      <td>1.0063</td>\n      <td>0.0001</td>\n      <td>-0.2099</td>\n      <td>0.2102</td>\n      <td>-0.0115</td>\n      <td>-0.0402</td>\n      <td>0.0631</td>\n      <td>0.2074</td>\n      <td>-0.7219</td>\n      <td>1.1367</td>\n    </tr>\n    <tr>\n      <th>1</th>\n      <td>0.9547</td>\n      <td>0.0079</td>\n      <td>-0.1058</td>\n      <td>0.6682</td>\n      <td>43.8027</td>\n      <td>0.9509</td>\n      <td>0.8436</td>\n      <td>1.0583</td>\n      <td>0.0154</td>\n      <td>-0.3384</td>\n      <td>0.3692</td>\n      <td>-0.0209</td>\n      <td>-0.2210</td>\n      <td>0.2628</td>\n      <td>0.0998</td>\n      <td>-1.4270</td>\n      <td>1.6267</td>\n    </tr>\n    <tr>\n      <th>2</th>\n      <td>0.9614</td>\n      <td>0.0003</td>\n      <td>-0.1023</td>\n      <td>0.6591</td>\n      <td>0.4780</td>\n      <td>0.9614</td>\n      <td>0.9423</td>\n      <td>0.9804</td>\n      <td>-0.0006</td>\n      <td>-0.1346</td>\n      <td>0.1335</td>\n      <td>-0.0213</td>\n      <td>-0.0197</td>\n      <td>0.0623</td>\n      <td>0.1382</td>\n      <td>-0.1250</td>\n      <td>0.4015</td>\n    </tr>\n    <tr>\n      <th>3</th>\n      <td>0.9917</td>\n      <td>0.0005</td>\n      <td>-0.0186</td>\n      <td>0.8738</td>\n      <td>0.0434</td>\n      <td>0.9917</td>\n      <td>0.9707</td>\n      <td>1.0126</td>\n      <td>-0.0007</td>\n      <td>-0.1752</td>\n      <td>0.1737</td>\n      <td>-0.0026</td>\n      <td>-0.0372</td>\n      <td>0.0425</td>\n      <td>0.1288</td>\n      <td>-1.7606</td>\n      <td>2.0181</td>\n    </tr>\n    <tr>\n      <th>4</th>\n      <td>0.9517</td>\n      <td>0.0004</td>\n      <td>-0.1123</td>\n      <td>0.7257</td>\n      <td>20.6334</td>\n      <td>0.9517</td>\n      <td>0.9483</td>\n      <td>0.9552</td>\n      <td>-0.0002</td>\n      <td>-0.0522</td>\n      <td>0.0517</td>\n      <td>-0.0354</td>\n      <td>0.0297</td>\n      <td>0.0411</td>\n      <td>0.2291</td>\n      <td>0.1924</td>\n      <td>0.2658</td>\n    </tr>\n    <tr>\n      <th>5</th>\n      <td>0.9053</td>\n      <td>0.0004</td>\n      <td>-0.1351</td>\n      <td>0.9952</td>\n      <td>0.0018</td>\n      <td>0.9053</td>\n      <td>0.8880</td>\n      <td>0.9226</td>\n      <td>-0.0008</td>\n      <td>-0.2023</td>\n      <td>0.2006</td>\n      <td>0.0017</td>\n      <td>-0.0285</td>\n      <td>0.0250</td>\n      <td>-0.0124</td>\n      <td>-0.2089</td>\n      <td>0.1841</td>\n    </tr>\n    <tr>\n      <th>6</th>\n      <td>0.9487</td>\n      <td>0.0003</td>\n      <td>-0.1769</td>\n      <td>0.4829</td>\n      <td>-23.2952</td>\n      <td>0.9488</td>\n      <td>0.9088</td>\n      <td>0.9889</td>\n      <td>-0.0009</td>\n      <td>-0.2131</td>\n      <td>0.2114</td>\n      <td>0.0017</td>\n      <td>-0.1464</td>\n      <td>0.1430</td>\n      <td>-0.0038</td>\n      <td>-0.3980</td>\n      <td>0.3905</td>\n    </tr>\n    <tr>\n      <th>7</th>\n      <td>0.9531</td>\n      <td>0.0105</td>\n      <td>-0.0645</td>\n      <td>1.0201</td>\n      <td>322.6196</td>\n      <td>0.9484</td>\n      <td>0.8624</td>\n      <td>1.0344</td>\n      <td>0.0326</td>\n      <td>-0.3281</td>\n      <td>0.3932</td>\n      <td>-0.0197</td>\n      <td>-0.0954</td>\n      <td>0.1348</td>\n      <td>0.2408</td>\n      <td>-1.6511</td>\n      <td>2.1327</td>\n    </tr>\n    <tr>\n      <th>8</th>\n      <td>0.8879</td>\n      <td>0.0309</td>\n      <td>-0.1197</td>\n      <td>0.9690</td>\n      <td>-68.6090</td>\n      <td>0.8642</td>\n      <td>0.6361</td>\n      <td>1.0923</td>\n      <td>0.1060</td>\n      <td>-0.4951</td>\n      <td>0.7071</td>\n      <td>-0.0446</td>\n      <td>-0.2413</td>\n      <td>0.3305</td>\n      <td>0.1825</td>\n      <td>-2.4743</td>\n      <td>2.8393</td>\n    </tr>\n    <tr>\n      <th>9</th>\n      <td>0.9160</td>\n      <td>0.0015</td>\n      <td>-0.1017</td>\n      <td>1.2096</td>\n      <td>92.3800</td>\n      <td>0.9000</td>\n      <td>0.6884</td>\n      <td>1.1116</td>\n      <td>0.0426</td>\n      <td>-0.6955</td>\n      <td>0.7807</td>\n      <td>-0.0129</td>\n      <td>-0.2432</td>\n      <td>0.2689</td>\n      <td>0.0661</td>\n      <td>-2.9676</td>\n      <td>3.0998</td>\n    </tr>\n    <tr>\n      <th>10</th>\n      <td>0.9139</td>\n      <td>0.0004</td>\n      <td>-0.1487</td>\n      <td>0.8499</td>\n      <td>0.1673</td>\n      <td>0.9138</td>\n      <td>0.8763</td>\n      <td>0.9514</td>\n      <td>-0.0010</td>\n      <td>-0.2404</td>\n      <td>0.2385</td>\n      <td>-0.0170</td>\n      <td>-0.0440</td>\n      <td>0.0780</td>\n      <td>0.0979</td>\n      <td>-0.2495</td>\n      <td>0.4453</td>\n    </tr>\n    <tr>\n      <th>11</th>\n      <td>0.7791</td>\n      <td>0.1448</td>\n      <td>-0.1270</td>\n      <td>1.2035</td>\n      <td>-250.0117</td>\n      <td>0.8820</td>\n      <td>0.6771</td>\n      <td>1.0869</td>\n      <td>0.0678</td>\n      <td>-0.6125</td>\n      <td>0.7481</td>\n      <td>-0.0241</td>\n      <td>-0.1929</td>\n      <td>0.2410</td>\n      <td>0.1604</td>\n      <td>-2.4281</td>\n      <td>2.7489</td>\n    </tr>\n    <tr>\n      <th>12</th>\n      <td>0.8313</td>\n      <td>0.0055</td>\n      <td>-0.0188</td>\n      <td>0.9937</td>\n      <td>54.8835</td>\n      <td>0.7076</td>\n      <td>0.4338</td>\n      <td>0.9814</td>\n      <td>0.2200</td>\n      <td>-0.3628</td>\n      <td>0.8029</td>\n      <td>-0.0580</td>\n      <td>-0.2304</td>\n      <td>0.3463</td>\n      <td>0.2164</td>\n      <td>-17.5737</td>\n      <td>18.0065</td>\n    </tr>\n    <tr>\n      <th>13</th>\n      <td>0.9626</td>\n      <td>0.0003</td>\n      <td>-0.0821</td>\n      <td>0.7986</td>\n      <td>0.1698</td>\n      <td>0.9626</td>\n      <td>0.9492</td>\n      <td>0.9760</td>\n      <td>-0.0005</td>\n      <td>-0.1280</td>\n      <td>0.1270</td>\n      <td>-0.0151</td>\n      <td>-0.0095</td>\n      <td>0.0397</td>\n      <td>0.1478</td>\n      <td>-0.0906</td>\n      <td>0.3861</td>\n    </tr>\n  </tbody>\n</table>\n</div>"
     },
     "execution_count": 16,
     "metadata": {},
     "output_type": "execute_result"
    }
   ],
   "source": [
    "t_pos"
   ],
   "metadata": {
    "collapsed": false,
    "ExecuteTime": {
     "end_time": "2024-04-07T18:42:11.901136Z",
     "start_time": "2024-04-07T18:42:11.841078Z"
    }
   }
  },
  {
   "cell_type": "code",
   "execution_count": 17,
   "outputs": [],
   "source": [
    "# d_con = ((t_con['original_delta_left_ci'] <= t_con['delta']) & (t_con['delta'] <= t_con['original_delta_right_ci'])).mean()\n",
    "d_pos = ((t_pos['original_delta_left_ci'] <= t_pos['delta']) & (t_pos['delta'] <= t_pos['original_delta_right_ci'])).mean()\n",
    "\n",
    "# v_con = ((t_con['original_vega_left_ci'] <= t_con['vega']) & (t_con['vega'] <= t_con['original_vega_right_ci'])).mean()\n",
    "v_pos = ((t_pos['original_vega_left_ci'] <= t_pos['vega']) & (t_pos['vega'] <= t_pos['original_vega_right_ci'])).mean()\n",
    "\n",
    "# th_con = ((t_con['original_theta_left_ci'] <= t_con['theta']) & (t_con['theta'] <= t_con['original_theta_right_ci'])).mean()\n",
    "th_pos = ((t_pos['original_theta_left_ci'] <= t_pos['theta']) & (t_pos['theta'] <= t_pos['original_theta_right_ci'])).mean()\n",
    "\n",
    "# r_con = ((t_con['original_rho_left_ci'] <= t_con['rho']) & (t_con['rho'] <= t_con['original_rho_right_ci'])).mean()\n",
    "r_pos = ((t_pos['original_rho_left_ci'] <= t_pos['rho']) & (t_pos['rho'] <= t_pos['original_rho_right_ci'])).mean()"
   ],
   "metadata": {
    "collapsed": false,
    "ExecuteTime": {
     "end_time": "2024-04-07T18:42:20.009767Z",
     "start_time": "2024-04-07T18:42:20.006534Z"
    }
   }
  },
  {
   "cell_type": "code",
   "execution_count": 18,
   "outputs": [
    {
     "name": "stdout",
     "output_type": "stream",
     "text": [
      "\n",
      "Delta: 0.8\n",
      "Vega: 0.92\n",
      "Theta:0.52\n",
      "Rho: 0.72\n",
      "\n"
     ]
    }
   ],
   "source": [
    "print(f'''\n",
    "Delta: {d_pos}\n",
    "Vega: {v_pos}\n",
    "Theta:{th_pos}\n",
    "Rho: {r_pos}\n",
    "''')"
   ],
   "metadata": {
    "collapsed": false,
    "ExecuteTime": {
     "end_time": "2024-04-07T18:42:22.337425Z",
     "start_time": "2024-04-07T18:42:22.333095Z"
    }
   }
  },
  {
   "cell_type": "code",
   "execution_count": 19,
   "outputs": [],
   "source": [
    "d_pos_mse = ((t_pos['original_delta'] - t_pos['delta']) ** 2).mean() ** 0.5\n",
    "v_pos_mse = ((t_pos['original_vega'] - t_pos['vega']) ** 2).mean() ** 0.5\n",
    "t_pos_mse = ((t_pos['original_theta'] - t_pos['theta']) ** 2).mean() ** 0.5\n",
    "r_pos_mse = ((t_pos['original_rho'] - t_pos['rho']) ** 2).mean() ** 0.5"
   ],
   "metadata": {
    "collapsed": false,
    "ExecuteTime": {
     "end_time": "2024-04-07T18:43:27.744877Z",
     "start_time": "2024-04-07T18:43:27.741690Z"
    }
   }
  },
  {
   "cell_type": "code",
   "execution_count": 20,
   "outputs": [
    {
     "name": "stdout",
     "output_type": "stream",
     "text": [
      "\n",
      "Delta: MSE: 0.0042111399999999995\n",
      "Vega: MSE: 0.005376151599999999\n",
      "Theta: MSE: 0.005055494400000001\n",
      "Rho: MSE: 0.33742855239999997\n",
      "\n"
     ]
    }
   ],
   "source": [
    "print(f'''\n",
    "Delta: MSE: {d_pos_mse ** 2}\n",
    "Vega: MSE: {v_pos_mse ** 2}\n",
    "Theta: MSE: {t_pos_mse ** 2}\n",
    "Rho: MSE: {r_pos_mse ** 2}\n",
    "''')"
   ],
   "metadata": {
    "collapsed": false,
    "ExecuteTime": {
     "end_time": "2024-04-07T18:43:51.532992Z",
     "start_time": "2024-04-07T18:43:51.532474Z"
    }
   }
  },
  {
   "cell_type": "code",
   "execution_count": 41,
   "outputs": [],
   "source": [
    "left = pd.read_csv('double_net_pricer/left_greeks_convex.csv')\n",
    "right = pd.read_csv('double_net_pricer/right_greeks_convex.csv')\n",
    "\n",
    "t_pos = pd.concat([left, right])\n",
    "\n",
    "t_pos = t_pos[t_pos['delta'] > 0]"
   ],
   "metadata": {
    "collapsed": false,
    "ExecuteTime": {
     "end_time": "2024-04-07T19:41:29.930297Z",
     "start_time": "2024-04-07T19:41:29.906215Z"
    }
   }
  },
  {
   "cell_type": "code",
   "execution_count": 42,
   "outputs": [],
   "source": [
    "# d_con = ((t_con['original_delta_left_ci'] <= t_con['delta']) & (t_con['delta'] <= t_con['original_delta_right_ci'])).mean()\n",
    "d_pos = ((t_pos['original_delta_left_ci'] <= t_pos['delta']) & (t_pos['delta'] <= t_pos['original_delta_right_ci'])).mean()\n",
    "\n",
    "# v_con = ((t_con['original_vega_left_ci'] <= t_con['vega']) & (t_con['vega'] <= t_con['original_vega_right_ci'])).mean()\n",
    "v_pos = ((t_pos['original_vega_left_ci'] <= t_pos['vega']) & (t_pos['vega'] <= t_pos['original_vega_right_ci'])).mean()\n",
    "\n",
    "# th_con = ((t_con['original_theta_left_ci'] <= t_con['theta']) & (t_con['theta'] <= t_con['original_theta_right_ci'])).mean()\n",
    "th_pos = ((t_pos['original_theta_left_ci'] <= t_pos['theta']) & (t_pos['theta'] <= t_pos['original_theta_right_ci'])).mean()\n",
    "\n",
    "# r_con = ((t_con['original_rho_left_ci'] <= t_con['rho']) & (t_con['rho'] <= t_con['original_rho_right_ci'])).mean()\n",
    "r_pos = ((t_pos['original_rho_left_ci'] <= t_pos['rho']) & (t_pos['rho'] <= t_pos['original_rho_right_ci'])).mean()"
   ],
   "metadata": {
    "collapsed": false,
    "ExecuteTime": {
     "end_time": "2024-04-07T19:41:31.497633Z",
     "start_time": "2024-04-07T19:41:31.495532Z"
    }
   }
  },
  {
   "cell_type": "code",
   "execution_count": 43,
   "outputs": [
    {
     "name": "stdout",
     "output_type": "stream",
     "text": [
      "\n",
      "Delta: 0.75\n",
      "Vega: 0.9166666666666666\n",
      "Theta:0.5833333333333334\n",
      "Rho: 0.7083333333333334\n",
      "\n"
     ]
    }
   ],
   "source": [
    "print(f'''\n",
    "Delta: {d_pos}\n",
    "Vega: {v_pos}\n",
    "Theta:{th_pos}\n",
    "Rho: {r_pos}\n",
    "''')"
   ],
   "metadata": {
    "collapsed": false,
    "ExecuteTime": {
     "end_time": "2024-04-07T19:41:32.997301Z",
     "start_time": "2024-04-07T19:41:32.990594Z"
    }
   }
  },
  {
   "cell_type": "code",
   "execution_count": 35,
   "outputs": [],
   "source": [
    "d_pos_mse = ((t_pos['original_delta'] - t_pos['delta']) ** 2).mean() ** 0.5\n",
    "v_pos_mse = ((t_pos['original_vega'] - t_pos['vega']) ** 2).mean() ** 0.5\n",
    "t_pos_mse = ((t_pos['original_theta'] - t_pos['theta']) ** 2).mean() ** 0.5\n",
    "r_pos_mse = ((t_pos['original_rho'] - t_pos['rho']) ** 2).mean() ** 0.5"
   ],
   "metadata": {
    "collapsed": false,
    "ExecuteTime": {
     "end_time": "2024-04-07T18:50:42.817460Z",
     "start_time": "2024-04-07T18:50:42.813076Z"
    }
   }
  },
  {
   "cell_type": "code",
   "execution_count": 36,
   "outputs": [
    {
     "name": "stdout",
     "output_type": "stream",
     "text": [
      "\n",
      "Delta: MSE: 0.016726837173913038\n",
      "Vega: MSE: 0.0051004984782608695\n",
      "Theta: MSE: 0.005279686086956521\n",
      "Rho: MSE: 0.27597264956521733\n",
      "\n"
     ]
    }
   ],
   "source": [
    "print(f'''\n",
    "Delta: MSE: {d_pos_mse ** 2}\n",
    "Vega: MSE: {v_pos_mse ** 2}\n",
    "Theta: MSE: {t_pos_mse ** 2}\n",
    "Rho: MSE: {r_pos_mse ** 2}\n",
    "''')"
   ],
   "metadata": {
    "collapsed": false,
    "ExecuteTime": {
     "end_time": "2024-04-07T18:50:44.938472Z",
     "start_time": "2024-04-07T18:50:44.932002Z"
    }
   }
  },
  {
   "cell_type": "code",
   "execution_count": 37,
   "outputs": [
    {
     "data": {
      "text/plain": "     delta    vega   theta     rho     gamma  original_delta  \\\n0   0.3788  0.0694 -0.0025  0.0472  107.2022          0.4563   \n1   0.1350  0.0323 -0.0191  0.0207   15.6345          0.3118   \n2   0.5685  0.0160 -0.0025  0.0472  139.6068          0.5024   \n3   0.1123  0.1014 -0.0150  0.0299  -71.2211          0.1207   \n4   0.0002  0.0001 -0.0001  0.0001   40.8276          0.0001   \n5   0.0193  0.0101 -0.0063  0.0024   -1.1556          0.0006   \n6   0.0502  0.0272 -0.0161  0.0068 -261.8915          0.0158   \n7   0.0001  0.0001 -0.0000  0.0001   22.9962          0.0000   \n8   0.0817  0.0664 -0.0054  0.0281  -40.8442          0.2798   \n9   0.0135  0.0071 -0.0044  0.0017  122.6596          0.0000   \n10  0.0032  0.0017 -0.0011  0.0004  271.8080          0.0000   \n11  0.3366  0.1907 -0.0072  0.0659   91.8476          0.3219   \n12  0.1424  0.0927 -0.0379  0.0233 -344.0692          0.0646   \n13  0.2138  0.1414 -0.0058  0.0476  105.3800          0.2979   \n14  0.0012  0.0008 -0.0003  0.0002  201.2386          0.0056   \n15  0.1394  0.0054 -0.0016  0.0205   91.5443          0.4901   \n1   0.8705  0.0754 -0.1707  0.6328 -153.2410          0.9194   \n3   0.0833  0.2439 -0.2399  0.5046  205.6495          0.6704   \n4   0.9574  0.0005 -0.0785  0.9357    8.2712          0.9575   \n5   0.9977  0.0001 -0.0068  0.6708   -1.9436          0.9977   \n6   0.9711  0.0006 -0.0562  0.9298   20.9068          0.9712   \n7   0.9154  0.0297 -0.1704  0.4868  235.0851          0.9224   \n8   0.9555  0.0179 -0.0666  0.7650  115.7739          0.9458   \n9   0.3190  0.0161 -0.1621  0.5987  142.3257          0.6400   \n10  0.9928  0.0003 -0.0111  1.2667    3.3659          0.9928   \n11  0.9542  0.0036 -0.0925  0.8087   87.1935          0.9473   \n12  0.9976  0.0002 -0.0057  0.8141    0.4078          0.9967   \n13  0.8701  0.0464 -0.1597  0.8339  -39.8164          0.8539   \n14  0.8160  0.1301 -0.1335  1.0495   10.1739          0.8749   \n15  0.8018  0.1881 -0.1407  0.8612 -125.3976          0.8845   \n16  0.9562  0.0005 -0.0839  0.8928   20.5700          0.9548   \n20  0.9514  0.0003 -0.0884  0.9262    0.0005          0.9515   \n21  0.9298  0.0018 -0.1739  0.6155  265.0941          0.9320   \n22  0.8856  0.0657 -0.1757  0.4809 -101.4652          0.8658   \n23  0.9314  0.0001 -0.1071  1.0021    2.6494          0.9293   \n24  0.9004  0.0092 -0.1348  0.9879  158.2920          0.8901   \n25  0.9619  0.0005 -0.1158  0.5756   10.6323          0.9619   \n26  0.9378  0.0005 -0.1180  0.8445   58.0984          0.9381   \n27  0.9867  0.0011 -0.0404  0.6075   36.8122          0.9852   \n28  0.9648  0.0001 -0.0646  0.9594    2.5964          0.9616   \n29  0.9602  0.0001 -0.1357  0.5096    4.6071          0.9602   \n30  0.9512  0.0037 -0.1397  0.5702   89.5062          0.9493   \n31  0.9394  0.0003 -0.1610  0.6069   -0.1738          0.9395   \n32  0.3540  0.0251 -0.1749  0.5225  140.4024          0.6409   \n33  0.7773  0.1874 -0.1340  1.0482  -46.3727          0.8591   \n34  0.9810  0.0009 -0.0353  1.0115    0.4057          0.9810   \n\n    original_delta_left_ci  original_delta_right_ci  original_vega  \\\n0                   0.3597                   0.5529         0.2183   \n1                   0.1999                   0.4238         0.1261   \n2                   0.2839                   0.7209         0.2336   \n3                   0.0696                   0.1718         0.0901   \n4                  -0.0008                   0.0009         0.0001   \n5                  -0.0019                   0.0031         0.0009   \n6                  -0.0079                   0.0395         0.0167   \n7                   0.0000                   0.0000         0.0000   \n8                   0.1796                   0.3801         0.1590   \n9                   0.0000                   0.0000         0.0000   \n10                  0.0000                   0.0000         0.0000   \n11                  0.2754                   0.3683         0.1796   \n12                  0.0033                   0.1258         0.0480   \n13                  0.2528                   0.3431         0.1733   \n14                 -0.0103                   0.0216         0.0052   \n15                  0.2058                   0.7743         0.2170   \n1                   0.8712                   0.9675         0.0312   \n3                   0.5870                   0.7538         0.1712   \n4                   0.9481                   0.9668         0.0005   \n5                   0.9897                   1.0058         0.0005   \n6                   0.9505                   0.9918         0.0011   \n7                   0.8252                   1.0195         0.0427   \n8                   0.8296                   1.0621         0.0493   \n9                   0.4031                   0.8769         0.1833   \n10                  0.9651                   1.0206         0.0013   \n11                  0.7953                   1.0992         0.0249   \n12                  0.8901                   1.1033         0.0058   \n13                  0.7273                   0.9805         0.0847   \n14                  0.7804                   0.9693         0.0496   \n15                  0.8052                   0.9637         0.0640   \n16                  0.9059                   1.0037         0.0060   \n20                  0.8981                   1.0049         0.0016   \n21                  0.9218                   0.9422         0.0009   \n22                  0.7322                   0.9995         0.0878   \n23                  0.8363                   1.0223         0.0098   \n24                  0.7070                   1.0732         0.0437   \n25                  0.9602                   0.9636         0.0001   \n26                  0.9283                   0.9479         0.0004   \n27                  0.8956                   1.0747         0.0069   \n28                  0.8472                   1.0759         0.0129   \n29                  0.9570                   0.9635         0.0002   \n30                  0.8770                   1.0216         0.0092   \n31                  0.9176                   0.9613         0.0007   \n32                  0.4219                   0.8599         0.1740   \n33                  0.7676                   0.9507         0.0648   \n34                  0.9775                   0.9844         0.0003   \n\n    original_vega_left_ci  original_vega_right_ci  original_theta  \\\n0                 -0.1600                  0.5965         -0.0387   \n1                 -0.0869                  0.3391         -0.0712   \n2                 -0.2431                  0.7102         -0.0499   \n3                 -0.0613                  0.2414         -0.0178   \n4                 -0.0017                  0.0019         -0.0000   \n5                 -0.0082                  0.0100         -0.0001   \n6                 -0.0297                  0.0630         -0.0023   \n7                  0.0000                  0.0000         -0.0000   \n8                 -0.1073                  0.4253         -0.0403   \n9                  0.0000                  0.0000         -0.0000   \n10                 0.0000                  0.0000         -0.0000   \n11                -0.0960                  0.4551         -0.0219   \n12                -0.0496                  0.1455         -0.0124   \n13                -0.0916                  0.4382         -0.0247   \n14                -0.0164                  0.0269         -0.0012   \n15                -0.2759                  0.7099         -0.0609   \n1                 -0.1690                  0.2315         -0.0565   \n3                 -0.1564                  0.4987         -0.0682   \n4                 -0.1061                  0.1070         -0.0199   \n5                 -0.1083                  0.1092         -0.0002   \n6                 -0.1554                  0.1575         -0.0148   \n7                 -0.2220                  0.3074         -0.0613   \n8                 -0.3249                  0.4234         -0.0279   \n9                 -0.2714                  0.6379         -0.0880   \n10                -0.2299                  0.2325         -0.0022   \n11                -0.4757                  0.5254         -0.0154   \n12                -0.4373                  0.4489         -0.0018   \n13                -0.3126                  0.4819         -0.0570   \n14                -0.3359                  0.4351         -0.0397   \n15                -0.2515                  0.3796         -0.0487   \n16                -0.2468                  0.2587         -0.0192   \n20                -0.3478                  0.3510          0.0022   \n21                -0.0766                  0.0784         -0.0636   \n22                -0.2253                  0.4009         -0.0828   \n23                -0.4128                  0.4323         -0.0128   \n24                -0.5551                  0.6426         -0.0229   \n25                -0.0315                  0.0318         -0.0389   \n26                -0.0985                  0.0993         -0.0342   \n27                -0.3156                  0.3294         -0.0069   \n28                -0.4601                  0.4859         -0.0077   \n29                -0.0422                  0.0425         -0.0430   \n30                -0.2486                  0.2671         -0.0291   \n31                -0.1622                  0.1637         -0.0120   \n32                -0.2442                  0.5923         -0.0954   \n33                -0.3101                  0.4397         -0.0451   \n34                -0.0706                  0.0712         -0.0075   \n\n    original_theta_left_ci  original_theta_right_ci  original_rho  \\\n0                  -0.0421                   0.1194        0.1916   \n1                  -0.1143                   0.2567        0.0565   \n2                  -0.1257                   0.2254        0.1868   \n3                  -0.0177                   0.0534        0.0434   \n4                  -0.0004                   0.0005        0.0000   \n5                  -0.0014                   0.0016        0.0002   \n6                  -0.0075                   0.0120        0.0060   \n7                   0.0000                   0.0000        0.0000   \n8                  -0.0325                   0.1131        0.1032   \n9                   0.0000                   0.0000        0.0000   \n10                  0.0000                   0.0000        0.0000   \n11                 -0.0244                   0.0682        0.1181   \n12                 -0.0332                   0.0581        0.0168   \n13                 -0.0164                   0.0657        0.1148   \n14                 -0.0075                   0.0099        0.0013   \n15                 -0.1218                   0.2435        0.1767   \n1                  -0.0266                   0.1396        0.2136   \n3                  -0.0331                   0.1695        0.2134   \n4                   0.0067                   0.0332        0.2381   \n5                  -0.0228                   0.0233        0.0193   \n6                  -0.0155                   0.0450        0.2441   \n7                  -0.1860                   0.3087        0.1314   \n8                  -0.1839                   0.2396        0.1750   \n9                  -0.1805                   0.3565        0.1665   \n10                 -0.0324                   0.0368        0.2444   \n11                 -0.2855                   0.3162        0.0700   \n12                 -0.2522                   0.2558        0.0168   \n13                 -0.0990                   0.2129        0.2315   \n14                 -0.0544                   0.1338        0.2796   \n15                 -0.0450                   0.1424        0.2792   \n16                 -0.0565                   0.0950        0.1958   \n20                 -0.1054                   0.1011       -0.0252   \n21                  0.0462                   0.0809        0.2258   \n22                 -0.2249                   0.3904        0.1403   \n23                 -0.1237                   0.1493        0.1054   \n24                 -0.2257                   0.2715        0.1027   \n25                  0.0354                   0.0424        0.1935   \n26                  0.0203                   0.0480        0.2449   \n27                 -0.2474                   0.2612        0.0634   \n28                 -0.1910                   0.2064        0.0747   \n29                  0.0352                   0.0507        0.1613   \n30                 -0.1513                   0.2096        0.1063   \n31                 -0.0440                   0.0681        0.0450   \n32                 -0.1872                   0.3780        0.1522   \n33                 -0.0391                   0.1292        0.3135   \n34                  0.0025                   0.0126        0.2166   \n\n    original_rho_left_ci  original_rho_right_ci  \n0                -0.8119                 1.1952  \n1                -0.5864                 0.6994  \n2                -4.5987                 4.9723  \n3                -0.1696                 0.2565  \n4                -0.0031                 0.0032  \n5                -0.0707                 0.0711  \n6                -0.1067                 0.1187  \n7                 0.0000                 0.0000  \n8                -0.3009                 0.5072  \n9                 0.0000                 0.0000  \n10                0.0000                 0.0000  \n11               -0.6870                 0.9233  \n12               -0.6241                 0.6576  \n13               -0.3044                 0.5339  \n14               -0.0964                 0.0991  \n15               -1.3825                 1.7359  \n1                -0.1381                 0.5653  \n3                -0.3018                 0.7286  \n4                 0.0807                 0.3955  \n5                -2.2596                 2.2981  \n6                -0.2562                 0.7444  \n7                -0.6472                 0.9101  \n8                -2.4496                 2.7996  \n9                -1.1475                 1.4806  \n10               -3.7157                 4.2045  \n11               -2.5507                 2.6907  \n12              -36.3469                36.3805  \n13               -0.6555                 1.1185  \n14               -0.4962                 1.0555  \n15               -0.3831                 0.9416  \n16               -0.6078                 0.9994  \n20               -1.1031                 1.0528  \n21                0.1644                 0.2871  \n22               -0.9384                 1.2190  \n23               -1.1658                 1.3765  \n24               -1.7224                 1.9278  \n25                0.1762                 0.2109  \n26                0.1458                 0.3439  \n27               -3.7569                 3.8837  \n28               -2.8607                 3.0102  \n29                0.1323                 0.1903  \n30               -0.6288                 0.8413  \n31               -0.1656                 0.2555  \n32               -1.0180                 1.3224  \n33               -0.3796                 1.0066  \n34                0.0711                 0.3621  ",
      "text/html": "<div>\n<style scoped>\n    .dataframe tbody tr th:only-of-type {\n        vertical-align: middle;\n    }\n\n    .dataframe tbody tr th {\n        vertical-align: top;\n    }\n\n    .dataframe thead th {\n        text-align: right;\n    }\n</style>\n<table border=\"1\" class=\"dataframe\">\n  <thead>\n    <tr style=\"text-align: right;\">\n      <th></th>\n      <th>delta</th>\n      <th>vega</th>\n      <th>theta</th>\n      <th>rho</th>\n      <th>gamma</th>\n      <th>original_delta</th>\n      <th>original_delta_left_ci</th>\n      <th>original_delta_right_ci</th>\n      <th>original_vega</th>\n      <th>original_vega_left_ci</th>\n      <th>original_vega_right_ci</th>\n      <th>original_theta</th>\n      <th>original_theta_left_ci</th>\n      <th>original_theta_right_ci</th>\n      <th>original_rho</th>\n      <th>original_rho_left_ci</th>\n      <th>original_rho_right_ci</th>\n    </tr>\n  </thead>\n  <tbody>\n    <tr>\n      <th>0</th>\n      <td>0.3788</td>\n      <td>0.0694</td>\n      <td>-0.0025</td>\n      <td>0.0472</td>\n      <td>107.2022</td>\n      <td>0.4563</td>\n      <td>0.3597</td>\n      <td>0.5529</td>\n      <td>0.2183</td>\n      <td>-0.1600</td>\n      <td>0.5965</td>\n      <td>-0.0387</td>\n      <td>-0.0421</td>\n      <td>0.1194</td>\n      <td>0.1916</td>\n      <td>-0.8119</td>\n      <td>1.1952</td>\n    </tr>\n    <tr>\n      <th>1</th>\n      <td>0.1350</td>\n      <td>0.0323</td>\n      <td>-0.0191</td>\n      <td>0.0207</td>\n      <td>15.6345</td>\n      <td>0.3118</td>\n      <td>0.1999</td>\n      <td>0.4238</td>\n      <td>0.1261</td>\n      <td>-0.0869</td>\n      <td>0.3391</td>\n      <td>-0.0712</td>\n      <td>-0.1143</td>\n      <td>0.2567</td>\n      <td>0.0565</td>\n      <td>-0.5864</td>\n      <td>0.6994</td>\n    </tr>\n    <tr>\n      <th>2</th>\n      <td>0.5685</td>\n      <td>0.0160</td>\n      <td>-0.0025</td>\n      <td>0.0472</td>\n      <td>139.6068</td>\n      <td>0.5024</td>\n      <td>0.2839</td>\n      <td>0.7209</td>\n      <td>0.2336</td>\n      <td>-0.2431</td>\n      <td>0.7102</td>\n      <td>-0.0499</td>\n      <td>-0.1257</td>\n      <td>0.2254</td>\n      <td>0.1868</td>\n      <td>-4.5987</td>\n      <td>4.9723</td>\n    </tr>\n    <tr>\n      <th>3</th>\n      <td>0.1123</td>\n      <td>0.1014</td>\n      <td>-0.0150</td>\n      <td>0.0299</td>\n      <td>-71.2211</td>\n      <td>0.1207</td>\n      <td>0.0696</td>\n      <td>0.1718</td>\n      <td>0.0901</td>\n      <td>-0.0613</td>\n      <td>0.2414</td>\n      <td>-0.0178</td>\n      <td>-0.0177</td>\n      <td>0.0534</td>\n      <td>0.0434</td>\n      <td>-0.1696</td>\n      <td>0.2565</td>\n    </tr>\n    <tr>\n      <th>4</th>\n      <td>0.0002</td>\n      <td>0.0001</td>\n      <td>-0.0001</td>\n      <td>0.0001</td>\n      <td>40.8276</td>\n      <td>0.0001</td>\n      <td>-0.0008</td>\n      <td>0.0009</td>\n      <td>0.0001</td>\n      <td>-0.0017</td>\n      <td>0.0019</td>\n      <td>-0.0000</td>\n      <td>-0.0004</td>\n      <td>0.0005</td>\n      <td>0.0000</td>\n      <td>-0.0031</td>\n      <td>0.0032</td>\n    </tr>\n    <tr>\n      <th>5</th>\n      <td>0.0193</td>\n      <td>0.0101</td>\n      <td>-0.0063</td>\n      <td>0.0024</td>\n      <td>-1.1556</td>\n      <td>0.0006</td>\n      <td>-0.0019</td>\n      <td>0.0031</td>\n      <td>0.0009</td>\n      <td>-0.0082</td>\n      <td>0.0100</td>\n      <td>-0.0001</td>\n      <td>-0.0014</td>\n      <td>0.0016</td>\n      <td>0.0002</td>\n      <td>-0.0707</td>\n      <td>0.0711</td>\n    </tr>\n    <tr>\n      <th>6</th>\n      <td>0.0502</td>\n      <td>0.0272</td>\n      <td>-0.0161</td>\n      <td>0.0068</td>\n      <td>-261.8915</td>\n      <td>0.0158</td>\n      <td>-0.0079</td>\n      <td>0.0395</td>\n      <td>0.0167</td>\n      <td>-0.0297</td>\n      <td>0.0630</td>\n      <td>-0.0023</td>\n      <td>-0.0075</td>\n      <td>0.0120</td>\n      <td>0.0060</td>\n      <td>-0.1067</td>\n      <td>0.1187</td>\n    </tr>\n    <tr>\n      <th>7</th>\n      <td>0.0001</td>\n      <td>0.0001</td>\n      <td>-0.0000</td>\n      <td>0.0001</td>\n      <td>22.9962</td>\n      <td>0.0000</td>\n      <td>0.0000</td>\n      <td>0.0000</td>\n      <td>0.0000</td>\n      <td>0.0000</td>\n      <td>0.0000</td>\n      <td>-0.0000</td>\n      <td>0.0000</td>\n      <td>0.0000</td>\n      <td>0.0000</td>\n      <td>0.0000</td>\n      <td>0.0000</td>\n    </tr>\n    <tr>\n      <th>8</th>\n      <td>0.0817</td>\n      <td>0.0664</td>\n      <td>-0.0054</td>\n      <td>0.0281</td>\n      <td>-40.8442</td>\n      <td>0.2798</td>\n      <td>0.1796</td>\n      <td>0.3801</td>\n      <td>0.1590</td>\n      <td>-0.1073</td>\n      <td>0.4253</td>\n      <td>-0.0403</td>\n      <td>-0.0325</td>\n      <td>0.1131</td>\n      <td>0.1032</td>\n      <td>-0.3009</td>\n      <td>0.5072</td>\n    </tr>\n    <tr>\n      <th>9</th>\n      <td>0.0135</td>\n      <td>0.0071</td>\n      <td>-0.0044</td>\n      <td>0.0017</td>\n      <td>122.6596</td>\n      <td>0.0000</td>\n      <td>0.0000</td>\n      <td>0.0000</td>\n      <td>0.0000</td>\n      <td>0.0000</td>\n      <td>0.0000</td>\n      <td>-0.0000</td>\n      <td>0.0000</td>\n      <td>0.0000</td>\n      <td>0.0000</td>\n      <td>0.0000</td>\n      <td>0.0000</td>\n    </tr>\n    <tr>\n      <th>10</th>\n      <td>0.0032</td>\n      <td>0.0017</td>\n      <td>-0.0011</td>\n      <td>0.0004</td>\n      <td>271.8080</td>\n      <td>0.0000</td>\n      <td>0.0000</td>\n      <td>0.0000</td>\n      <td>0.0000</td>\n      <td>0.0000</td>\n      <td>0.0000</td>\n      <td>-0.0000</td>\n      <td>0.0000</td>\n      <td>0.0000</td>\n      <td>0.0000</td>\n      <td>0.0000</td>\n      <td>0.0000</td>\n    </tr>\n    <tr>\n      <th>11</th>\n      <td>0.3366</td>\n      <td>0.1907</td>\n      <td>-0.0072</td>\n      <td>0.0659</td>\n      <td>91.8476</td>\n      <td>0.3219</td>\n      <td>0.2754</td>\n      <td>0.3683</td>\n      <td>0.1796</td>\n      <td>-0.0960</td>\n      <td>0.4551</td>\n      <td>-0.0219</td>\n      <td>-0.0244</td>\n      <td>0.0682</td>\n      <td>0.1181</td>\n      <td>-0.6870</td>\n      <td>0.9233</td>\n    </tr>\n    <tr>\n      <th>12</th>\n      <td>0.1424</td>\n      <td>0.0927</td>\n      <td>-0.0379</td>\n      <td>0.0233</td>\n      <td>-344.0692</td>\n      <td>0.0646</td>\n      <td>0.0033</td>\n      <td>0.1258</td>\n      <td>0.0480</td>\n      <td>-0.0496</td>\n      <td>0.1455</td>\n      <td>-0.0124</td>\n      <td>-0.0332</td>\n      <td>0.0581</td>\n      <td>0.0168</td>\n      <td>-0.6241</td>\n      <td>0.6576</td>\n    </tr>\n    <tr>\n      <th>13</th>\n      <td>0.2138</td>\n      <td>0.1414</td>\n      <td>-0.0058</td>\n      <td>0.0476</td>\n      <td>105.3800</td>\n      <td>0.2979</td>\n      <td>0.2528</td>\n      <td>0.3431</td>\n      <td>0.1733</td>\n      <td>-0.0916</td>\n      <td>0.4382</td>\n      <td>-0.0247</td>\n      <td>-0.0164</td>\n      <td>0.0657</td>\n      <td>0.1148</td>\n      <td>-0.3044</td>\n      <td>0.5339</td>\n    </tr>\n    <tr>\n      <th>14</th>\n      <td>0.0012</td>\n      <td>0.0008</td>\n      <td>-0.0003</td>\n      <td>0.0002</td>\n      <td>201.2386</td>\n      <td>0.0056</td>\n      <td>-0.0103</td>\n      <td>0.0216</td>\n      <td>0.0052</td>\n      <td>-0.0164</td>\n      <td>0.0269</td>\n      <td>-0.0012</td>\n      <td>-0.0075</td>\n      <td>0.0099</td>\n      <td>0.0013</td>\n      <td>-0.0964</td>\n      <td>0.0991</td>\n    </tr>\n    <tr>\n      <th>15</th>\n      <td>0.1394</td>\n      <td>0.0054</td>\n      <td>-0.0016</td>\n      <td>0.0205</td>\n      <td>91.5443</td>\n      <td>0.4901</td>\n      <td>0.2058</td>\n      <td>0.7743</td>\n      <td>0.2170</td>\n      <td>-0.2759</td>\n      <td>0.7099</td>\n      <td>-0.0609</td>\n      <td>-0.1218</td>\n      <td>0.2435</td>\n      <td>0.1767</td>\n      <td>-1.3825</td>\n      <td>1.7359</td>\n    </tr>\n    <tr>\n      <th>1</th>\n      <td>0.8705</td>\n      <td>0.0754</td>\n      <td>-0.1707</td>\n      <td>0.6328</td>\n      <td>-153.2410</td>\n      <td>0.9194</td>\n      <td>0.8712</td>\n      <td>0.9675</td>\n      <td>0.0312</td>\n      <td>-0.1690</td>\n      <td>0.2315</td>\n      <td>-0.0565</td>\n      <td>-0.0266</td>\n      <td>0.1396</td>\n      <td>0.2136</td>\n      <td>-0.1381</td>\n      <td>0.5653</td>\n    </tr>\n    <tr>\n      <th>3</th>\n      <td>0.0833</td>\n      <td>0.2439</td>\n      <td>-0.2399</td>\n      <td>0.5046</td>\n      <td>205.6495</td>\n      <td>0.6704</td>\n      <td>0.5870</td>\n      <td>0.7538</td>\n      <td>0.1712</td>\n      <td>-0.1564</td>\n      <td>0.4987</td>\n      <td>-0.0682</td>\n      <td>-0.0331</td>\n      <td>0.1695</td>\n      <td>0.2134</td>\n      <td>-0.3018</td>\n      <td>0.7286</td>\n    </tr>\n    <tr>\n      <th>4</th>\n      <td>0.9574</td>\n      <td>0.0005</td>\n      <td>-0.0785</td>\n      <td>0.9357</td>\n      <td>8.2712</td>\n      <td>0.9575</td>\n      <td>0.9481</td>\n      <td>0.9668</td>\n      <td>0.0005</td>\n      <td>-0.1061</td>\n      <td>0.1070</td>\n      <td>-0.0199</td>\n      <td>0.0067</td>\n      <td>0.0332</td>\n      <td>0.2381</td>\n      <td>0.0807</td>\n      <td>0.3955</td>\n    </tr>\n    <tr>\n      <th>5</th>\n      <td>0.9977</td>\n      <td>0.0001</td>\n      <td>-0.0068</td>\n      <td>0.6708</td>\n      <td>-1.9436</td>\n      <td>0.9977</td>\n      <td>0.9897</td>\n      <td>1.0058</td>\n      <td>0.0005</td>\n      <td>-0.1083</td>\n      <td>0.1092</td>\n      <td>-0.0002</td>\n      <td>-0.0228</td>\n      <td>0.0233</td>\n      <td>0.0193</td>\n      <td>-2.2596</td>\n      <td>2.2981</td>\n    </tr>\n    <tr>\n      <th>6</th>\n      <td>0.9711</td>\n      <td>0.0006</td>\n      <td>-0.0562</td>\n      <td>0.9298</td>\n      <td>20.9068</td>\n      <td>0.9712</td>\n      <td>0.9505</td>\n      <td>0.9918</td>\n      <td>0.0011</td>\n      <td>-0.1554</td>\n      <td>0.1575</td>\n      <td>-0.0148</td>\n      <td>-0.0155</td>\n      <td>0.0450</td>\n      <td>0.2441</td>\n      <td>-0.2562</td>\n      <td>0.7444</td>\n    </tr>\n    <tr>\n      <th>7</th>\n      <td>0.9154</td>\n      <td>0.0297</td>\n      <td>-0.1704</td>\n      <td>0.4868</td>\n      <td>235.0851</td>\n      <td>0.9224</td>\n      <td>0.8252</td>\n      <td>1.0195</td>\n      <td>0.0427</td>\n      <td>-0.2220</td>\n      <td>0.3074</td>\n      <td>-0.0613</td>\n      <td>-0.1860</td>\n      <td>0.3087</td>\n      <td>0.1314</td>\n      <td>-0.6472</td>\n      <td>0.9101</td>\n    </tr>\n    <tr>\n      <th>8</th>\n      <td>0.9555</td>\n      <td>0.0179</td>\n      <td>-0.0666</td>\n      <td>0.7650</td>\n      <td>115.7739</td>\n      <td>0.9458</td>\n      <td>0.8296</td>\n      <td>1.0621</td>\n      <td>0.0493</td>\n      <td>-0.3249</td>\n      <td>0.4234</td>\n      <td>-0.0279</td>\n      <td>-0.1839</td>\n      <td>0.2396</td>\n      <td>0.1750</td>\n      <td>-2.4496</td>\n      <td>2.7996</td>\n    </tr>\n    <tr>\n      <th>9</th>\n      <td>0.3190</td>\n      <td>0.0161</td>\n      <td>-0.1621</td>\n      <td>0.5987</td>\n      <td>142.3257</td>\n      <td>0.6400</td>\n      <td>0.4031</td>\n      <td>0.8769</td>\n      <td>0.1833</td>\n      <td>-0.2714</td>\n      <td>0.6379</td>\n      <td>-0.0880</td>\n      <td>-0.1805</td>\n      <td>0.3565</td>\n      <td>0.1665</td>\n      <td>-1.1475</td>\n      <td>1.4806</td>\n    </tr>\n    <tr>\n      <th>10</th>\n      <td>0.9928</td>\n      <td>0.0003</td>\n      <td>-0.0111</td>\n      <td>1.2667</td>\n      <td>3.3659</td>\n      <td>0.9928</td>\n      <td>0.9651</td>\n      <td>1.0206</td>\n      <td>0.0013</td>\n      <td>-0.2299</td>\n      <td>0.2325</td>\n      <td>-0.0022</td>\n      <td>-0.0324</td>\n      <td>0.0368</td>\n      <td>0.2444</td>\n      <td>-3.7157</td>\n      <td>4.2045</td>\n    </tr>\n    <tr>\n      <th>11</th>\n      <td>0.9542</td>\n      <td>0.0036</td>\n      <td>-0.0925</td>\n      <td>0.8087</td>\n      <td>87.1935</td>\n      <td>0.9473</td>\n      <td>0.7953</td>\n      <td>1.0992</td>\n      <td>0.0249</td>\n      <td>-0.4757</td>\n      <td>0.5254</td>\n      <td>-0.0154</td>\n      <td>-0.2855</td>\n      <td>0.3162</td>\n      <td>0.0700</td>\n      <td>-2.5507</td>\n      <td>2.6907</td>\n    </tr>\n    <tr>\n      <th>12</th>\n      <td>0.9976</td>\n      <td>0.0002</td>\n      <td>-0.0057</td>\n      <td>0.8141</td>\n      <td>0.4078</td>\n      <td>0.9967</td>\n      <td>0.8901</td>\n      <td>1.1033</td>\n      <td>0.0058</td>\n      <td>-0.4373</td>\n      <td>0.4489</td>\n      <td>-0.0018</td>\n      <td>-0.2522</td>\n      <td>0.2558</td>\n      <td>0.0168</td>\n      <td>-36.3469</td>\n      <td>36.3805</td>\n    </tr>\n    <tr>\n      <th>13</th>\n      <td>0.8701</td>\n      <td>0.0464</td>\n      <td>-0.1597</td>\n      <td>0.8339</td>\n      <td>-39.8164</td>\n      <td>0.8539</td>\n      <td>0.7273</td>\n      <td>0.9805</td>\n      <td>0.0847</td>\n      <td>-0.3126</td>\n      <td>0.4819</td>\n      <td>-0.0570</td>\n      <td>-0.0990</td>\n      <td>0.2129</td>\n      <td>0.2315</td>\n      <td>-0.6555</td>\n      <td>1.1185</td>\n    </tr>\n    <tr>\n      <th>14</th>\n      <td>0.8160</td>\n      <td>0.1301</td>\n      <td>-0.1335</td>\n      <td>1.0495</td>\n      <td>10.1739</td>\n      <td>0.8749</td>\n      <td>0.7804</td>\n      <td>0.9693</td>\n      <td>0.0496</td>\n      <td>-0.3359</td>\n      <td>0.4351</td>\n      <td>-0.0397</td>\n      <td>-0.0544</td>\n      <td>0.1338</td>\n      <td>0.2796</td>\n      <td>-0.4962</td>\n      <td>1.0555</td>\n    </tr>\n    <tr>\n      <th>15</th>\n      <td>0.8018</td>\n      <td>0.1881</td>\n      <td>-0.1407</td>\n      <td>0.8612</td>\n      <td>-125.3976</td>\n      <td>0.8845</td>\n      <td>0.8052</td>\n      <td>0.9637</td>\n      <td>0.0640</td>\n      <td>-0.2515</td>\n      <td>0.3796</td>\n      <td>-0.0487</td>\n      <td>-0.0450</td>\n      <td>0.1424</td>\n      <td>0.2792</td>\n      <td>-0.3831</td>\n      <td>0.9416</td>\n    </tr>\n    <tr>\n      <th>16</th>\n      <td>0.9562</td>\n      <td>0.0005</td>\n      <td>-0.0839</td>\n      <td>0.8928</td>\n      <td>20.5700</td>\n      <td>0.9548</td>\n      <td>0.9059</td>\n      <td>1.0037</td>\n      <td>0.0060</td>\n      <td>-0.2468</td>\n      <td>0.2587</td>\n      <td>-0.0192</td>\n      <td>-0.0565</td>\n      <td>0.0950</td>\n      <td>0.1958</td>\n      <td>-0.6078</td>\n      <td>0.9994</td>\n    </tr>\n    <tr>\n      <th>20</th>\n      <td>0.9514</td>\n      <td>0.0003</td>\n      <td>-0.0884</td>\n      <td>0.9262</td>\n      <td>0.0005</td>\n      <td>0.9515</td>\n      <td>0.8981</td>\n      <td>1.0049</td>\n      <td>0.0016</td>\n      <td>-0.3478</td>\n      <td>0.3510</td>\n      <td>0.0022</td>\n      <td>-0.1054</td>\n      <td>0.1011</td>\n      <td>-0.0252</td>\n      <td>-1.1031</td>\n      <td>1.0528</td>\n    </tr>\n    <tr>\n      <th>21</th>\n      <td>0.9298</td>\n      <td>0.0018</td>\n      <td>-0.1739</td>\n      <td>0.6155</td>\n      <td>265.0941</td>\n      <td>0.9320</td>\n      <td>0.9218</td>\n      <td>0.9422</td>\n      <td>0.0009</td>\n      <td>-0.0766</td>\n      <td>0.0784</td>\n      <td>-0.0636</td>\n      <td>0.0462</td>\n      <td>0.0809</td>\n      <td>0.2258</td>\n      <td>0.1644</td>\n      <td>0.2871</td>\n    </tr>\n    <tr>\n      <th>22</th>\n      <td>0.8856</td>\n      <td>0.0657</td>\n      <td>-0.1757</td>\n      <td>0.4809</td>\n      <td>-101.4652</td>\n      <td>0.8658</td>\n      <td>0.7322</td>\n      <td>0.9995</td>\n      <td>0.0878</td>\n      <td>-0.2253</td>\n      <td>0.4009</td>\n      <td>-0.0828</td>\n      <td>-0.2249</td>\n      <td>0.3904</td>\n      <td>0.1403</td>\n      <td>-0.9384</td>\n      <td>1.2190</td>\n    </tr>\n    <tr>\n      <th>23</th>\n      <td>0.9314</td>\n      <td>0.0001</td>\n      <td>-0.1071</td>\n      <td>1.0021</td>\n      <td>2.6494</td>\n      <td>0.9293</td>\n      <td>0.8363</td>\n      <td>1.0223</td>\n      <td>0.0098</td>\n      <td>-0.4128</td>\n      <td>0.4323</td>\n      <td>-0.0128</td>\n      <td>-0.1237</td>\n      <td>0.1493</td>\n      <td>0.1054</td>\n      <td>-1.1658</td>\n      <td>1.3765</td>\n    </tr>\n    <tr>\n      <th>24</th>\n      <td>0.9004</td>\n      <td>0.0092</td>\n      <td>-0.1348</td>\n      <td>0.9879</td>\n      <td>158.2920</td>\n      <td>0.8901</td>\n      <td>0.7070</td>\n      <td>1.0732</td>\n      <td>0.0437</td>\n      <td>-0.5551</td>\n      <td>0.6426</td>\n      <td>-0.0229</td>\n      <td>-0.2257</td>\n      <td>0.2715</td>\n      <td>0.1027</td>\n      <td>-1.7224</td>\n      <td>1.9278</td>\n    </tr>\n    <tr>\n      <th>25</th>\n      <td>0.9619</td>\n      <td>0.0005</td>\n      <td>-0.1158</td>\n      <td>0.5756</td>\n      <td>10.6323</td>\n      <td>0.9619</td>\n      <td>0.9602</td>\n      <td>0.9636</td>\n      <td>0.0001</td>\n      <td>-0.0315</td>\n      <td>0.0318</td>\n      <td>-0.0389</td>\n      <td>0.0354</td>\n      <td>0.0424</td>\n      <td>0.1935</td>\n      <td>0.1762</td>\n      <td>0.2109</td>\n    </tr>\n    <tr>\n      <th>26</th>\n      <td>0.9378</td>\n      <td>0.0005</td>\n      <td>-0.1180</td>\n      <td>0.8445</td>\n      <td>58.0984</td>\n      <td>0.9381</td>\n      <td>0.9283</td>\n      <td>0.9479</td>\n      <td>0.0004</td>\n      <td>-0.0985</td>\n      <td>0.0993</td>\n      <td>-0.0342</td>\n      <td>0.0203</td>\n      <td>0.0480</td>\n      <td>0.2449</td>\n      <td>0.1458</td>\n      <td>0.3439</td>\n    </tr>\n    <tr>\n      <th>27</th>\n      <td>0.9867</td>\n      <td>0.0011</td>\n      <td>-0.0404</td>\n      <td>0.6075</td>\n      <td>36.8122</td>\n      <td>0.9852</td>\n      <td>0.8956</td>\n      <td>1.0747</td>\n      <td>0.0069</td>\n      <td>-0.3156</td>\n      <td>0.3294</td>\n      <td>-0.0069</td>\n      <td>-0.2474</td>\n      <td>0.2612</td>\n      <td>0.0634</td>\n      <td>-3.7569</td>\n      <td>3.8837</td>\n    </tr>\n    <tr>\n      <th>28</th>\n      <td>0.9648</td>\n      <td>0.0001</td>\n      <td>-0.0646</td>\n      <td>0.9594</td>\n      <td>2.5964</td>\n      <td>0.9616</td>\n      <td>0.8472</td>\n      <td>1.0759</td>\n      <td>0.0129</td>\n      <td>-0.4601</td>\n      <td>0.4859</td>\n      <td>-0.0077</td>\n      <td>-0.1910</td>\n      <td>0.2064</td>\n      <td>0.0747</td>\n      <td>-2.8607</td>\n      <td>3.0102</td>\n    </tr>\n    <tr>\n      <th>29</th>\n      <td>0.9602</td>\n      <td>0.0001</td>\n      <td>-0.1357</td>\n      <td>0.5096</td>\n      <td>4.6071</td>\n      <td>0.9602</td>\n      <td>0.9570</td>\n      <td>0.9635</td>\n      <td>0.0002</td>\n      <td>-0.0422</td>\n      <td>0.0425</td>\n      <td>-0.0430</td>\n      <td>0.0352</td>\n      <td>0.0507</td>\n      <td>0.1613</td>\n      <td>0.1323</td>\n      <td>0.1903</td>\n    </tr>\n    <tr>\n      <th>30</th>\n      <td>0.9512</td>\n      <td>0.0037</td>\n      <td>-0.1397</td>\n      <td>0.5702</td>\n      <td>89.5062</td>\n      <td>0.9493</td>\n      <td>0.8770</td>\n      <td>1.0216</td>\n      <td>0.0092</td>\n      <td>-0.2486</td>\n      <td>0.2671</td>\n      <td>-0.0291</td>\n      <td>-0.1513</td>\n      <td>0.2096</td>\n      <td>0.1063</td>\n      <td>-0.6288</td>\n      <td>0.8413</td>\n    </tr>\n    <tr>\n      <th>31</th>\n      <td>0.9394</td>\n      <td>0.0003</td>\n      <td>-0.1610</td>\n      <td>0.6069</td>\n      <td>-0.1738</td>\n      <td>0.9395</td>\n      <td>0.9176</td>\n      <td>0.9613</td>\n      <td>0.0007</td>\n      <td>-0.1622</td>\n      <td>0.1637</td>\n      <td>-0.0120</td>\n      <td>-0.0440</td>\n      <td>0.0681</td>\n      <td>0.0450</td>\n      <td>-0.1656</td>\n      <td>0.2555</td>\n    </tr>\n    <tr>\n      <th>32</th>\n      <td>0.3540</td>\n      <td>0.0251</td>\n      <td>-0.1749</td>\n      <td>0.5225</td>\n      <td>140.4024</td>\n      <td>0.6409</td>\n      <td>0.4219</td>\n      <td>0.8599</td>\n      <td>0.1740</td>\n      <td>-0.2442</td>\n      <td>0.5923</td>\n      <td>-0.0954</td>\n      <td>-0.1872</td>\n      <td>0.3780</td>\n      <td>0.1522</td>\n      <td>-1.0180</td>\n      <td>1.3224</td>\n    </tr>\n    <tr>\n      <th>33</th>\n      <td>0.7773</td>\n      <td>0.1874</td>\n      <td>-0.1340</td>\n      <td>1.0482</td>\n      <td>-46.3727</td>\n      <td>0.8591</td>\n      <td>0.7676</td>\n      <td>0.9507</td>\n      <td>0.0648</td>\n      <td>-0.3101</td>\n      <td>0.4397</td>\n      <td>-0.0451</td>\n      <td>-0.0391</td>\n      <td>0.1292</td>\n      <td>0.3135</td>\n      <td>-0.3796</td>\n      <td>1.0066</td>\n    </tr>\n    <tr>\n      <th>34</th>\n      <td>0.9810</td>\n      <td>0.0009</td>\n      <td>-0.0353</td>\n      <td>1.0115</td>\n      <td>0.4057</td>\n      <td>0.9810</td>\n      <td>0.9775</td>\n      <td>0.9844</td>\n      <td>0.0003</td>\n      <td>-0.0706</td>\n      <td>0.0712</td>\n      <td>-0.0075</td>\n      <td>0.0025</td>\n      <td>0.0126</td>\n      <td>0.2166</td>\n      <td>0.0711</td>\n      <td>0.3621</td>\n    </tr>\n  </tbody>\n</table>\n</div>"
     },
     "execution_count": 37,
     "metadata": {},
     "output_type": "execute_result"
    }
   ],
   "source": [
    "t_pos.head(53)"
   ],
   "metadata": {
    "collapsed": false,
    "ExecuteTime": {
     "end_time": "2024-04-07T18:51:15.069696Z",
     "start_time": "2024-04-07T18:51:15.023733Z"
    }
   }
  }
 ],
 "metadata": {
  "kernelspec": {
   "display_name": "Python 3",
   "language": "python",
   "name": "python3"
  },
  "language_info": {
   "codemirror_mode": {
    "name": "ipython",
    "version": 2
   },
   "file_extension": ".py",
   "mimetype": "text/x-python",
   "name": "python",
   "nbconvert_exporter": "python",
   "pygments_lexer": "ipython2",
   "version": "2.7.6"
  }
 },
 "nbformat": 4,
 "nbformat_minor": 0
}
