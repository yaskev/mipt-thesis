{
 "cells": [
  {
   "cell_type": "code",
   "execution_count": 20,
   "metadata": {
    "collapsed": true,
    "ExecuteTime": {
     "end_time": "2024-02-10T18:36:30.109771Z",
     "start_time": "2024-02-10T18:36:30.047850Z"
    }
   },
   "outputs": [],
   "source": [
    "import pandas as pd"
   ]
  },
  {
   "cell_type": "markdown",
   "source": [
    "TRAIN"
   ],
   "metadata": {
    "collapsed": false
   }
  },
  {
   "cell_type": "code",
   "execution_count": 21,
   "outputs": [],
   "source": [
    "g_conv = pd.read_csv('datasets/train/greeks_convex.csv')\n",
    "g_pos = pd.read_csv('datasets/train/greeks_positive.csv')\n",
    "g_mc = pd.read_csv('datasets/train/greeks_mc_with_ci.csv')"
   ],
   "metadata": {
    "collapsed": false,
    "ExecuteTime": {
     "end_time": "2024-02-10T18:36:30.111715Z",
     "start_time": "2024-02-10T18:36:30.059541Z"
    }
   }
  },
  {
   "cell_type": "code",
   "execution_count": 22,
   "outputs": [
    {
     "data": {
      "text/plain": "   spot_strike_ratio     ttm  risk_free_rate  volatility    avg_type  \\\n0             0.9317  1.1047          0.0886      0.2364  ARITHMETIC   \n1             0.9711  1.3943          0.0532      0.1891  ARITHMETIC   \n2             0.8641  0.5139          0.1477      0.4491  ARITHMETIC   \n3             1.2540  0.7364          0.1729      0.3078  ARITHMETIC   \n4             0.8090  0.8100          0.1142      0.3076   GEOMETRIC   \n\n   monte_carlo_price  net_price  delta_mc  delta_mc_l_ci  delta_mc_r_ci  \\\n0             0.0480     1.6256    0.4563         0.3597         0.5529   \n1             0.0561     1.6364    0.5403         0.4524         0.6282   \n2             0.0369     1.6217    0.3118         0.1999         0.4238   \n3             0.3045     1.6956    0.9194         0.8712         0.9675   \n4             0.0143     1.4310    0.1585         0.0975         0.2196   \n\n   theta_mc  theta_mc_l_ci  theta_mc_r_ci  rho_mc  rho_mc_l_ci  rho_mc_r_ci  \\\n0   -0.0387        -0.0421         0.1194  0.1916      -0.8119       1.1952   \n1   -0.0286        -0.0326         0.0897  0.2958      -1.3027       1.8944   \n2   -0.0712        -0.1143         0.2567  0.0565      -0.5864       0.6994   \n3   -0.0565        -0.0266         0.1396  0.2136      -0.1381       0.5653   \n4   -0.0233        -0.0360         0.0827  0.0418      -0.3771       0.4607   \n\n   vega_mc  vega_mc_l_ci  vega_mc_r_ci  \n0   0.2183       -0.1600        0.5965  \n1   0.2558       -0.1966        0.7082  \n2   0.1261       -0.0869        0.3391  \n3   0.0312       -0.1690        0.2315  \n4   0.0920       -0.0649        0.2490  ",
      "text/html": "<div>\n<style scoped>\n    .dataframe tbody tr th:only-of-type {\n        vertical-align: middle;\n    }\n\n    .dataframe tbody tr th {\n        vertical-align: top;\n    }\n\n    .dataframe thead th {\n        text-align: right;\n    }\n</style>\n<table border=\"1\" class=\"dataframe\">\n  <thead>\n    <tr style=\"text-align: right;\">\n      <th></th>\n      <th>spot_strike_ratio</th>\n      <th>ttm</th>\n      <th>risk_free_rate</th>\n      <th>volatility</th>\n      <th>avg_type</th>\n      <th>monte_carlo_price</th>\n      <th>net_price</th>\n      <th>delta_mc</th>\n      <th>delta_mc_l_ci</th>\n      <th>delta_mc_r_ci</th>\n      <th>theta_mc</th>\n      <th>theta_mc_l_ci</th>\n      <th>theta_mc_r_ci</th>\n      <th>rho_mc</th>\n      <th>rho_mc_l_ci</th>\n      <th>rho_mc_r_ci</th>\n      <th>vega_mc</th>\n      <th>vega_mc_l_ci</th>\n      <th>vega_mc_r_ci</th>\n    </tr>\n  </thead>\n  <tbody>\n    <tr>\n      <th>0</th>\n      <td>0.9317</td>\n      <td>1.1047</td>\n      <td>0.0886</td>\n      <td>0.2364</td>\n      <td>ARITHMETIC</td>\n      <td>0.0480</td>\n      <td>1.6256</td>\n      <td>0.4563</td>\n      <td>0.3597</td>\n      <td>0.5529</td>\n      <td>-0.0387</td>\n      <td>-0.0421</td>\n      <td>0.1194</td>\n      <td>0.1916</td>\n      <td>-0.8119</td>\n      <td>1.1952</td>\n      <td>0.2183</td>\n      <td>-0.1600</td>\n      <td>0.5965</td>\n    </tr>\n    <tr>\n      <th>1</th>\n      <td>0.9711</td>\n      <td>1.3943</td>\n      <td>0.0532</td>\n      <td>0.1891</td>\n      <td>ARITHMETIC</td>\n      <td>0.0561</td>\n      <td>1.6364</td>\n      <td>0.5403</td>\n      <td>0.4524</td>\n      <td>0.6282</td>\n      <td>-0.0286</td>\n      <td>-0.0326</td>\n      <td>0.0897</td>\n      <td>0.2958</td>\n      <td>-1.3027</td>\n      <td>1.8944</td>\n      <td>0.2558</td>\n      <td>-0.1966</td>\n      <td>0.7082</td>\n    </tr>\n    <tr>\n      <th>2</th>\n      <td>0.8641</td>\n      <td>0.5139</td>\n      <td>0.1477</td>\n      <td>0.4491</td>\n      <td>ARITHMETIC</td>\n      <td>0.0369</td>\n      <td>1.6217</td>\n      <td>0.3118</td>\n      <td>0.1999</td>\n      <td>0.4238</td>\n      <td>-0.0712</td>\n      <td>-0.1143</td>\n      <td>0.2567</td>\n      <td>0.0565</td>\n      <td>-0.5864</td>\n      <td>0.6994</td>\n      <td>0.1261</td>\n      <td>-0.0869</td>\n      <td>0.3391</td>\n    </tr>\n    <tr>\n      <th>3</th>\n      <td>1.2540</td>\n      <td>0.7364</td>\n      <td>0.1729</td>\n      <td>0.3078</td>\n      <td>ARITHMETIC</td>\n      <td>0.3045</td>\n      <td>1.6956</td>\n      <td>0.9194</td>\n      <td>0.8712</td>\n      <td>0.9675</td>\n      <td>-0.0565</td>\n      <td>-0.0266</td>\n      <td>0.1396</td>\n      <td>0.2136</td>\n      <td>-0.1381</td>\n      <td>0.5653</td>\n      <td>0.0312</td>\n      <td>-0.1690</td>\n      <td>0.2315</td>\n    </tr>\n    <tr>\n      <th>4</th>\n      <td>0.8090</td>\n      <td>0.8100</td>\n      <td>0.1142</td>\n      <td>0.3076</td>\n      <td>GEOMETRIC</td>\n      <td>0.0143</td>\n      <td>1.4310</td>\n      <td>0.1585</td>\n      <td>0.0975</td>\n      <td>0.2196</td>\n      <td>-0.0233</td>\n      <td>-0.0360</td>\n      <td>0.0827</td>\n      <td>0.0418</td>\n      <td>-0.3771</td>\n      <td>0.4607</td>\n      <td>0.0920</td>\n      <td>-0.0649</td>\n      <td>0.2490</td>\n    </tr>\n  </tbody>\n</table>\n</div>"
     },
     "execution_count": 22,
     "metadata": {},
     "output_type": "execute_result"
    }
   ],
   "source": [
    "g_mc.head()"
   ],
   "metadata": {
    "collapsed": false,
    "ExecuteTime": {
     "end_time": "2024-02-10T18:36:30.124376Z",
     "start_time": "2024-02-10T18:36:30.097365Z"
    }
   }
  },
  {
   "cell_type": "code",
   "execution_count": 23,
   "outputs": [
    {
     "data": {
      "text/plain": "   spot_strike_ratio     ttm  risk_free_rate  volatility    avg_type  \\\n0             0.9317  1.1047          0.0886      0.2364  ARITHMETIC   \n1             0.9711  1.3943          0.0532      0.1891  ARITHMETIC   \n2             0.8641  0.5139          0.1477      0.4491  ARITHMETIC   \n3             1.2540  0.7364          0.1729      0.3078  ARITHMETIC   \n4             0.8090  0.8100          0.1142      0.3076   GEOMETRIC   \n\n   monte_carlo_price  net_price   delta    vega   theta     rho   gamma  \n0             0.0480     0.0956  0.4001  0.0064 -0.0009  0.0142  1.3949  \n1             0.0561     0.1117  0.4526  0.0076 -0.0003  0.0168  1.4325  \n2             0.0369     0.0715  0.3107  0.0045 -0.0076  0.0103  1.2427  \n3             0.3045     0.2994  0.8276  0.0207 -0.0136  0.0463  0.9183  \n4             0.0143     0.0551  0.2420  0.0034 -0.0017  0.0077  1.0564  ",
      "text/html": "<div>\n<style scoped>\n    .dataframe tbody tr th:only-of-type {\n        vertical-align: middle;\n    }\n\n    .dataframe tbody tr th {\n        vertical-align: top;\n    }\n\n    .dataframe thead th {\n        text-align: right;\n    }\n</style>\n<table border=\"1\" class=\"dataframe\">\n  <thead>\n    <tr style=\"text-align: right;\">\n      <th></th>\n      <th>spot_strike_ratio</th>\n      <th>ttm</th>\n      <th>risk_free_rate</th>\n      <th>volatility</th>\n      <th>avg_type</th>\n      <th>monte_carlo_price</th>\n      <th>net_price</th>\n      <th>delta</th>\n      <th>vega</th>\n      <th>theta</th>\n      <th>rho</th>\n      <th>gamma</th>\n    </tr>\n  </thead>\n  <tbody>\n    <tr>\n      <th>0</th>\n      <td>0.9317</td>\n      <td>1.1047</td>\n      <td>0.0886</td>\n      <td>0.2364</td>\n      <td>ARITHMETIC</td>\n      <td>0.0480</td>\n      <td>0.0956</td>\n      <td>0.4001</td>\n      <td>0.0064</td>\n      <td>-0.0009</td>\n      <td>0.0142</td>\n      <td>1.3949</td>\n    </tr>\n    <tr>\n      <th>1</th>\n      <td>0.9711</td>\n      <td>1.3943</td>\n      <td>0.0532</td>\n      <td>0.1891</td>\n      <td>ARITHMETIC</td>\n      <td>0.0561</td>\n      <td>0.1117</td>\n      <td>0.4526</td>\n      <td>0.0076</td>\n      <td>-0.0003</td>\n      <td>0.0168</td>\n      <td>1.4325</td>\n    </tr>\n    <tr>\n      <th>2</th>\n      <td>0.8641</td>\n      <td>0.5139</td>\n      <td>0.1477</td>\n      <td>0.4491</td>\n      <td>ARITHMETIC</td>\n      <td>0.0369</td>\n      <td>0.0715</td>\n      <td>0.3107</td>\n      <td>0.0045</td>\n      <td>-0.0076</td>\n      <td>0.0103</td>\n      <td>1.2427</td>\n    </tr>\n    <tr>\n      <th>3</th>\n      <td>1.2540</td>\n      <td>0.7364</td>\n      <td>0.1729</td>\n      <td>0.3078</td>\n      <td>ARITHMETIC</td>\n      <td>0.3045</td>\n      <td>0.2994</td>\n      <td>0.8276</td>\n      <td>0.0207</td>\n      <td>-0.0136</td>\n      <td>0.0463</td>\n      <td>0.9183</td>\n    </tr>\n    <tr>\n      <th>4</th>\n      <td>0.8090</td>\n      <td>0.8100</td>\n      <td>0.1142</td>\n      <td>0.3076</td>\n      <td>GEOMETRIC</td>\n      <td>0.0143</td>\n      <td>0.0551</td>\n      <td>0.2420</td>\n      <td>0.0034</td>\n      <td>-0.0017</td>\n      <td>0.0077</td>\n      <td>1.0564</td>\n    </tr>\n  </tbody>\n</table>\n</div>"
     },
     "execution_count": 23,
     "metadata": {},
     "output_type": "execute_result"
    }
   ],
   "source": [
    "g_conv.head()"
   ],
   "metadata": {
    "collapsed": false,
    "ExecuteTime": {
     "end_time": "2024-02-10T18:36:30.172881Z",
     "start_time": "2024-02-10T18:36:30.141311Z"
    }
   }
  },
  {
   "cell_type": "code",
   "execution_count": 24,
   "outputs": [],
   "source": [
    "d_con = ((g_mc['delta_mc_l_ci'] <= g_conv['delta']) & (g_conv['delta'] <= g_mc['delta_mc_r_ci'])).mean()\n",
    "d_pos = ((g_mc['delta_mc_l_ci'] <= g_pos['delta']) & (g_pos['delta'] <= g_mc['delta_mc_r_ci'])).mean()\n",
    "\n",
    "v_con = ((g_mc['vega_mc_l_ci'] <= g_conv['vega']) & (g_conv['vega'] <= g_mc['vega_mc_r_ci'])).mean()\n",
    "v_pos = ((g_mc['vega_mc_l_ci'] <= g_pos['vega']) & (g_pos['vega'] <= g_mc['vega_mc_r_ci'])).mean()\n",
    "\n",
    "t_con = ((g_mc['theta_mc_l_ci'] <= g_conv['theta']) & (g_conv['theta'] <= g_mc['theta_mc_r_ci'])).mean()\n",
    "t_pos = ((g_mc['theta_mc_l_ci'] <= g_pos['theta']) & (g_pos['theta'] <= g_mc['theta_mc_r_ci'])).mean()\n",
    "\n",
    "r_con = ((g_mc['rho_mc_l_ci'] <= g_conv['rho']) & (g_conv['rho'] <= g_mc['rho_mc_r_ci'])).mean()\n",
    "r_pos = ((g_mc['rho_mc_l_ci'] <= g_pos['rho']) & (g_pos['rho'] <= g_mc['rho_mc_r_ci'])).mean()\n"
   ],
   "metadata": {
    "collapsed": false,
    "ExecuteTime": {
     "end_time": "2024-02-10T18:36:30.211791Z",
     "start_time": "2024-02-10T18:36:30.165628Z"
    }
   }
  },
  {
   "cell_type": "code",
   "execution_count": 25,
   "outputs": [
    {
     "name": "stdout",
     "output_type": "stream",
     "text": [
      "\n",
      "Delta: conv: 0.53, pos: 0.63\n",
      "Vega: conv: 0.94, pos: 0.86\n",
      "Theta: conv: 0.8, pos: 0.71\n",
      "Rho: conv: 0.86, pos: 0.89\n",
      "\n"
     ]
    }
   ],
   "source": [
    "print(f'''\n",
    "Delta: conv: {d_con}, pos: {d_pos}\n",
    "Vega: conv: {v_con}, pos: {v_pos}\n",
    "Theta: conv: {t_con}, pos: {t_pos}\n",
    "Rho: conv: {r_con}, pos: {r_pos}\n",
    "''')"
   ],
   "metadata": {
    "collapsed": false,
    "ExecuteTime": {
     "end_time": "2024-02-10T18:36:30.255567Z",
     "start_time": "2024-02-10T18:36:30.172234Z"
    }
   }
  },
  {
   "cell_type": "code",
   "execution_count": 26,
   "outputs": [],
   "source": [
    "d_con_mse = ((g_mc['delta_mc'] - g_conv['delta']) ** 2).mean() ** 0.5\n",
    "d_pos_mse = ((g_mc['delta_mc'] - g_pos['delta']) ** 2).mean() ** 0.5\n",
    "\n",
    "v_con_mse = ((g_mc['vega_mc'] - g_conv['vega']) ** 2).mean() ** 0.5\n",
    "v_pos_mse = ((g_mc['vega_mc'] - g_pos['vega']) ** 2).mean() ** 0.5\n",
    "\n",
    "t_con_mse = ((g_mc['theta_mc'] - g_pos['theta']) ** 2).mean() ** 0.5\n",
    "t_pos_mse = ((g_mc['theta_mc'] - g_pos['theta']) ** 2).mean() ** 0.5\n",
    "\n",
    "r_con_mse = ((g_mc['rho_mc'] - g_pos['rho']) ** 2).mean() ** 0.5\n",
    "r_pos_mse = ((g_mc['rho_mc'] - g_pos['rho']) ** 2).mean() ** 0.5"
   ],
   "metadata": {
    "collapsed": false,
    "ExecuteTime": {
     "end_time": "2024-02-10T18:36:30.272965Z",
     "start_time": "2024-02-10T18:36:30.186751Z"
    }
   }
  },
  {
   "cell_type": "code",
   "execution_count": 27,
   "outputs": [
    {
     "name": "stdout",
     "output_type": "stream",
     "text": [
      "\n",
      "Delta: conv MSE: 0.010339963499999999, pos MSE: 0.006093736200000002\n",
      "Vega: conv MSE: 0.011645618600000004, pos MSE: 0.006032773600000001\n",
      "Theta: conv MSE: 0.00033683129999999994, pos MSE: 0.00033683129999999994\n",
      "Rho: conv MSE: 0.003976680000000001, pos MSE: 0.003976680000000001\n",
      "\n"
     ]
    }
   ],
   "source": [
    "print(f'''\n",
    "Delta: conv MSE: {d_con_mse ** 2}, pos MSE: {d_pos_mse ** 2}\n",
    "Vega: conv MSE: {v_con_mse ** 2}, pos MSE: {v_pos_mse ** 2}\n",
    "Theta: conv MSE: {t_con_mse ** 2}, pos MSE: {t_pos_mse ** 2}\n",
    "Rho: conv MSE: {r_con_mse ** 2}, pos MSE: {r_pos_mse ** 2}\n",
    "''')"
   ],
   "metadata": {
    "collapsed": false,
    "ExecuteTime": {
     "end_time": "2024-02-10T18:36:30.362560Z",
     "start_time": "2024-02-10T18:36:30.193755Z"
    }
   }
  },
  {
   "cell_type": "code",
   "execution_count": 28,
   "outputs": [],
   "source": [
    "d_con = ((g_mc['delta_mc_l_ci'] - g_mc['delta_mc_r_ci']) ** 2).mean()\n",
    "d_pos = ((g_mc['delta_mc_l_ci'] - g_mc['delta_mc_r_ci']) ** 2).mean()\n",
    "\n",
    "v_con = ((g_mc['vega_mc_l_ci'] - g_mc['vega_mc_r_ci']) ** 2).mean()\n",
    "v_pos = ((g_mc['vega_mc_l_ci'] - g_mc['vega_mc_r_ci']) ** 2).mean()\n",
    "\n",
    "t_con = ((g_mc['theta_mc_l_ci'] - g_mc['theta_mc_r_ci']) ** 2).mean()\n",
    "t_pos = ((g_mc['theta_mc_l_ci'] - g_mc['theta_mc_r_ci']) ** 2).mean()\n",
    "\n",
    "r_con = ((g_mc['rho_mc_l_ci'] - g_mc['rho_mc_r_ci']) ** 2).mean()\n",
    "r_pos = ((g_mc['rho_mc_l_ci'] - g_mc['rho_mc_r_ci']) ** 2).mean()"
   ],
   "metadata": {
    "collapsed": false,
    "ExecuteTime": {
     "end_time": "2024-02-10T18:36:30.362966Z",
     "start_time": "2024-02-10T18:36:30.212063Z"
    }
   }
  },
  {
   "cell_type": "code",
   "execution_count": 29,
   "outputs": [
    {
     "name": "stdout",
     "output_type": "stream",
     "text": [
      "\n",
      "Delta CI len: conv: 0.04950114250000001, pos: 0.04950114250000001\n",
      "Vega CI len: conv: 0.3650443414000001, pos: 0.3650443414000001\n",
      "Theta CI len: conv: 0.0699433065, pos: 0.0699433065\n",
      "Rho CI len: conv: 139.90774261869993, pos: 139.90774261869993\n",
      "\n"
     ]
    }
   ],
   "source": [
    "print(f'''\n",
    "Delta CI len: conv: {d_con}, pos: {d_pos}\n",
    "Vega CI len: conv: {v_con}, pos: {v_pos}\n",
    "Theta CI len: conv: {t_con}, pos: {t_pos}\n",
    "Rho CI len: conv: {r_con}, pos: {r_pos}\n",
    "''')"
   ],
   "metadata": {
    "collapsed": false,
    "ExecuteTime": {
     "end_time": "2024-02-10T18:36:30.363328Z",
     "start_time": "2024-02-10T18:36:30.215172Z"
    }
   }
  },
  {
   "cell_type": "markdown",
   "source": [
    "TEST"
   ],
   "metadata": {
    "collapsed": false
   }
  },
  {
   "cell_type": "code",
   "execution_count": 30,
   "outputs": [],
   "source": [
    "t_pos = pd.read_csv('datasets/test/greeks_positive_50.csv')\n",
    "t_con = pd.read_csv('datasets/test/greeks_convex_50.csv')"
   ],
   "metadata": {
    "collapsed": false,
    "ExecuteTime": {
     "end_time": "2024-02-10T18:36:30.363709Z",
     "start_time": "2024-02-10T18:36:30.221828Z"
    }
   }
  },
  {
   "cell_type": "code",
   "execution_count": 31,
   "outputs": [
    {
     "data": {
      "text/plain": "   spot_strike_ratio     ttm  risk_free_rate  volatility    avg_type  \\\n0             0.8146  0.8595          0.0435      0.2221  ARITHMETIC   \n1             1.5307  0.9948          0.0550      0.2459  ARITHMETIC   \n2             1.5920  0.7160          0.1168      0.2292   GEOMETRIC   \n3             1.1679  0.6066          0.1398      0.3709   GEOMETRIC   \n4             0.8591  1.2239          0.0521      0.3361   GEOMETRIC   \n\n   monte_carlo_price  net_price   delta    vega   theta  ...  delta_mc_r_ci  \\\n0             0.0025     0.0235  0.1517  0.0258 -0.0092  ...         0.1015   \n1             0.5430     0.5523  0.9504  0.0465 -0.0200  ...         1.0063   \n2             0.6024     0.5948  0.9629  0.0328 -0.0156  ...         0.9725   \n3             0.2040     0.2187  0.9067  0.1664 -0.0592  ...         0.9259   \n4             0.0311     0.0398  0.2597  0.0498 -0.0177  ...         0.4228   \n\n   theta_mc  theta_mc_l_ci  theta_mc_r_ci  rho_mc  rho_mc_l_ci  rho_mc_r_ci  \\\n0   -0.0087        -0.0177         0.0351  0.0224      -0.4958       0.5406   \n1   -0.0115        -0.0402         0.0631  0.2074      -0.7219       1.1367   \n2   -0.0118        -0.0250         0.0485  0.1135      -0.1106       0.3377   \n3   -0.0578        -0.0853         0.2008  0.1768      -0.4409       0.7944   \n4   -0.0278        -0.0560         0.1116  0.1168      -1.8446       2.0782   \n\n   vega_mc  vega_mc_l_ci  vega_mc_r_ci  \n0   0.0588       -0.0441        0.1618  \n1   0.0001       -0.2099        0.2102  \n2  -0.0423       -0.1577        0.0731  \n3   0.0564       -0.1790        0.2919  \n4   0.1666       -0.1396        0.4728  \n\n[5 rows x 24 columns]",
      "text/html": "<div>\n<style scoped>\n    .dataframe tbody tr th:only-of-type {\n        vertical-align: middle;\n    }\n\n    .dataframe tbody tr th {\n        vertical-align: top;\n    }\n\n    .dataframe thead th {\n        text-align: right;\n    }\n</style>\n<table border=\"1\" class=\"dataframe\">\n  <thead>\n    <tr style=\"text-align: right;\">\n      <th></th>\n      <th>spot_strike_ratio</th>\n      <th>ttm</th>\n      <th>risk_free_rate</th>\n      <th>volatility</th>\n      <th>avg_type</th>\n      <th>monte_carlo_price</th>\n      <th>net_price</th>\n      <th>delta</th>\n      <th>vega</th>\n      <th>theta</th>\n      <th>...</th>\n      <th>delta_mc_r_ci</th>\n      <th>theta_mc</th>\n      <th>theta_mc_l_ci</th>\n      <th>theta_mc_r_ci</th>\n      <th>rho_mc</th>\n      <th>rho_mc_l_ci</th>\n      <th>rho_mc_r_ci</th>\n      <th>vega_mc</th>\n      <th>vega_mc_l_ci</th>\n      <th>vega_mc_r_ci</th>\n    </tr>\n  </thead>\n  <tbody>\n    <tr>\n      <th>0</th>\n      <td>0.8146</td>\n      <td>0.8595</td>\n      <td>0.0435</td>\n      <td>0.2221</td>\n      <td>ARITHMETIC</td>\n      <td>0.0025</td>\n      <td>0.0235</td>\n      <td>0.1517</td>\n      <td>0.0258</td>\n      <td>-0.0092</td>\n      <td>...</td>\n      <td>0.1015</td>\n      <td>-0.0087</td>\n      <td>-0.0177</td>\n      <td>0.0351</td>\n      <td>0.0224</td>\n      <td>-0.4958</td>\n      <td>0.5406</td>\n      <td>0.0588</td>\n      <td>-0.0441</td>\n      <td>0.1618</td>\n    </tr>\n    <tr>\n      <th>1</th>\n      <td>1.5307</td>\n      <td>0.9948</td>\n      <td>0.0550</td>\n      <td>0.2459</td>\n      <td>ARITHMETIC</td>\n      <td>0.5430</td>\n      <td>0.5523</td>\n      <td>0.9504</td>\n      <td>0.0465</td>\n      <td>-0.0200</td>\n      <td>...</td>\n      <td>1.0063</td>\n      <td>-0.0115</td>\n      <td>-0.0402</td>\n      <td>0.0631</td>\n      <td>0.2074</td>\n      <td>-0.7219</td>\n      <td>1.1367</td>\n      <td>0.0001</td>\n      <td>-0.2099</td>\n      <td>0.2102</td>\n    </tr>\n    <tr>\n      <th>2</th>\n      <td>1.5920</td>\n      <td>0.7160</td>\n      <td>0.1168</td>\n      <td>0.2292</td>\n      <td>GEOMETRIC</td>\n      <td>0.6024</td>\n      <td>0.5948</td>\n      <td>0.9629</td>\n      <td>0.0328</td>\n      <td>-0.0156</td>\n      <td>...</td>\n      <td>0.9725</td>\n      <td>-0.0118</td>\n      <td>-0.0250</td>\n      <td>0.0485</td>\n      <td>0.1135</td>\n      <td>-0.1106</td>\n      <td>0.3377</td>\n      <td>-0.0423</td>\n      <td>-0.1577</td>\n      <td>0.0731</td>\n    </tr>\n    <tr>\n      <th>3</th>\n      <td>1.1679</td>\n      <td>0.6066</td>\n      <td>0.1398</td>\n      <td>0.3709</td>\n      <td>GEOMETRIC</td>\n      <td>0.2040</td>\n      <td>0.2187</td>\n      <td>0.9067</td>\n      <td>0.1664</td>\n      <td>-0.0592</td>\n      <td>...</td>\n      <td>0.9259</td>\n      <td>-0.0578</td>\n      <td>-0.0853</td>\n      <td>0.2008</td>\n      <td>0.1768</td>\n      <td>-0.4409</td>\n      <td>0.7944</td>\n      <td>0.0564</td>\n      <td>-0.1790</td>\n      <td>0.2919</td>\n    </tr>\n    <tr>\n      <th>4</th>\n      <td>0.8591</td>\n      <td>1.2239</td>\n      <td>0.0521</td>\n      <td>0.3361</td>\n      <td>GEOMETRIC</td>\n      <td>0.0311</td>\n      <td>0.0398</td>\n      <td>0.2597</td>\n      <td>0.0498</td>\n      <td>-0.0177</td>\n      <td>...</td>\n      <td>0.4228</td>\n      <td>-0.0278</td>\n      <td>-0.0560</td>\n      <td>0.1116</td>\n      <td>0.1168</td>\n      <td>-1.8446</td>\n      <td>2.0782</td>\n      <td>0.1666</td>\n      <td>-0.1396</td>\n      <td>0.4728</td>\n    </tr>\n  </tbody>\n</table>\n<p>5 rows × 24 columns</p>\n</div>"
     },
     "execution_count": 31,
     "metadata": {},
     "output_type": "execute_result"
    }
   ],
   "source": [
    "t_pos.head()"
   ],
   "metadata": {
    "collapsed": false,
    "ExecuteTime": {
     "end_time": "2024-02-10T18:36:30.364773Z",
     "start_time": "2024-02-10T18:36:30.236071Z"
    }
   }
  },
  {
   "cell_type": "code",
   "execution_count": 32,
   "outputs": [],
   "source": [
    "d_con = ((t_con['delta_mc_l_ci'] <= t_con['delta']) & (t_con['delta'] <= t_con['delta_mc_r_ci'])).mean()\n",
    "d_pos = ((t_pos['delta_mc_l_ci'] <= t_pos['delta']) & (t_pos['delta'] <= t_pos['delta_mc_r_ci'])).mean()\n",
    "\n",
    "v_con = ((t_con['vega_mc_l_ci'] <= t_con['vega']) & (t_con['vega'] <= t_con['vega_mc_r_ci'])).mean()\n",
    "v_pos = ((t_pos['vega_mc_l_ci'] <= t_pos['vega']) & (t_pos['vega'] <= t_pos['vega_mc_r_ci'])).mean()\n",
    "\n",
    "th_con = ((t_con['theta_mc_l_ci'] <= t_con['theta']) & (t_con['theta'] <= t_con['theta_mc_r_ci'])).mean()\n",
    "th_pos = ((t_pos['theta_mc_l_ci'] <= t_pos['theta']) & (t_pos['theta'] <= t_pos['theta_mc_r_ci'])).mean()\n",
    "\n",
    "r_con = ((t_con['rho_mc_l_ci'] <= t_con['rho']) & (t_con['rho'] <= t_con['rho_mc_r_ci'])).mean()\n",
    "r_pos = ((t_pos['rho_mc_l_ci'] <= t_pos['rho']) & (t_pos['rho'] <= t_pos['rho_mc_r_ci'])).mean()\n"
   ],
   "metadata": {
    "collapsed": false,
    "ExecuteTime": {
     "end_time": "2024-02-10T18:36:30.389472Z",
     "start_time": "2024-02-10T18:36:30.288485Z"
    }
   }
  },
  {
   "cell_type": "code",
   "execution_count": 33,
   "outputs": [
    {
     "name": "stdout",
     "output_type": "stream",
     "text": [
      "\n",
      "Delta: conv: 0.56, pos: 0.56\n",
      "Vega: conv: 0.98, pos: 0.86\n",
      "Theta: conv: 0.88, pos: 0.74\n",
      "Rho: conv: 0.94, pos: 0.9\n",
      "\n"
     ]
    }
   ],
   "source": [
    "print(f'''\n",
    "Delta: conv: {d_con}, pos: {d_pos}\n",
    "Vega: conv: {v_con}, pos: {v_pos}\n",
    "Theta: conv: {th_con}, pos: {th_pos}\n",
    "Rho: conv: {r_con}, pos: {r_pos}\n",
    "''')"
   ],
   "metadata": {
    "collapsed": false,
    "ExecuteTime": {
     "end_time": "2024-02-10T18:36:30.443232Z",
     "start_time": "2024-02-10T18:36:30.295534Z"
    }
   }
  },
  {
   "cell_type": "code",
   "execution_count": 34,
   "outputs": [],
   "source": [
    "d_con_mse = ((t_con['delta_mc'] - t_con['delta']) ** 2).mean() ** 0.5\n",
    "d_pos_mse = ((t_pos['delta_mc'] - t_pos['delta']) ** 2).mean() ** 0.5\n",
    "\n",
    "v_con_mse = ((t_con['vega_mc'] - t_con['vega']) ** 2).mean() ** 0.5\n",
    "v_pos_mse = ((t_pos['vega_mc'] - t_pos['vega']) ** 2).mean() ** 0.5\n",
    "\n",
    "t_con_mse = ((t_con['theta_mc'] - t_con['theta']) ** 2).mean() ** 0.5\n",
    "t_pos_mse = ((t_pos['theta_mc'] - t_pos['theta']) ** 2).mean() ** 0.5\n",
    "\n",
    "r_con_mse = ((t_con['rho_mc'] - t_con['rho']) ** 2).mean() ** 0.5\n",
    "r_pos_mse = ((t_pos['rho_mc'] - t_pos['rho']) ** 2).mean() ** 0.5\n"
   ],
   "metadata": {
    "collapsed": false,
    "ExecuteTime": {
     "end_time": "2024-02-10T18:36:30.443570Z",
     "start_time": "2024-02-10T18:36:30.311822Z"
    }
   }
  },
  {
   "cell_type": "code",
   "execution_count": 35,
   "outputs": [
    {
     "name": "stdout",
     "output_type": "stream",
     "text": [
      "\n",
      "Delta: conv MSE: 0.0102629644, pos MSE: 0.012193561399999997\n",
      "Vega: conv MSE: 0.008252368799999998, pos MSE: 0.0064849704\n",
      "Theta: conv MSE: 0.000534865, pos MSE: 0.000228486\n",
      "Rho: conv MSE: 0.013466921, pos MSE: 0.0031890712\n",
      "\n"
     ]
    }
   ],
   "source": [
    "print(f'''\n",
    "Delta: conv MSE: {d_con_mse ** 2}, pos MSE: {d_pos_mse ** 2}\n",
    "Vega: conv MSE: {v_con_mse ** 2}, pos MSE: {v_pos_mse ** 2}\n",
    "Theta: conv MSE: {t_con_mse ** 2}, pos MSE: {t_pos_mse ** 2}\n",
    "Rho: conv MSE: {r_con_mse ** 2}, pos MSE: {r_pos_mse ** 2}\n",
    "''')"
   ],
   "metadata": {
    "collapsed": false,
    "ExecuteTime": {
     "end_time": "2024-02-10T18:36:30.443861Z",
     "start_time": "2024-02-10T18:36:30.319874Z"
    }
   }
  },
  {
   "cell_type": "code",
   "execution_count": 36,
   "outputs": [],
   "source": [
    "d_con = ((t_con['delta_mc_l_ci'] - t_con['delta_mc_r_ci']) ** 2).mean()\n",
    "d_pos = ((t_pos['delta_mc_l_ci'] - t_pos['delta_mc_r_ci']) ** 2).mean()\n",
    "\n",
    "v_con = ((t_con['vega_mc_l_ci'] - t_con['vega_mc_r_ci']) ** 2).mean()\n",
    "v_pos = ((t_pos['vega_mc_l_ci'] - t_pos['vega_mc_r_ci']) ** 2).mean()\n",
    "\n",
    "th_con = ((t_con['theta_mc_l_ci'] - t_con['theta_mc_r_ci']) ** 2).mean()\n",
    "th_pos = ((t_pos['theta_mc_l_ci'] - t_pos['theta_mc_r_ci']) ** 2).mean()\n",
    "\n",
    "r_con = ((t_con['rho_mc_l_ci'] - t_con['rho_mc_r_ci']) ** 2).mean()\n",
    "r_pos = ((t_pos['rho_mc_l_ci'] - t_pos['rho_mc_r_ci']) ** 2).mean()"
   ],
   "metadata": {
    "collapsed": false,
    "ExecuteTime": {
     "end_time": "2024-02-10T18:36:30.513036Z",
     "start_time": "2024-02-10T18:36:30.327114Z"
    }
   }
  },
  {
   "cell_type": "code",
   "execution_count": 37,
   "outputs": [
    {
     "name": "stdout",
     "output_type": "stream",
     "text": [
      "\n",
      "Delta CI len: conv: 0.0409299546, pos: 0.0409299546\n",
      "Vega CI len: conv: 0.3768597556, pos: 0.3768597556\n",
      "Theta CI len: conv: 0.060764232400000014, pos: 0.060764232400000014\n",
      "Rho CI len: conv: 2029.8887404766, pos: 2029.8887404766\n",
      "\n"
     ]
    }
   ],
   "source": [
    "print(f'''\n",
    "Delta CI len: conv: {d_con}, pos: {d_pos}\n",
    "Vega CI len: conv: {v_con}, pos: {v_pos}\n",
    "Theta CI len: conv: {th_con}, pos: {th_pos}\n",
    "Rho CI len: conv: {r_con}, pos: {r_pos}\n",
    "''')"
   ],
   "metadata": {
    "collapsed": false,
    "ExecuteTime": {
     "end_time": "2024-02-10T18:36:30.513719Z",
     "start_time": "2024-02-10T18:36:30.341390Z"
    }
   }
  }
 ],
 "metadata": {
  "kernelspec": {
   "display_name": "Python 3",
   "language": "python",
   "name": "python3"
  },
  "language_info": {
   "codemirror_mode": {
    "name": "ipython",
    "version": 2
   },
   "file_extension": ".py",
   "mimetype": "text/x-python",
   "name": "python",
   "nbconvert_exporter": "python",
   "pygments_lexer": "ipython2",
   "version": "2.7.6"
  }
 },
 "nbformat": 4,
 "nbformat_minor": 0
}
