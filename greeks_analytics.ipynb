{
 "cells": [
  {
   "cell_type": "code",
   "execution_count": 70,
   "metadata": {
    "collapsed": true,
    "ExecuteTime": {
     "end_time": "2023-10-29T12:57:06.579893Z",
     "start_time": "2023-10-29T12:57:06.502814Z"
    }
   },
   "outputs": [],
   "source": [
    "import pandas as pd"
   ]
  },
  {
   "cell_type": "markdown",
   "source": [
    "TRAIN"
   ],
   "metadata": {
    "collapsed": false
   }
  },
  {
   "cell_type": "code",
   "execution_count": 71,
   "outputs": [],
   "source": [
    "g_conv = pd.read_csv('datasets/train/greeks_convex.csv')\n",
    "g_pos = pd.read_csv('datasets/train/greeks_positive.csv')\n",
    "g_mc = pd.read_csv('datasets/train/greeks_mc_with_ci.csv')"
   ],
   "metadata": {
    "collapsed": false,
    "ExecuteTime": {
     "end_time": "2023-10-29T12:57:06.580810Z",
     "start_time": "2023-10-29T12:57:06.523933Z"
    }
   }
  },
  {
   "cell_type": "code",
   "execution_count": 72,
   "outputs": [
    {
     "data": {
      "text/plain": "   spot_strike_ratio     ttm  risk_free_rate  volatility    avg_type  \\\n0             0.9317  1.1047          0.0886      0.2364  ARITHMETIC   \n1             0.9711  1.3943          0.0532      0.1891  ARITHMETIC   \n2             0.8641  0.5139          0.1477      0.4491  ARITHMETIC   \n3             1.2540  0.7364          0.1729      0.3078  ARITHMETIC   \n4             0.8090  0.8100          0.1142      0.3076   GEOMETRIC   \n\n   monte_carlo_price  net_price  delta_mc  delta_mc_l_ci  delta_mc_r_ci  \\\n0             0.0480     1.6256    0.4563         0.3597         0.5529   \n1             0.0561     1.6364    0.5403         0.4524         0.6282   \n2             0.0369     1.6217    0.3118         0.1999         0.4238   \n3             0.3045     1.6956    0.9194         0.8712         0.9675   \n4             0.0143     1.4310    0.1585         0.0975         0.2196   \n\n   theta_mc  theta_mc_l_ci  theta_mc_r_ci  rho_mc  rho_mc_l_ci  rho_mc_r_ci  \\\n0   -0.0387        -0.0421         0.1194  0.1916      -0.8119       1.1952   \n1   -0.0286        -0.0326         0.0897  0.2958      -1.3027       1.8944   \n2   -0.0712        -0.1143         0.2567  0.0565      -0.5864       0.6994   \n3   -0.0565        -0.0266         0.1396  0.2136      -0.1381       0.5653   \n4   -0.0233        -0.0360         0.0827  0.0418      -0.3771       0.4607   \n\n   vega_mc  vega_mc_l_ci  vega_mc_r_ci  \n0   0.2183       -0.1600        0.5965  \n1   0.2558       -0.1966        0.7082  \n2   0.1261       -0.0869        0.3391  \n3   0.0312       -0.1690        0.2315  \n4   0.0920       -0.0649        0.2490  ",
      "text/html": "<div>\n<style scoped>\n    .dataframe tbody tr th:only-of-type {\n        vertical-align: middle;\n    }\n\n    .dataframe tbody tr th {\n        vertical-align: top;\n    }\n\n    .dataframe thead th {\n        text-align: right;\n    }\n</style>\n<table border=\"1\" class=\"dataframe\">\n  <thead>\n    <tr style=\"text-align: right;\">\n      <th></th>\n      <th>spot_strike_ratio</th>\n      <th>ttm</th>\n      <th>risk_free_rate</th>\n      <th>volatility</th>\n      <th>avg_type</th>\n      <th>monte_carlo_price</th>\n      <th>net_price</th>\n      <th>delta_mc</th>\n      <th>delta_mc_l_ci</th>\n      <th>delta_mc_r_ci</th>\n      <th>theta_mc</th>\n      <th>theta_mc_l_ci</th>\n      <th>theta_mc_r_ci</th>\n      <th>rho_mc</th>\n      <th>rho_mc_l_ci</th>\n      <th>rho_mc_r_ci</th>\n      <th>vega_mc</th>\n      <th>vega_mc_l_ci</th>\n      <th>vega_mc_r_ci</th>\n    </tr>\n  </thead>\n  <tbody>\n    <tr>\n      <th>0</th>\n      <td>0.9317</td>\n      <td>1.1047</td>\n      <td>0.0886</td>\n      <td>0.2364</td>\n      <td>ARITHMETIC</td>\n      <td>0.0480</td>\n      <td>1.6256</td>\n      <td>0.4563</td>\n      <td>0.3597</td>\n      <td>0.5529</td>\n      <td>-0.0387</td>\n      <td>-0.0421</td>\n      <td>0.1194</td>\n      <td>0.1916</td>\n      <td>-0.8119</td>\n      <td>1.1952</td>\n      <td>0.2183</td>\n      <td>-0.1600</td>\n      <td>0.5965</td>\n    </tr>\n    <tr>\n      <th>1</th>\n      <td>0.9711</td>\n      <td>1.3943</td>\n      <td>0.0532</td>\n      <td>0.1891</td>\n      <td>ARITHMETIC</td>\n      <td>0.0561</td>\n      <td>1.6364</td>\n      <td>0.5403</td>\n      <td>0.4524</td>\n      <td>0.6282</td>\n      <td>-0.0286</td>\n      <td>-0.0326</td>\n      <td>0.0897</td>\n      <td>0.2958</td>\n      <td>-1.3027</td>\n      <td>1.8944</td>\n      <td>0.2558</td>\n      <td>-0.1966</td>\n      <td>0.7082</td>\n    </tr>\n    <tr>\n      <th>2</th>\n      <td>0.8641</td>\n      <td>0.5139</td>\n      <td>0.1477</td>\n      <td>0.4491</td>\n      <td>ARITHMETIC</td>\n      <td>0.0369</td>\n      <td>1.6217</td>\n      <td>0.3118</td>\n      <td>0.1999</td>\n      <td>0.4238</td>\n      <td>-0.0712</td>\n      <td>-0.1143</td>\n      <td>0.2567</td>\n      <td>0.0565</td>\n      <td>-0.5864</td>\n      <td>0.6994</td>\n      <td>0.1261</td>\n      <td>-0.0869</td>\n      <td>0.3391</td>\n    </tr>\n    <tr>\n      <th>3</th>\n      <td>1.2540</td>\n      <td>0.7364</td>\n      <td>0.1729</td>\n      <td>0.3078</td>\n      <td>ARITHMETIC</td>\n      <td>0.3045</td>\n      <td>1.6956</td>\n      <td>0.9194</td>\n      <td>0.8712</td>\n      <td>0.9675</td>\n      <td>-0.0565</td>\n      <td>-0.0266</td>\n      <td>0.1396</td>\n      <td>0.2136</td>\n      <td>-0.1381</td>\n      <td>0.5653</td>\n      <td>0.0312</td>\n      <td>-0.1690</td>\n      <td>0.2315</td>\n    </tr>\n    <tr>\n      <th>4</th>\n      <td>0.8090</td>\n      <td>0.8100</td>\n      <td>0.1142</td>\n      <td>0.3076</td>\n      <td>GEOMETRIC</td>\n      <td>0.0143</td>\n      <td>1.4310</td>\n      <td>0.1585</td>\n      <td>0.0975</td>\n      <td>0.2196</td>\n      <td>-0.0233</td>\n      <td>-0.0360</td>\n      <td>0.0827</td>\n      <td>0.0418</td>\n      <td>-0.3771</td>\n      <td>0.4607</td>\n      <td>0.0920</td>\n      <td>-0.0649</td>\n      <td>0.2490</td>\n    </tr>\n  </tbody>\n</table>\n</div>"
     },
     "execution_count": 72,
     "metadata": {},
     "output_type": "execute_result"
    }
   ],
   "source": [
    "g_mc.head()"
   ],
   "metadata": {
    "collapsed": false,
    "ExecuteTime": {
     "end_time": "2023-10-29T12:57:06.583060Z",
     "start_time": "2023-10-29T12:57:06.560423Z"
    }
   }
  },
  {
   "cell_type": "code",
   "execution_count": 73,
   "outputs": [
    {
     "data": {
      "text/plain": "   spot_strike_ratio     ttm  risk_free_rate  volatility    avg_type  \\\n0             0.9317  1.1047          0.0886      0.2364  ARITHMETIC   \n1             0.9711  1.3943          0.0532      0.1891  ARITHMETIC   \n2             0.8641  0.5139          0.1477      0.4491  ARITHMETIC   \n3             1.2540  0.7364          0.1729      0.3078  ARITHMETIC   \n4             0.8090  0.8100          0.1142      0.3076   GEOMETRIC   \n\n   monte_carlo_price  net_price   delta    vega   theta     rho   gamma  \n0             0.0480     0.0956  0.4001  0.0064 -0.0009  0.0142  1.3949  \n1             0.0561     0.1117  0.4526  0.0076 -0.0003  0.0168  1.4325  \n2             0.0369     0.0715  0.3107  0.0045 -0.0076  0.0103  1.2427  \n3             0.3045     0.2994  0.8276  0.0207 -0.0136  0.0463  0.9183  \n4             0.0143     0.0551  0.2420  0.0034 -0.0017  0.0077  1.0564  ",
      "text/html": "<div>\n<style scoped>\n    .dataframe tbody tr th:only-of-type {\n        vertical-align: middle;\n    }\n\n    .dataframe tbody tr th {\n        vertical-align: top;\n    }\n\n    .dataframe thead th {\n        text-align: right;\n    }\n</style>\n<table border=\"1\" class=\"dataframe\">\n  <thead>\n    <tr style=\"text-align: right;\">\n      <th></th>\n      <th>spot_strike_ratio</th>\n      <th>ttm</th>\n      <th>risk_free_rate</th>\n      <th>volatility</th>\n      <th>avg_type</th>\n      <th>monte_carlo_price</th>\n      <th>net_price</th>\n      <th>delta</th>\n      <th>vega</th>\n      <th>theta</th>\n      <th>rho</th>\n      <th>gamma</th>\n    </tr>\n  </thead>\n  <tbody>\n    <tr>\n      <th>0</th>\n      <td>0.9317</td>\n      <td>1.1047</td>\n      <td>0.0886</td>\n      <td>0.2364</td>\n      <td>ARITHMETIC</td>\n      <td>0.0480</td>\n      <td>0.0956</td>\n      <td>0.4001</td>\n      <td>0.0064</td>\n      <td>-0.0009</td>\n      <td>0.0142</td>\n      <td>1.3949</td>\n    </tr>\n    <tr>\n      <th>1</th>\n      <td>0.9711</td>\n      <td>1.3943</td>\n      <td>0.0532</td>\n      <td>0.1891</td>\n      <td>ARITHMETIC</td>\n      <td>0.0561</td>\n      <td>0.1117</td>\n      <td>0.4526</td>\n      <td>0.0076</td>\n      <td>-0.0003</td>\n      <td>0.0168</td>\n      <td>1.4325</td>\n    </tr>\n    <tr>\n      <th>2</th>\n      <td>0.8641</td>\n      <td>0.5139</td>\n      <td>0.1477</td>\n      <td>0.4491</td>\n      <td>ARITHMETIC</td>\n      <td>0.0369</td>\n      <td>0.0715</td>\n      <td>0.3107</td>\n      <td>0.0045</td>\n      <td>-0.0076</td>\n      <td>0.0103</td>\n      <td>1.2427</td>\n    </tr>\n    <tr>\n      <th>3</th>\n      <td>1.2540</td>\n      <td>0.7364</td>\n      <td>0.1729</td>\n      <td>0.3078</td>\n      <td>ARITHMETIC</td>\n      <td>0.3045</td>\n      <td>0.2994</td>\n      <td>0.8276</td>\n      <td>0.0207</td>\n      <td>-0.0136</td>\n      <td>0.0463</td>\n      <td>0.9183</td>\n    </tr>\n    <tr>\n      <th>4</th>\n      <td>0.8090</td>\n      <td>0.8100</td>\n      <td>0.1142</td>\n      <td>0.3076</td>\n      <td>GEOMETRIC</td>\n      <td>0.0143</td>\n      <td>0.0551</td>\n      <td>0.2420</td>\n      <td>0.0034</td>\n      <td>-0.0017</td>\n      <td>0.0077</td>\n      <td>1.0564</td>\n    </tr>\n  </tbody>\n</table>\n</div>"
     },
     "execution_count": 73,
     "metadata": {},
     "output_type": "execute_result"
    }
   ],
   "source": [
    "g_conv.head()"
   ],
   "metadata": {
    "collapsed": false,
    "ExecuteTime": {
     "end_time": "2023-10-29T12:57:06.596956Z",
     "start_time": "2023-10-29T12:57:06.585308Z"
    }
   }
  },
  {
   "cell_type": "code",
   "execution_count": 74,
   "outputs": [],
   "source": [
    "d_con = ((g_mc['delta_mc_l_ci'] <= g_conv['delta']) & (g_conv['delta'] <= g_mc['delta_mc_r_ci'])).mean()\n",
    "d_pos = ((g_mc['delta_mc_l_ci'] <= g_pos['delta']) & (g_pos['delta'] <= g_mc['delta_mc_r_ci'])).mean()\n",
    "\n",
    "v_con = ((g_mc['vega_mc_l_ci'] <= g_conv['vega']) & (g_conv['vega'] <= g_mc['vega_mc_r_ci'])).mean()\n",
    "v_pos = ((g_mc['vega_mc_l_ci'] <= g_pos['vega']) & (g_pos['vega'] <= g_mc['vega_mc_r_ci'])).mean()\n",
    "\n",
    "t_con = ((g_mc['theta_mc_l_ci'] <= g_conv['theta']) & (g_conv['theta'] <= g_mc['theta_mc_r_ci'])).mean()\n",
    "t_pos = ((g_mc['theta_mc_l_ci'] <= g_pos['theta']) & (g_pos['theta'] <= g_mc['theta_mc_r_ci'])).mean()\n",
    "\n",
    "r_con = ((g_mc['rho_mc_l_ci'] <= g_conv['rho']) & (g_conv['rho'] <= g_mc['rho_mc_r_ci'])).mean()\n",
    "r_pos = ((g_mc['rho_mc_l_ci'] <= g_pos['rho']) & (g_pos['rho'] <= g_mc['rho_mc_r_ci'])).mean()\n"
   ],
   "metadata": {
    "collapsed": false,
    "ExecuteTime": {
     "end_time": "2023-10-29T12:57:06.744536Z",
     "start_time": "2023-10-29T12:57:06.645066Z"
    }
   }
  },
  {
   "cell_type": "code",
   "execution_count": 75,
   "outputs": [
    {
     "name": "stdout",
     "output_type": "stream",
     "text": [
      "\n",
      "Delta: conv: 0.53, pos: 0.63\n",
      "Vega: conv: 0.94, pos: 0.86\n",
      "Theta: conv: 0.8, pos: 0.71\n",
      "Rho: conv: 0.86, pos: 0.89\n",
      "\n"
     ]
    }
   ],
   "source": [
    "print(f'''\n",
    "Delta: conv: {d_con}, pos: {d_pos}\n",
    "Vega: conv: {v_con}, pos: {v_pos}\n",
    "Theta: conv: {t_con}, pos: {t_pos}\n",
    "Rho: conv: {r_con}, pos: {r_pos}\n",
    "''')"
   ],
   "metadata": {
    "collapsed": false,
    "ExecuteTime": {
     "end_time": "2023-10-29T12:57:06.795903Z",
     "start_time": "2023-10-29T12:57:06.651623Z"
    }
   }
  },
  {
   "cell_type": "code",
   "execution_count": 76,
   "outputs": [],
   "source": [
    "d_con_mse = ((g_mc['delta_mc'] - g_conv['delta']) ** 2).mean() ** 0.5\n",
    "d_pos_mse = ((g_mc['delta_mc'] - g_pos['delta']) ** 2).mean() ** 0.5\n",
    "\n",
    "v_con_mse = ((g_mc['vega_mc'] - g_conv['vega']) ** 2).mean() ** 0.5\n",
    "v_pos_mse = ((g_mc['vega_mc'] - g_pos['vega']) ** 2).mean() ** 0.5\n",
    "\n",
    "t_con_mse = ((g_mc['theta_mc'] - g_pos['theta']) ** 2).mean() ** 0.5\n",
    "t_pos_mse = ((g_mc['theta_mc'] - g_pos['theta']) ** 2).mean() ** 0.5\n",
    "\n",
    "r_con_mse = ((g_mc['rho_mc'] - g_pos['rho']) ** 2).mean() ** 0.5\n",
    "r_pos_mse = ((g_mc['rho_mc'] - g_pos['rho']) ** 2).mean() ** 0.5"
   ],
   "metadata": {
    "collapsed": false,
    "ExecuteTime": {
     "end_time": "2023-10-29T12:57:06.876537Z",
     "start_time": "2023-10-29T12:57:06.665002Z"
    }
   }
  },
  {
   "cell_type": "code",
   "execution_count": 77,
   "outputs": [
    {
     "name": "stdout",
     "output_type": "stream",
     "text": [
      "\n",
      "Delta: conv MSE: 0.101685611076494, pos MSE: 0.07806238658918904\n",
      "Vega: conv MSE: 0.10791486737238759, pos MSE: 0.07767093149949987\n",
      "Theta: conv MSE: 0.018352964338220677, pos MSE: 0.018352964338220677\n",
      "Rho: conv MSE: 0.06306092292378855, pos MSE: 0.06306092292378855\n",
      "\n"
     ]
    }
   ],
   "source": [
    "print(f'''\n",
    "Delta: conv MSE: {d_con_mse}, pos MSE: {d_pos_mse}\n",
    "Vega: conv MSE: {v_con_mse}, pos MSE: {v_pos_mse}\n",
    "Theta: conv MSE: {t_con_mse}, pos MSE: {t_pos_mse}\n",
    "Rho: conv MSE: {r_con_mse}, pos MSE: {r_pos_mse}\n",
    "''')"
   ],
   "metadata": {
    "collapsed": false,
    "ExecuteTime": {
     "end_time": "2023-10-29T12:57:06.877179Z",
     "start_time": "2023-10-29T12:57:06.671674Z"
    }
   }
  },
  {
   "cell_type": "markdown",
   "source": [
    "TEST"
   ],
   "metadata": {
    "collapsed": false
   }
  },
  {
   "cell_type": "code",
   "execution_count": 78,
   "outputs": [],
   "source": [
    "t_pos = pd.read_csv('datasets/test/greeks_positive_50.csv')\n",
    "t_con = pd.read_csv('datasets/test/greeks_convex_50.csv')"
   ],
   "metadata": {
    "collapsed": false,
    "ExecuteTime": {
     "end_time": "2023-10-29T12:57:06.877669Z",
     "start_time": "2023-10-29T12:57:06.680483Z"
    }
   }
  },
  {
   "cell_type": "code",
   "execution_count": 79,
   "outputs": [
    {
     "data": {
      "text/plain": "   spot_strike_ratio     ttm  risk_free_rate  volatility    avg_type  \\\n0             1.7346  0.6269          0.0523      0.5235   GEOMETRIC   \n1             1.5193  1.4485          0.0059      0.0609   GEOMETRIC   \n2             1.1478  0.6429          0.0661      0.1605  ARITHMETIC   \n3             1.8118  0.5555          0.0058      0.2791  ARITHMETIC   \n4             1.6592  0.6922          0.0746      0.5121  ARITHMETIC   \n\n   monte_carlo_price  net_price   delta    vega   theta  ...  delta_mc_r_ci  \\\n0             0.7149     0.7349  1.0055  0.0091 -0.0080  ...         0.9980   \n1             0.5207     0.5184  0.9595  0.0621 -0.0252  ...         0.9997   \n2             0.1660     0.1581  0.8068  0.1438 -0.0513  ...         0.9782   \n3             0.8103     0.8266  0.9884  0.0089 -0.0078  ...         1.0439   \n4             0.6707     0.6814  0.9904  0.0137 -0.0094  ...         1.0398   \n\n   theta_mc  theta_mc_l_ci  theta_mc_r_ci  rho_mc  rho_mc_l_ci  rho_mc_r_ci  \\\n0    0.1226        -0.3543         0.1092 -0.6608      -3.4529       2.1312   \n1   -0.0021        -0.0006         0.0047  0.5723      -0.0635       1.2081   \n2   -0.0215        -0.0018         0.0449  0.1956      -0.0307       0.4220   \n3   -0.0641        -0.0161         0.1442  4.7255      -2.8927      12.3437   \n4   -0.0095        -0.2504         0.2693  1.5389      -0.8893       3.9671   \n\n   vega_mc  vega_mc_l_ci  vega_mc_r_ci  \n0  -0.2574       -0.5361        0.0212  \n1   0.0408       -0.0217        0.1033  \n2  -0.0201       -0.1140        0.0739  \n3   0.0422       -0.1174        0.2017  \n4  -0.0023       -0.3539        0.3492  \n\n[5 rows x 24 columns]",
      "text/html": "<div>\n<style scoped>\n    .dataframe tbody tr th:only-of-type {\n        vertical-align: middle;\n    }\n\n    .dataframe tbody tr th {\n        vertical-align: top;\n    }\n\n    .dataframe thead th {\n        text-align: right;\n    }\n</style>\n<table border=\"1\" class=\"dataframe\">\n  <thead>\n    <tr style=\"text-align: right;\">\n      <th></th>\n      <th>spot_strike_ratio</th>\n      <th>ttm</th>\n      <th>risk_free_rate</th>\n      <th>volatility</th>\n      <th>avg_type</th>\n      <th>monte_carlo_price</th>\n      <th>net_price</th>\n      <th>delta</th>\n      <th>vega</th>\n      <th>theta</th>\n      <th>...</th>\n      <th>delta_mc_r_ci</th>\n      <th>theta_mc</th>\n      <th>theta_mc_l_ci</th>\n      <th>theta_mc_r_ci</th>\n      <th>rho_mc</th>\n      <th>rho_mc_l_ci</th>\n      <th>rho_mc_r_ci</th>\n      <th>vega_mc</th>\n      <th>vega_mc_l_ci</th>\n      <th>vega_mc_r_ci</th>\n    </tr>\n  </thead>\n  <tbody>\n    <tr>\n      <th>0</th>\n      <td>1.7346</td>\n      <td>0.6269</td>\n      <td>0.0523</td>\n      <td>0.5235</td>\n      <td>GEOMETRIC</td>\n      <td>0.7149</td>\n      <td>0.7349</td>\n      <td>1.0055</td>\n      <td>0.0091</td>\n      <td>-0.0080</td>\n      <td>...</td>\n      <td>0.9980</td>\n      <td>0.1226</td>\n      <td>-0.3543</td>\n      <td>0.1092</td>\n      <td>-0.6608</td>\n      <td>-3.4529</td>\n      <td>2.1312</td>\n      <td>-0.2574</td>\n      <td>-0.5361</td>\n      <td>0.0212</td>\n    </tr>\n    <tr>\n      <th>1</th>\n      <td>1.5193</td>\n      <td>1.4485</td>\n      <td>0.0059</td>\n      <td>0.0609</td>\n      <td>GEOMETRIC</td>\n      <td>0.5207</td>\n      <td>0.5184</td>\n      <td>0.9595</td>\n      <td>0.0621</td>\n      <td>-0.0252</td>\n      <td>...</td>\n      <td>0.9997</td>\n      <td>-0.0021</td>\n      <td>-0.0006</td>\n      <td>0.0047</td>\n      <td>0.5723</td>\n      <td>-0.0635</td>\n      <td>1.2081</td>\n      <td>0.0408</td>\n      <td>-0.0217</td>\n      <td>0.1033</td>\n    </tr>\n    <tr>\n      <th>2</th>\n      <td>1.1478</td>\n      <td>0.6429</td>\n      <td>0.0661</td>\n      <td>0.1605</td>\n      <td>ARITHMETIC</td>\n      <td>0.1660</td>\n      <td>0.1581</td>\n      <td>0.8068</td>\n      <td>0.1438</td>\n      <td>-0.0513</td>\n      <td>...</td>\n      <td>0.9782</td>\n      <td>-0.0215</td>\n      <td>-0.0018</td>\n      <td>0.0449</td>\n      <td>0.1956</td>\n      <td>-0.0307</td>\n      <td>0.4220</td>\n      <td>-0.0201</td>\n      <td>-0.1140</td>\n      <td>0.0739</td>\n    </tr>\n    <tr>\n      <th>3</th>\n      <td>1.8118</td>\n      <td>0.5555</td>\n      <td>0.0058</td>\n      <td>0.2791</td>\n      <td>ARITHMETIC</td>\n      <td>0.8103</td>\n      <td>0.8266</td>\n      <td>0.9884</td>\n      <td>0.0089</td>\n      <td>-0.0078</td>\n      <td>...</td>\n      <td>1.0439</td>\n      <td>-0.0641</td>\n      <td>-0.0161</td>\n      <td>0.1442</td>\n      <td>4.7255</td>\n      <td>-2.8927</td>\n      <td>12.3437</td>\n      <td>0.0422</td>\n      <td>-0.1174</td>\n      <td>0.2017</td>\n    </tr>\n    <tr>\n      <th>4</th>\n      <td>1.6592</td>\n      <td>0.6922</td>\n      <td>0.0746</td>\n      <td>0.5121</td>\n      <td>ARITHMETIC</td>\n      <td>0.6707</td>\n      <td>0.6814</td>\n      <td>0.9904</td>\n      <td>0.0137</td>\n      <td>-0.0094</td>\n      <td>...</td>\n      <td>1.0398</td>\n      <td>-0.0095</td>\n      <td>-0.2504</td>\n      <td>0.2693</td>\n      <td>1.5389</td>\n      <td>-0.8893</td>\n      <td>3.9671</td>\n      <td>-0.0023</td>\n      <td>-0.3539</td>\n      <td>0.3492</td>\n    </tr>\n  </tbody>\n</table>\n<p>5 rows × 24 columns</p>\n</div>"
     },
     "execution_count": 79,
     "metadata": {},
     "output_type": "execute_result"
    }
   ],
   "source": [
    "t_pos.head()"
   ],
   "metadata": {
    "collapsed": false,
    "ExecuteTime": {
     "end_time": "2023-10-29T12:57:06.881862Z",
     "start_time": "2023-10-29T12:57:06.729985Z"
    }
   }
  },
  {
   "cell_type": "code",
   "execution_count": 80,
   "outputs": [],
   "source": [
    "d_con = ((t_con['delta_mc_l_ci'] <= t_con['delta']) & (t_con['delta'] <= t_con['delta_mc_r_ci'])).mean()\n",
    "d_pos = ((t_pos['delta_mc_l_ci'] <= t_pos['delta']) & (t_pos['delta'] <= t_pos['delta_mc_r_ci'])).mean()\n",
    "\n",
    "v_con = ((t_con['vega_mc_l_ci'] <= t_con['vega']) & (t_con['vega'] <= t_con['vega_mc_r_ci'])).mean()\n",
    "v_pos = ((t_pos['vega_mc_l_ci'] <= t_pos['vega']) & (t_pos['vega'] <= t_pos['vega_mc_r_ci'])).mean()\n",
    "\n",
    "th_con = ((t_con['theta_mc_l_ci'] <= t_con['theta']) & (t_con['theta'] <= t_con['theta_mc_r_ci'])).mean()\n",
    "th_pos = ((t_pos['theta_mc_l_ci'] <= t_pos['theta']) & (t_pos['theta'] <= t_pos['theta_mc_r_ci'])).mean()\n",
    "\n",
    "r_con = ((t_con['rho_mc_l_ci'] <= t_con['rho']) & (t_con['rho'] <= t_con['rho_mc_r_ci'])).mean()\n",
    "r_pos = ((t_pos['rho_mc_l_ci'] <= t_pos['rho']) & (t_pos['rho'] <= t_pos['rho_mc_r_ci'])).mean()\n"
   ],
   "metadata": {
    "collapsed": false,
    "ExecuteTime": {
     "end_time": "2023-10-29T12:57:06.969022Z",
     "start_time": "2023-10-29T12:57:06.761227Z"
    }
   }
  },
  {
   "cell_type": "code",
   "execution_count": 81,
   "outputs": [
    {
     "name": "stdout",
     "output_type": "stream",
     "text": [
      "\n",
      "Delta: conv: 0.48, pos: 0.46\n",
      "Vega: conv: 0.92, pos: 0.86\n",
      "Theta: conv: 0.82, pos: 0.62\n",
      "Rho: conv: 0.86, pos: 0.96\n",
      "\n"
     ]
    }
   ],
   "source": [
    "print(f'''\n",
    "Delta: conv: {d_con}, pos: {d_pos}\n",
    "Vega: conv: {v_con}, pos: {v_pos}\n",
    "Theta: conv: {th_con}, pos: {th_pos}\n",
    "Rho: conv: {r_con}, pos: {r_pos}\n",
    "''')"
   ],
   "metadata": {
    "collapsed": false,
    "ExecuteTime": {
     "end_time": "2023-10-29T12:57:06.994684Z",
     "start_time": "2023-10-29T12:57:06.770890Z"
    }
   }
  },
  {
   "cell_type": "code",
   "execution_count": 82,
   "outputs": [],
   "source": [
    "d_con_mse = ((t_con['delta_mc'] - t_con['delta']) ** 2).mean() ** 0.5\n",
    "d_pos_mse = ((t_pos['delta_mc'] - t_pos['delta']) ** 2).mean() ** 0.5\n",
    "\n",
    "v_con_mse = ((t_con['vega_mc'] - t_con['vega']) ** 2).mean() ** 0.5\n",
    "v_pos_mse = ((t_pos['vega_mc'] - t_pos['vega']) ** 2).mean() ** 0.5\n",
    "\n",
    "t_con_mse = ((t_con['theta_mc'] - t_con['theta']) ** 2).mean() ** 0.5\n",
    "t_pos_mse = ((t_pos['theta_mc'] - t_pos['theta']) ** 2).mean() ** 0.5\n",
    "\n",
    "r_con_mse = ((t_con['rho_mc'] - t_con['rho']) ** 2).mean() ** 0.5\n",
    "r_pos_mse = ((t_pos['rho_mc'] - t_pos['rho']) ** 2).mean() ** 0.5"
   ],
   "metadata": {
    "collapsed": false,
    "ExecuteTime": {
     "end_time": "2023-10-29T12:57:06.995020Z",
     "start_time": "2023-10-29T12:57:06.785733Z"
    }
   }
  },
  {
   "cell_type": "code",
   "execution_count": 83,
   "outputs": [
    {
     "name": "stdout",
     "output_type": "stream",
     "text": [
      "\n",
      "Delta: conv MSE: 0.10403818818107127, pos MSE: 0.11045914991525149\n",
      "Vega: conv MSE: 0.14918508437508088, pos MSE: 0.12228528938510962\n",
      "Theta: conv MSE: 0.0658258976391511, pos MSE: 0.045677561230871334\n",
      "Rho: conv MSE: 1.3230317615235094, pos MSE: 1.1744460891841737\n",
      "\n"
     ]
    }
   ],
   "source": [
    "print(f'''\n",
    "Delta: conv MSE: {d_con_mse}, pos MSE: {d_pos_mse}\n",
    "Vega: conv MSE: {v_con_mse}, pos MSE: {v_pos_mse}\n",
    "Theta: conv MSE: {t_con_mse}, pos MSE: {t_pos_mse}\n",
    "Rho: conv MSE: {r_con_mse}, pos MSE: {r_pos_mse}\n",
    "''')"
   ],
   "metadata": {
    "collapsed": false,
    "ExecuteTime": {
     "end_time": "2023-10-29T12:57:06.995333Z",
     "start_time": "2023-10-29T12:57:06.792395Z"
    }
   }
  }
 ],
 "metadata": {
  "kernelspec": {
   "display_name": "Python 3",
   "language": "python",
   "name": "python3"
  },
  "language_info": {
   "codemirror_mode": {
    "name": "ipython",
    "version": 2
   },
   "file_extension": ".py",
   "mimetype": "text/x-python",
   "name": "python",
   "nbconvert_exporter": "python",
   "pygments_lexer": "ipython2",
   "version": "2.7.6"
  }
 },
 "nbformat": 4,
 "nbformat_minor": 0
}
